{
 "cells": [
  {
   "cell_type": "markdown",
   "metadata": {
    "_uuid": "62b090b7913da8a4019515a6540f982f4a7767fa"
   },
   "source": [
    "> **Problem overview**\n",
    "\n",
    "This challenge serves as final project for the \"How to win a data science competition\" Coursera course. In this competition you will work with a challenging time-series dataset consisting of daily sales data, kindly provided by one of the largest Russian software firms - 1C Company. \n",
    "\n",
    "We are asking you to predict total sales for every product and store in the next month. By solving this competition you will be able to apply and enhance your data science skills."
   ]
  },
  {
   "cell_type": "code",
   "execution_count": 1,
   "metadata": {
    "_cell_guid": "b1076dfc-b9ad-4769-8c92-a6c4dae69d19",
    "_uuid": "8f2839f25d086af736a60e9eeb907d3b93b6e0e5"
   },
   "outputs": [],
   "source": [
    "# import python standard library\n",
    "import gc, itertools\n",
    "\n",
    "# import data manipulation library\n",
    "import numpy as np\n",
    "import pandas as pd\n",
    "\n",
    "# import data visualization library\n",
    "import matplotlib.pyplot as plt\n",
    "import seaborn as sns\n",
    "\n",
    "# import sklearn data preprocessing\n",
    "from sklearn.preprocessing import LabelEncoder\n",
    "\n",
    "# import xgboost model class\n",
    "import xgboost as xgb\n",
    "\n",
    "# import sklearn model selection\n",
    "from sklearn.model_selection import cross_val_score\n",
    "from sklearn.model_selection import train_test_split\n",
    "\n",
    "# import sklearn model evaluation regression metrics\n",
    "from sklearn.metrics import mean_squared_error"
   ]
  },
  {
   "cell_type": "code",
   "execution_count": 2,
   "metadata": {},
   "outputs": [],
   "source": [
    "# pandas options\n",
    "pd.options.display.max_rows = 10"
   ]
  },
  {
   "cell_type": "markdown",
   "metadata": {
    "_uuid": "63bac28c47a40969bd0349adf87b90f669b4330f"
   },
   "source": [
    "> **Acquiring training and testing data**\n",
    "\n",
    "We start by acquiring the training and testing datasets into Pandas DataFrames."
   ]
  },
  {
   "cell_type": "code",
   "execution_count": 3,
   "metadata": {
    "_cell_guid": "79c7e3d0-c299-4dcb-8224-4455121ee9b0",
    "_uuid": "d629ff2d2480ee46fbb7e2d37f6b5fab8052498a"
   },
   "outputs": [],
   "source": [
    "# acquiring training and testing data\n",
    "df_train = pd.read_csv('../input/sales_train.csv')\n",
    "df_test = pd.read_csv('../input/test.csv')"
   ]
  },
  {
   "cell_type": "code",
   "execution_count": 4,
   "metadata": {},
   "outputs": [],
   "source": [
    "# acquiring supplemental information\n",
    "df_items = pd.read_csv('../input/items.csv')\n",
    "df_categories = pd.read_csv('../input/item_categories.csv')\n",
    "df_shops = pd.read_csv('../input/shops.csv')"
   ]
  },
  {
   "cell_type": "code",
   "execution_count": 5,
   "metadata": {
    "_uuid": "773d8c286e14a1e9006e8b6a3807870cf23d4413"
   },
   "outputs": [
    {
     "data": {
      "text/html": [
       "<div>\n",
       "<style scoped>\n",
       "    .dataframe tbody tr th:only-of-type {\n",
       "        vertical-align: middle;\n",
       "    }\n",
       "\n",
       "    .dataframe tbody tr th {\n",
       "        vertical-align: top;\n",
       "    }\n",
       "\n",
       "    .dataframe thead th {\n",
       "        text-align: right;\n",
       "    }\n",
       "</style>\n",
       "<table border=\"1\" class=\"dataframe\">\n",
       "  <thead>\n",
       "    <tr style=\"text-align: right;\">\n",
       "      <th></th>\n",
       "      <th>date</th>\n",
       "      <th>date_block_num</th>\n",
       "      <th>shop_id</th>\n",
       "      <th>item_id</th>\n",
       "      <th>item_price</th>\n",
       "      <th>item_cnt_day</th>\n",
       "    </tr>\n",
       "  </thead>\n",
       "  <tbody>\n",
       "    <tr>\n",
       "      <th>0</th>\n",
       "      <td>02.01.2013</td>\n",
       "      <td>0</td>\n",
       "      <td>59</td>\n",
       "      <td>22154</td>\n",
       "      <td>999.00</td>\n",
       "      <td>1.0</td>\n",
       "    </tr>\n",
       "    <tr>\n",
       "      <th>1</th>\n",
       "      <td>03.01.2013</td>\n",
       "      <td>0</td>\n",
       "      <td>25</td>\n",
       "      <td>2552</td>\n",
       "      <td>899.00</td>\n",
       "      <td>1.0</td>\n",
       "    </tr>\n",
       "    <tr>\n",
       "      <th>2</th>\n",
       "      <td>05.01.2013</td>\n",
       "      <td>0</td>\n",
       "      <td>25</td>\n",
       "      <td>2552</td>\n",
       "      <td>899.00</td>\n",
       "      <td>-1.0</td>\n",
       "    </tr>\n",
       "    <tr>\n",
       "      <th>3</th>\n",
       "      <td>06.01.2013</td>\n",
       "      <td>0</td>\n",
       "      <td>25</td>\n",
       "      <td>2554</td>\n",
       "      <td>1709.05</td>\n",
       "      <td>1.0</td>\n",
       "    </tr>\n",
       "    <tr>\n",
       "      <th>4</th>\n",
       "      <td>15.01.2013</td>\n",
       "      <td>0</td>\n",
       "      <td>25</td>\n",
       "      <td>2555</td>\n",
       "      <td>1099.00</td>\n",
       "      <td>1.0</td>\n",
       "    </tr>\n",
       "  </tbody>\n",
       "</table>\n",
       "</div>"
      ],
      "text/plain": [
       "         date  date_block_num      ...       item_price  item_cnt_day\n",
       "0  02.01.2013               0      ...           999.00           1.0\n",
       "1  03.01.2013               0      ...           899.00           1.0\n",
       "2  05.01.2013               0      ...           899.00          -1.0\n",
       "3  06.01.2013               0      ...          1709.05           1.0\n",
       "4  15.01.2013               0      ...          1099.00           1.0\n",
       "\n",
       "[5 rows x 6 columns]"
      ]
     },
     "execution_count": 5,
     "metadata": {},
     "output_type": "execute_result"
    }
   ],
   "source": [
    "# visualize head of the training data\n",
    "df_train.head(n=5)"
   ]
  },
  {
   "cell_type": "code",
   "execution_count": 6,
   "metadata": {
    "_uuid": "2866ad35c88e0fa0f72e0480a141ff4aa51af4de"
   },
   "outputs": [
    {
     "data": {
      "text/html": [
       "<div>\n",
       "<style scoped>\n",
       "    .dataframe tbody tr th:only-of-type {\n",
       "        vertical-align: middle;\n",
       "    }\n",
       "\n",
       "    .dataframe tbody tr th {\n",
       "        vertical-align: top;\n",
       "    }\n",
       "\n",
       "    .dataframe thead th {\n",
       "        text-align: right;\n",
       "    }\n",
       "</style>\n",
       "<table border=\"1\" class=\"dataframe\">\n",
       "  <thead>\n",
       "    <tr style=\"text-align: right;\">\n",
       "      <th></th>\n",
       "      <th>ID</th>\n",
       "      <th>shop_id</th>\n",
       "      <th>item_id</th>\n",
       "    </tr>\n",
       "  </thead>\n",
       "  <tbody>\n",
       "    <tr>\n",
       "      <th>214195</th>\n",
       "      <td>214195</td>\n",
       "      <td>45</td>\n",
       "      <td>18454</td>\n",
       "    </tr>\n",
       "    <tr>\n",
       "      <th>214196</th>\n",
       "      <td>214196</td>\n",
       "      <td>45</td>\n",
       "      <td>16188</td>\n",
       "    </tr>\n",
       "    <tr>\n",
       "      <th>214197</th>\n",
       "      <td>214197</td>\n",
       "      <td>45</td>\n",
       "      <td>15757</td>\n",
       "    </tr>\n",
       "    <tr>\n",
       "      <th>214198</th>\n",
       "      <td>214198</td>\n",
       "      <td>45</td>\n",
       "      <td>19648</td>\n",
       "    </tr>\n",
       "    <tr>\n",
       "      <th>214199</th>\n",
       "      <td>214199</td>\n",
       "      <td>45</td>\n",
       "      <td>969</td>\n",
       "    </tr>\n",
       "  </tbody>\n",
       "</table>\n",
       "</div>"
      ],
      "text/plain": [
       "            ID  shop_id  item_id\n",
       "214195  214195       45    18454\n",
       "214196  214196       45    16188\n",
       "214197  214197       45    15757\n",
       "214198  214198       45    19648\n",
       "214199  214199       45      969"
      ]
     },
     "execution_count": 6,
     "metadata": {},
     "output_type": "execute_result"
    }
   ],
   "source": [
    "# visualize tail of the testing data\n",
    "df_test.tail(n=5)"
   ]
  },
  {
   "cell_type": "code",
   "execution_count": 7,
   "metadata": {},
   "outputs": [
    {
     "data": {
      "text/html": [
       "<div>\n",
       "<style scoped>\n",
       "    .dataframe tbody tr th:only-of-type {\n",
       "        vertical-align: middle;\n",
       "    }\n",
       "\n",
       "    .dataframe tbody tr th {\n",
       "        vertical-align: top;\n",
       "    }\n",
       "\n",
       "    .dataframe thead th {\n",
       "        text-align: right;\n",
       "    }\n",
       "</style>\n",
       "<table border=\"1\" class=\"dataframe\">\n",
       "  <thead>\n",
       "    <tr style=\"text-align: right;\">\n",
       "      <th></th>\n",
       "      <th>item_name</th>\n",
       "      <th>item_id</th>\n",
       "      <th>item_category_id</th>\n",
       "    </tr>\n",
       "  </thead>\n",
       "  <tbody>\n",
       "    <tr>\n",
       "      <th>0</th>\n",
       "      <td>! ВО ВЛАСТИ НАВАЖДЕНИЯ (ПЛАСТ.)         D</td>\n",
       "      <td>0</td>\n",
       "      <td>40</td>\n",
       "    </tr>\n",
       "    <tr>\n",
       "      <th>1</th>\n",
       "      <td>!ABBYY FineReader 12 Professional Edition Full...</td>\n",
       "      <td>1</td>\n",
       "      <td>76</td>\n",
       "    </tr>\n",
       "    <tr>\n",
       "      <th>2</th>\n",
       "      <td>***В ЛУЧАХ СЛАВЫ   (UNV)                    D</td>\n",
       "      <td>2</td>\n",
       "      <td>40</td>\n",
       "    </tr>\n",
       "    <tr>\n",
       "      <th>3</th>\n",
       "      <td>***ГОЛУБАЯ ВОЛНА  (Univ)                      D</td>\n",
       "      <td>3</td>\n",
       "      <td>40</td>\n",
       "    </tr>\n",
       "    <tr>\n",
       "      <th>4</th>\n",
       "      <td>***КОРОБКА (СТЕКЛО)                       D</td>\n",
       "      <td>4</td>\n",
       "      <td>40</td>\n",
       "    </tr>\n",
       "  </tbody>\n",
       "</table>\n",
       "</div>"
      ],
      "text/plain": [
       "                                           item_name        ...         item_category_id\n",
       "0          ! ВО ВЛАСТИ НАВАЖДЕНИЯ (ПЛАСТ.)         D        ...                       40\n",
       "1  !ABBYY FineReader 12 Professional Edition Full...        ...                       76\n",
       "2      ***В ЛУЧАХ СЛАВЫ   (UNV)                    D        ...                       40\n",
       "3    ***ГОЛУБАЯ ВОЛНА  (Univ)                      D        ...                       40\n",
       "4        ***КОРОБКА (СТЕКЛО)                       D        ...                       40\n",
       "\n",
       "[5 rows x 3 columns]"
      ]
     },
     "execution_count": 7,
     "metadata": {},
     "output_type": "execute_result"
    }
   ],
   "source": [
    "# visualize head of the supplemental information about the items/products\n",
    "df_items.head(n=5)"
   ]
  },
  {
   "cell_type": "code",
   "execution_count": 8,
   "metadata": {},
   "outputs": [
    {
     "data": {
      "text/html": [
       "<div>\n",
       "<style scoped>\n",
       "    .dataframe tbody tr th:only-of-type {\n",
       "        vertical-align: middle;\n",
       "    }\n",
       "\n",
       "    .dataframe tbody tr th {\n",
       "        vertical-align: top;\n",
       "    }\n",
       "\n",
       "    .dataframe thead th {\n",
       "        text-align: right;\n",
       "    }\n",
       "</style>\n",
       "<table border=\"1\" class=\"dataframe\">\n",
       "  <thead>\n",
       "    <tr style=\"text-align: right;\">\n",
       "      <th></th>\n",
       "      <th>item_category_name</th>\n",
       "      <th>item_category_id</th>\n",
       "    </tr>\n",
       "  </thead>\n",
       "  <tbody>\n",
       "    <tr>\n",
       "      <th>0</th>\n",
       "      <td>PC - Гарнитуры/Наушники</td>\n",
       "      <td>0</td>\n",
       "    </tr>\n",
       "    <tr>\n",
       "      <th>1</th>\n",
       "      <td>Аксессуары - PS2</td>\n",
       "      <td>1</td>\n",
       "    </tr>\n",
       "    <tr>\n",
       "      <th>2</th>\n",
       "      <td>Аксессуары - PS3</td>\n",
       "      <td>2</td>\n",
       "    </tr>\n",
       "    <tr>\n",
       "      <th>3</th>\n",
       "      <td>Аксессуары - PS4</td>\n",
       "      <td>3</td>\n",
       "    </tr>\n",
       "    <tr>\n",
       "      <th>4</th>\n",
       "      <td>Аксессуары - PSP</td>\n",
       "      <td>4</td>\n",
       "    </tr>\n",
       "  </tbody>\n",
       "</table>\n",
       "</div>"
      ],
      "text/plain": [
       "        item_category_name  item_category_id\n",
       "0  PC - Гарнитуры/Наушники                 0\n",
       "1         Аксессуары - PS2                 1\n",
       "2         Аксессуары - PS3                 2\n",
       "3         Аксессуары - PS4                 3\n",
       "4         Аксессуары - PSP                 4"
      ]
     },
     "execution_count": 8,
     "metadata": {},
     "output_type": "execute_result"
    }
   ],
   "source": [
    "# visualize head of the supplemental information about the items categories\n",
    "df_categories.head(n=5)"
   ]
  },
  {
   "cell_type": "code",
   "execution_count": 9,
   "metadata": {},
   "outputs": [
    {
     "data": {
      "text/html": [
       "<div>\n",
       "<style scoped>\n",
       "    .dataframe tbody tr th:only-of-type {\n",
       "        vertical-align: middle;\n",
       "    }\n",
       "\n",
       "    .dataframe tbody tr th {\n",
       "        vertical-align: top;\n",
       "    }\n",
       "\n",
       "    .dataframe thead th {\n",
       "        text-align: right;\n",
       "    }\n",
       "</style>\n",
       "<table border=\"1\" class=\"dataframe\">\n",
       "  <thead>\n",
       "    <tr style=\"text-align: right;\">\n",
       "      <th></th>\n",
       "      <th>shop_name</th>\n",
       "      <th>shop_id</th>\n",
       "    </tr>\n",
       "  </thead>\n",
       "  <tbody>\n",
       "    <tr>\n",
       "      <th>0</th>\n",
       "      <td>!Якутск Орджоникидзе, 56 фран</td>\n",
       "      <td>0</td>\n",
       "    </tr>\n",
       "    <tr>\n",
       "      <th>1</th>\n",
       "      <td>!Якутск ТЦ \"Центральный\" фран</td>\n",
       "      <td>1</td>\n",
       "    </tr>\n",
       "    <tr>\n",
       "      <th>2</th>\n",
       "      <td>Адыгея ТЦ \"Мега\"</td>\n",
       "      <td>2</td>\n",
       "    </tr>\n",
       "    <tr>\n",
       "      <th>3</th>\n",
       "      <td>Балашиха ТРК \"Октябрь-Киномир\"</td>\n",
       "      <td>3</td>\n",
       "    </tr>\n",
       "    <tr>\n",
       "      <th>4</th>\n",
       "      <td>Волжский ТЦ \"Волга Молл\"</td>\n",
       "      <td>4</td>\n",
       "    </tr>\n",
       "  </tbody>\n",
       "</table>\n",
       "</div>"
      ],
      "text/plain": [
       "                        shop_name  shop_id\n",
       "0   !Якутск Орджоникидзе, 56 фран        0\n",
       "1   !Якутск ТЦ \"Центральный\" фран        1\n",
       "2                Адыгея ТЦ \"Мега\"        2\n",
       "3  Балашиха ТРК \"Октябрь-Киномир\"        3\n",
       "4        Волжский ТЦ \"Волга Молл\"        4"
      ]
     },
     "execution_count": 9,
     "metadata": {},
     "output_type": "execute_result"
    }
   ],
   "source": [
    "# visualize head of the supplemental information about the shops\n",
    "df_shops.head(n=5)"
   ]
  },
  {
   "cell_type": "code",
   "execution_count": 10,
   "metadata": {
    "_uuid": "76f1ac478aa137a8885c0362ad9ce423de5a080a"
   },
   "outputs": [],
   "source": [
    "# combine training and testing dataframe\n",
    "df_train['datatype'], df_test['datatype'] = 'training', 'testing'\n",
    "df_train.insert(0, 'ID', np.nan)\n",
    "df_test.insert(1, 'date', '01.11.2015')\n",
    "df_test.insert(2, 'date_block_num', 34)\n",
    "df_test.insert(df_test.shape[1] - 1, 'item_price', np.nan)\n",
    "df_test.insert(df_test.shape[1] - 1, 'item_cnt_day', np.nan)\n",
    "df_data = pd.concat([df_train, df_test], ignore_index=False)"
   ]
  },
  {
   "cell_type": "markdown",
   "metadata": {
    "_uuid": "f832542c3bb2d027cd91eaace7bce30f3a2af300"
   },
   "source": [
    "> **Feature exploration, engineering and cleansing**\n",
    "\n",
    "Here we generate descriptive statistics that summarize the central tendency, dispersion and shape of a dataset’s distribution together with exploring some data."
   ]
  },
  {
   "cell_type": "code",
   "execution_count": 11,
   "metadata": {
    "_uuid": "702692507ca048457608d42c2907d4a7d7bd768a"
   },
   "outputs": [
    {
     "data": {
      "text/html": [
       "<div>\n",
       "<style scoped>\n",
       "    .dataframe tbody tr th:only-of-type {\n",
       "        vertical-align: middle;\n",
       "    }\n",
       "\n",
       "    .dataframe tbody tr th {\n",
       "        vertical-align: top;\n",
       "    }\n",
       "\n",
       "    .dataframe thead th {\n",
       "        text-align: right;\n",
       "    }\n",
       "</style>\n",
       "<table border=\"1\" class=\"dataframe\">\n",
       "  <thead>\n",
       "    <tr style=\"text-align: right;\">\n",
       "      <th></th>\n",
       "      <th>ID</th>\n",
       "      <th>date</th>\n",
       "      <th>date_block_num</th>\n",
       "      <th>shop_id</th>\n",
       "      <th>item_id</th>\n",
       "      <th>item_price</th>\n",
       "      <th>item_cnt_day</th>\n",
       "      <th>datatype</th>\n",
       "    </tr>\n",
       "  </thead>\n",
       "  <tbody>\n",
       "    <tr>\n",
       "      <th>count</th>\n",
       "      <td>214200.00</td>\n",
       "      <td>3150049</td>\n",
       "      <td>3.150049e+06</td>\n",
       "      <td>3.150049e+06</td>\n",
       "      <td>3.150049e+06</td>\n",
       "      <td>2.935849e+06</td>\n",
       "      <td>2.935849e+06</td>\n",
       "      <td>3150049</td>\n",
       "    </tr>\n",
       "    <tr>\n",
       "      <th>unique</th>\n",
       "      <td>NaN</td>\n",
       "      <td>1035</td>\n",
       "      <td>NaN</td>\n",
       "      <td>NaN</td>\n",
       "      <td>NaN</td>\n",
       "      <td>NaN</td>\n",
       "      <td>NaN</td>\n",
       "      <td>2</td>\n",
       "    </tr>\n",
       "    <tr>\n",
       "      <th>top</th>\n",
       "      <td>NaN</td>\n",
       "      <td>01.11.2015</td>\n",
       "      <td>NaN</td>\n",
       "      <td>NaN</td>\n",
       "      <td>NaN</td>\n",
       "      <td>NaN</td>\n",
       "      <td>NaN</td>\n",
       "      <td>training</td>\n",
       "    </tr>\n",
       "    <tr>\n",
       "      <th>freq</th>\n",
       "      <td>NaN</td>\n",
       "      <td>214200</td>\n",
       "      <td>NaN</td>\n",
       "      <td>NaN</td>\n",
       "      <td>NaN</td>\n",
       "      <td>NaN</td>\n",
       "      <td>NaN</td>\n",
       "      <td>2935849</td>\n",
       "    </tr>\n",
       "    <tr>\n",
       "      <th>mean</th>\n",
       "      <td>107099.50</td>\n",
       "      <td>NaN</td>\n",
       "      <td>1.589114e+01</td>\n",
       "      <td>3.290933e+01</td>\n",
       "      <td>1.025313e+04</td>\n",
       "      <td>8.908532e+02</td>\n",
       "      <td>1.242641e+00</td>\n",
       "      <td>NaN</td>\n",
       "    </tr>\n",
       "    <tr>\n",
       "      <th>...</th>\n",
       "      <td>...</td>\n",
       "      <td>...</td>\n",
       "      <td>...</td>\n",
       "      <td>...</td>\n",
       "      <td>...</td>\n",
       "      <td>...</td>\n",
       "      <td>...</td>\n",
       "      <td>...</td>\n",
       "    </tr>\n",
       "    <tr>\n",
       "      <th>min</th>\n",
       "      <td>0.00</td>\n",
       "      <td>NaN</td>\n",
       "      <td>0.000000e+00</td>\n",
       "      <td>0.000000e+00</td>\n",
       "      <td>0.000000e+00</td>\n",
       "      <td>-1.000000e+00</td>\n",
       "      <td>-2.200000e+01</td>\n",
       "      <td>NaN</td>\n",
       "    </tr>\n",
       "    <tr>\n",
       "      <th>25%</th>\n",
       "      <td>53549.75</td>\n",
       "      <td>NaN</td>\n",
       "      <td>7.000000e+00</td>\n",
       "      <td>2.200000e+01</td>\n",
       "      <td>4.510000e+03</td>\n",
       "      <td>2.490000e+02</td>\n",
       "      <td>1.000000e+00</td>\n",
       "      <td>NaN</td>\n",
       "    </tr>\n",
       "    <tr>\n",
       "      <th>50%</th>\n",
       "      <td>107099.50</td>\n",
       "      <td>NaN</td>\n",
       "      <td>1.500000e+01</td>\n",
       "      <td>3.100000e+01</td>\n",
       "      <td>9.461000e+03</td>\n",
       "      <td>3.990000e+02</td>\n",
       "      <td>1.000000e+00</td>\n",
       "      <td>NaN</td>\n",
       "    </tr>\n",
       "    <tr>\n",
       "      <th>75%</th>\n",
       "      <td>160649.25</td>\n",
       "      <td>NaN</td>\n",
       "      <td>2.400000e+01</td>\n",
       "      <td>4.700000e+01</td>\n",
       "      <td>1.572700e+04</td>\n",
       "      <td>9.990000e+02</td>\n",
       "      <td>1.000000e+00</td>\n",
       "      <td>NaN</td>\n",
       "    </tr>\n",
       "    <tr>\n",
       "      <th>max</th>\n",
       "      <td>214199.00</td>\n",
       "      <td>NaN</td>\n",
       "      <td>3.400000e+01</td>\n",
       "      <td>5.900000e+01</td>\n",
       "      <td>2.216900e+04</td>\n",
       "      <td>3.079800e+05</td>\n",
       "      <td>2.169000e+03</td>\n",
       "      <td>NaN</td>\n",
       "    </tr>\n",
       "  </tbody>\n",
       "</table>\n",
       "<p>11 rows × 8 columns</p>\n",
       "</div>"
      ],
      "text/plain": [
       "               ID        date    ...     item_cnt_day  datatype\n",
       "count   214200.00     3150049    ...     2.935849e+06   3150049\n",
       "unique        NaN        1035    ...              NaN         2\n",
       "top           NaN  01.11.2015    ...              NaN  training\n",
       "freq          NaN      214200    ...              NaN   2935849\n",
       "mean    107099.50         NaN    ...     1.242641e+00       NaN\n",
       "...           ...         ...    ...              ...       ...\n",
       "min          0.00         NaN    ...    -2.200000e+01       NaN\n",
       "25%      53549.75         NaN    ...     1.000000e+00       NaN\n",
       "50%     107099.50         NaN    ...     1.000000e+00       NaN\n",
       "75%     160649.25         NaN    ...     1.000000e+00       NaN\n",
       "max     214199.00         NaN    ...     2.169000e+03       NaN\n",
       "\n",
       "[11 rows x 8 columns]"
      ]
     },
     "execution_count": 11,
     "metadata": {},
     "output_type": "execute_result"
    }
   ],
   "source": [
    "# describe training and testing data\n",
    "df_data.describe(include='all')"
   ]
  },
  {
   "cell_type": "code",
   "execution_count": 12,
   "metadata": {},
   "outputs": [
    {
     "name": "stdout",
     "output_type": "stream",
     "text": [
      "features type number:\n",
      " items ['ID', 'date_block_num', 'shop_id', 'item_id', 'item_price', 'item_cnt_day']\n",
      " length 6\n",
      "features type object:\n",
      " items ['date', 'datatype']\n",
      " length 2\n"
     ]
    }
   ],
   "source": [
    "# list all features type number\n",
    "col_number = df_data.select_dtypes(include=['number']).columns.tolist()\n",
    "print('features type number:\\n items %s\\n length %d' %(col_number, len(col_number)))\n",
    "\n",
    "# list all features type object\n",
    "col_object = df_data.select_dtypes(include=['object']).columns.tolist()\n",
    "print('features type object:\\n items %s\\n length %d' %(col_object, len(col_object)))"
   ]
  },
  {
   "cell_type": "code",
   "execution_count": 13,
   "metadata": {},
   "outputs": [
    {
     "data": {
      "image/png": "[encoded data removed]",
      "text/plain": [
       "<Figure size 720x432 with 6 Axes>"
      ]
     },
     "metadata": {
      "needs_background": "light"
     },
     "output_type": "display_data"
    }
   ],
   "source": [
    "# feature exploration: histogram of all numeric features\n",
    "_ = df_data.hist(bins=20, figsize=(10, 6))"
   ]
  },
  {
   "cell_type": "code",
   "execution_count": 14,
   "metadata": {},
   "outputs": [],
   "source": [
    "# feature extraction: fix the duplicated shop id\n",
    "df_data.loc[df_data['shop_id'] == 0, 'shop_id'] = 57\n",
    "df_data.loc[df_data['shop_id'] == 1, 'shop_id'] = 58\n",
    "df_data.loc[df_data['shop_id'] == 11, 'shop_id'] = 10"
   ]
  },
  {
   "cell_type": "code",
   "execution_count": 15,
   "metadata": {},
   "outputs": [],
   "source": [
    "# feature extraction: set maximum and minimum limit for item price\n",
    "df_data.loc[df_data['item_price'] < 0, 'item_price'] = df_data.loc[(df_data['date_block_num'] == 4) & (df_data['shop_id'] == 32) & (df_data['item_price'] > 0), 'item_price'].median()\n",
    "df_data = df_data[((df_data['item_price'] >= 0) & (df_data['item_price'] <= 100000)) | (df_data['item_price'].isna())]"
   ]
  },
  {
   "cell_type": "code",
   "execution_count": 16,
   "metadata": {},
   "outputs": [],
   "source": [
    "# feature extraction: set maximum and minimum limit for number of products sold\n",
    "df_data = df_data[(df_data['item_cnt_day'] <= 1000) | (df_data['item_cnt_day'].isna())]"
   ]
  },
  {
   "cell_type": "code",
   "execution_count": 17,
   "metadata": {},
   "outputs": [
    {
     "data": {
      "image/png": "[encoded data removed]",
      "text/plain": [
       "<Figure size 720x432 with 6 Axes>"
      ]
     },
     "metadata": {
      "needs_background": "light"
     },
     "output_type": "display_data"
    }
   ],
   "source": [
    "# feature exploration: histogram of all numeric features\n",
    "_ = df_data.hist(bins=20, figsize=(10, 6))"
   ]
  },
  {
   "cell_type": "code",
   "execution_count": 18,
   "metadata": {},
   "outputs": [
    {
     "data": {
      "text/html": [
       "<div>\n",
       "<style scoped>\n",
       "    .dataframe tbody tr th:only-of-type {\n",
       "        vertical-align: middle;\n",
       "    }\n",
       "\n",
       "    .dataframe tbody tr th {\n",
       "        vertical-align: top;\n",
       "    }\n",
       "\n",
       "    .dataframe thead th {\n",
       "        text-align: right;\n",
       "    }\n",
       "</style>\n",
       "<table border=\"1\" class=\"dataframe\">\n",
       "  <thead>\n",
       "    <tr style=\"text-align: right;\">\n",
       "      <th></th>\n",
       "      <th>ID</th>\n",
       "      <th>date</th>\n",
       "      <th>date_block_num</th>\n",
       "      <th>shop_id</th>\n",
       "      <th>item_id</th>\n",
       "      <th>item_price</th>\n",
       "      <th>item_cnt_day</th>\n",
       "      <th>datatype</th>\n",
       "    </tr>\n",
       "  </thead>\n",
       "  <tbody>\n",
       "  </tbody>\n",
       "</table>\n",
       "</div>"
      ],
      "text/plain": [
       "Empty DataFrame\n",
       "Columns: [ID, date, date_block_num, shop_id, item_id, item_price, item_cnt_day, datatype]\n",
       "Index: []"
      ]
     },
     "execution_count": 18,
     "metadata": {},
     "output_type": "execute_result"
    }
   ],
   "source": [
    "# feature exploration: zero number of products sold\n",
    "df_data[df_data['item_cnt_day'] == 0].head()"
   ]
  },
  {
   "cell_type": "markdown",
   "metadata": {},
   "source": [
    "The exploratory data analysis resulting in,\n",
    "\n",
    "* **Number of products sold:** There is no data for zero number of products sold. It is required to create the cross table of zero number of products sold in each month and merge to the main dataframe."
   ]
  },
  {
   "cell_type": "code",
   "execution_count": 19,
   "metadata": {},
   "outputs": [],
   "source": [
    "# feature extraction: cross dataframe\n",
    "list_of_cross = []\n",
    "for dateblocknum in df_data['date_block_num'].unique():\n",
    "    shops = df_data.loc[df_data['date_block_num'] == dateblocknum, 'shop_id'].unique()\n",
    "    items = df_data.loc[df_data['date_block_num'] == dateblocknum, 'item_id'].unique()\n",
    "    list_of_cross.append(np.array(list(itertools.product(*[[dateblocknum], shops, items]))))\n",
    "df_cross = pd.DataFrame(np.vstack(list_of_cross), columns=['date_block_num', 'shop_id', 'item_id'])"
   ]
  },
  {
   "cell_type": "code",
   "execution_count": 20,
   "metadata": {},
   "outputs": [
    {
     "data": {
      "text/html": [
       "<div>\n",
       "<style scoped>\n",
       "    .dataframe tbody tr th:only-of-type {\n",
       "        vertical-align: middle;\n",
       "    }\n",
       "\n",
       "    .dataframe tbody tr th {\n",
       "        vertical-align: top;\n",
       "    }\n",
       "\n",
       "    .dataframe thead th {\n",
       "        text-align: right;\n",
       "    }\n",
       "</style>\n",
       "<table border=\"1\" class=\"dataframe\">\n",
       "  <thead>\n",
       "    <tr style=\"text-align: right;\">\n",
       "      <th></th>\n",
       "      <th>date_block_num</th>\n",
       "      <th>shop_id</th>\n",
       "      <th>item_id</th>\n",
       "    </tr>\n",
       "  </thead>\n",
       "  <tbody>\n",
       "    <tr>\n",
       "      <th>count</th>\n",
       "      <td>1.112800e+07</td>\n",
       "      <td>1.112800e+07</td>\n",
       "      <td>1.112800e+07</td>\n",
       "    </tr>\n",
       "    <tr>\n",
       "      <th>mean</th>\n",
       "      <td>1.533960e+01</td>\n",
       "      <td>3.136224e+01</td>\n",
       "      <td>1.130371e+04</td>\n",
       "    </tr>\n",
       "    <tr>\n",
       "      <th>std</th>\n",
       "      <td>9.760412e+00</td>\n",
       "      <td>1.733254e+01</td>\n",
       "      <td>6.210934e+03</td>\n",
       "    </tr>\n",
       "    <tr>\n",
       "      <th>min</th>\n",
       "      <td>0.000000e+00</td>\n",
       "      <td>2.000000e+00</td>\n",
       "      <td>0.000000e+00</td>\n",
       "    </tr>\n",
       "    <tr>\n",
       "      <th>25%</th>\n",
       "      <td>7.000000e+00</td>\n",
       "      <td>1.600000e+01</td>\n",
       "      <td>5.947000e+03</td>\n",
       "    </tr>\n",
       "    <tr>\n",
       "      <th>50%</th>\n",
       "      <td>1.500000e+01</td>\n",
       "      <td>3.100000e+01</td>\n",
       "      <td>1.138800e+04</td>\n",
       "    </tr>\n",
       "    <tr>\n",
       "      <th>75%</th>\n",
       "      <td>2.300000e+01</td>\n",
       "      <td>4.700000e+01</td>\n",
       "      <td>1.659200e+04</td>\n",
       "    </tr>\n",
       "    <tr>\n",
       "      <th>max</th>\n",
       "      <td>3.400000e+01</td>\n",
       "      <td>5.900000e+01</td>\n",
       "      <td>2.216900e+04</td>\n",
       "    </tr>\n",
       "  </tbody>\n",
       "</table>\n",
       "</div>"
      ],
      "text/plain": [
       "       date_block_num       shop_id       item_id\n",
       "count    1.112800e+07  1.112800e+07  1.112800e+07\n",
       "mean     1.533960e+01  3.136224e+01  1.130371e+04\n",
       "std      9.760412e+00  1.733254e+01  6.210934e+03\n",
       "min      0.000000e+00  2.000000e+00  0.000000e+00\n",
       "25%      7.000000e+00  1.600000e+01  5.947000e+03\n",
       "50%      1.500000e+01  3.100000e+01  1.138800e+04\n",
       "75%      2.300000e+01  4.700000e+01  1.659200e+04\n",
       "max      3.400000e+01  5.900000e+01  2.216900e+04"
      ]
     },
     "execution_count": 20,
     "metadata": {},
     "output_type": "execute_result"
    }
   ],
   "source": [
    "# describe cross dataframe\n",
    "df_cross.describe(include='all')"
   ]
  },
  {
   "cell_type": "code",
   "execution_count": 21,
   "metadata": {},
   "outputs": [],
   "source": [
    "# feature extraction: block dataframe\n",
    "df_block = df_data.groupby(['date_block_num', 'shop_id', 'item_id'], as_index=False).agg({\n",
    "    'item_price': 'mean', 'item_cnt_day': sum\n",
    "}).rename(columns={'item_cnt_day': 'item_cnt_month'})"
   ]
  },
  {
   "cell_type": "code",
   "execution_count": 22,
   "metadata": {},
   "outputs": [
    {
     "data": {
      "text/html": [
       "<div>\n",
       "<style scoped>\n",
       "    .dataframe tbody tr th:only-of-type {\n",
       "        vertical-align: middle;\n",
       "    }\n",
       "\n",
       "    .dataframe tbody tr th {\n",
       "        vertical-align: top;\n",
       "    }\n",
       "\n",
       "    .dataframe thead th {\n",
       "        text-align: right;\n",
       "    }\n",
       "</style>\n",
       "<table border=\"1\" class=\"dataframe\">\n",
       "  <thead>\n",
       "    <tr style=\"text-align: right;\">\n",
       "      <th></th>\n",
       "      <th>date_block_num</th>\n",
       "      <th>shop_id</th>\n",
       "      <th>item_id</th>\n",
       "      <th>item_price</th>\n",
       "      <th>item_cnt_month</th>\n",
       "    </tr>\n",
       "  </thead>\n",
       "  <tbody>\n",
       "    <tr>\n",
       "      <th>count</th>\n",
       "      <td>1.609123e+06</td>\n",
       "      <td>1.609123e+06</td>\n",
       "      <td>1.609123e+06</td>\n",
       "      <td>1.609123e+06</td>\n",
       "      <td>1.609123e+06</td>\n",
       "    </tr>\n",
       "    <tr>\n",
       "      <th>mean</th>\n",
       "      <td>1.466480e+01</td>\n",
       "      <td>3.309266e+01</td>\n",
       "      <td>1.068099e+04</td>\n",
       "      <td>7.906939e+02</td>\n",
       "      <td>2.265853e+00</td>\n",
       "    </tr>\n",
       "    <tr>\n",
       "      <th>std</th>\n",
       "      <td>9.542325e+00</td>\n",
       "      <td>1.646698e+01</td>\n",
       "      <td>6.238884e+03</td>\n",
       "      <td>1.532591e+03</td>\n",
       "      <td>8.466196e+00</td>\n",
       "    </tr>\n",
       "    <tr>\n",
       "      <th>min</th>\n",
       "      <td>0.000000e+00</td>\n",
       "      <td>2.000000e+00</td>\n",
       "      <td>0.000000e+00</td>\n",
       "      <td>9.000000e-02</td>\n",
       "      <td>-2.200000e+01</td>\n",
       "    </tr>\n",
       "    <tr>\n",
       "      <th>25%</th>\n",
       "      <td>6.000000e+00</td>\n",
       "      <td>2.100000e+01</td>\n",
       "      <td>5.045000e+03</td>\n",
       "      <td>1.990000e+02</td>\n",
       "      <td>1.000000e+00</td>\n",
       "    </tr>\n",
       "    <tr>\n",
       "      <th>50%</th>\n",
       "      <td>1.400000e+01</td>\n",
       "      <td>3.100000e+01</td>\n",
       "      <td>1.049700e+04</td>\n",
       "      <td>3.990000e+02</td>\n",
       "      <td>1.000000e+00</td>\n",
       "    </tr>\n",
       "    <tr>\n",
       "      <th>75%</th>\n",
       "      <td>2.300000e+01</td>\n",
       "      <td>4.800000e+01</td>\n",
       "      <td>1.606000e+04</td>\n",
       "      <td>8.985000e+02</td>\n",
       "      <td>2.000000e+00</td>\n",
       "    </tr>\n",
       "    <tr>\n",
       "      <th>max</th>\n",
       "      <td>3.300000e+01</td>\n",
       "      <td>5.900000e+01</td>\n",
       "      <td>2.216900e+04</td>\n",
       "      <td>5.099900e+04</td>\n",
       "      <td>1.644000e+03</td>\n",
       "    </tr>\n",
       "  </tbody>\n",
       "</table>\n",
       "</div>"
      ],
      "text/plain": [
       "       date_block_num       ...        item_cnt_month\n",
       "count    1.609123e+06       ...          1.609123e+06\n",
       "mean     1.466480e+01       ...          2.265853e+00\n",
       "std      9.542325e+00       ...          8.466196e+00\n",
       "min      0.000000e+00       ...         -2.200000e+01\n",
       "25%      6.000000e+00       ...          1.000000e+00\n",
       "50%      1.400000e+01       ...          1.000000e+00\n",
       "75%      2.300000e+01       ...          2.000000e+00\n",
       "max      3.300000e+01       ...          1.644000e+03\n",
       "\n",
       "[8 rows x 5 columns]"
      ]
     },
     "execution_count": 22,
     "metadata": {},
     "output_type": "execute_result"
    }
   ],
   "source": [
    "# describe block dataframe for month 0 - 33\n",
    "df_block[df_block['date_block_num'] != 34].describe(include='all')"
   ]
  },
  {
   "cell_type": "code",
   "execution_count": 23,
   "metadata": {},
   "outputs": [
    {
     "data": {
      "text/html": [
       "<div>\n",
       "<style scoped>\n",
       "    .dataframe tbody tr th:only-of-type {\n",
       "        vertical-align: middle;\n",
       "    }\n",
       "\n",
       "    .dataframe tbody tr th {\n",
       "        vertical-align: top;\n",
       "    }\n",
       "\n",
       "    .dataframe thead th {\n",
       "        text-align: right;\n",
       "    }\n",
       "</style>\n",
       "<table border=\"1\" class=\"dataframe\">\n",
       "  <thead>\n",
       "    <tr style=\"text-align: right;\">\n",
       "      <th></th>\n",
       "      <th>date_block_num</th>\n",
       "      <th>shop_id</th>\n",
       "      <th>item_id</th>\n",
       "      <th>item_price</th>\n",
       "      <th>item_cnt_month</th>\n",
       "    </tr>\n",
       "  </thead>\n",
       "  <tbody>\n",
       "    <tr>\n",
       "      <th>count</th>\n",
       "      <td>214200.0</td>\n",
       "      <td>214200.000000</td>\n",
       "      <td>214200.000000</td>\n",
       "      <td>0.0</td>\n",
       "      <td>214200.0</td>\n",
       "    </tr>\n",
       "    <tr>\n",
       "      <th>mean</th>\n",
       "      <td>34.0</td>\n",
       "      <td>31.642857</td>\n",
       "      <td>11019.398627</td>\n",
       "      <td>NaN</td>\n",
       "      <td>0.0</td>\n",
       "    </tr>\n",
       "    <tr>\n",
       "      <th>std</th>\n",
       "      <td>0.0</td>\n",
       "      <td>17.561933</td>\n",
       "      <td>6252.644590</td>\n",
       "      <td>NaN</td>\n",
       "      <td>0.0</td>\n",
       "    </tr>\n",
       "    <tr>\n",
       "      <th>min</th>\n",
       "      <td>34.0</td>\n",
       "      <td>2.000000</td>\n",
       "      <td>30.000000</td>\n",
       "      <td>NaN</td>\n",
       "      <td>0.0</td>\n",
       "    </tr>\n",
       "    <tr>\n",
       "      <th>25%</th>\n",
       "      <td>34.0</td>\n",
       "      <td>16.000000</td>\n",
       "      <td>5381.500000</td>\n",
       "      <td>NaN</td>\n",
       "      <td>0.0</td>\n",
       "    </tr>\n",
       "    <tr>\n",
       "      <th>50%</th>\n",
       "      <td>34.0</td>\n",
       "      <td>34.500000</td>\n",
       "      <td>11203.000000</td>\n",
       "      <td>NaN</td>\n",
       "      <td>0.0</td>\n",
       "    </tr>\n",
       "    <tr>\n",
       "      <th>75%</th>\n",
       "      <td>34.0</td>\n",
       "      <td>47.000000</td>\n",
       "      <td>16071.500000</td>\n",
       "      <td>NaN</td>\n",
       "      <td>0.0</td>\n",
       "    </tr>\n",
       "    <tr>\n",
       "      <th>max</th>\n",
       "      <td>34.0</td>\n",
       "      <td>59.000000</td>\n",
       "      <td>22167.000000</td>\n",
       "      <td>NaN</td>\n",
       "      <td>0.0</td>\n",
       "    </tr>\n",
       "  </tbody>\n",
       "</table>\n",
       "</div>"
      ],
      "text/plain": [
       "       date_block_num        shop_id       ...        item_price  item_cnt_month\n",
       "count        214200.0  214200.000000       ...               0.0        214200.0\n",
       "mean             34.0      31.642857       ...               NaN             0.0\n",
       "std               0.0      17.561933       ...               NaN             0.0\n",
       "min              34.0       2.000000       ...               NaN             0.0\n",
       "25%              34.0      16.000000       ...               NaN             0.0\n",
       "50%              34.0      34.500000       ...               NaN             0.0\n",
       "75%              34.0      47.000000       ...               NaN             0.0\n",
       "max              34.0      59.000000       ...               NaN             0.0\n",
       "\n",
       "[8 rows x 5 columns]"
      ]
     },
     "execution_count": 23,
     "metadata": {},
     "output_type": "execute_result"
    }
   ],
   "source": [
    "# describe block dataframe for month 34\n",
    "df_block[df_block['date_block_num'] == 34].describe(include='all')"
   ]
  },
  {
   "cell_type": "code",
   "execution_count": 24,
   "metadata": {},
   "outputs": [],
   "source": [
    "# feature extraction: merge block and cross dataframe\n",
    "df_block = pd.merge(df_cross, df_block, how='left', left_on=['date_block_num', 'shop_id', 'item_id'], right_on=['date_block_num', 'shop_id', 'item_id'])"
   ]
  },
  {
   "cell_type": "code",
   "execution_count": 25,
   "metadata": {},
   "outputs": [],
   "source": [
    "# feature extraction: number of products sold fillna by 0\n",
    "df_block['item_cnt_month'] = df_block['item_cnt_month'].fillna(0)"
   ]
  },
  {
   "cell_type": "code",
   "execution_count": 26,
   "metadata": {},
   "outputs": [],
   "source": [
    "# feature extraction: merge with supplemental information about the items/products\n",
    "df_block = pd.merge(df_block, df_items, how='left', left_on='item_id', right_on='item_id')"
   ]
  },
  {
   "cell_type": "code",
   "execution_count": 27,
   "metadata": {},
   "outputs": [],
   "source": [
    "# feature extraction: merge with supplemental information about the items categories\n",
    "df_block = pd.merge(df_block, df_categories, how='left', left_on='item_category_id', right_on='item_category_id')"
   ]
  },
  {
   "cell_type": "code",
   "execution_count": 28,
   "metadata": {},
   "outputs": [],
   "source": [
    "# feature extraction: merge with supplemental information about the shops\n",
    "df_block = pd.merge(df_block, df_shops, how='left', left_on='shop_id', right_on='shop_id')"
   ]
  },
  {
   "cell_type": "code",
   "execution_count": 29,
   "metadata": {},
   "outputs": [
    {
     "data": {
      "text/plain": [
       "15303    1628\n",
       "5822     1628\n",
       "18255    1628\n",
       "5811     1628\n",
       "16160    1628\n",
       "         ... \n",
       "6996       42\n",
       "17757      42\n",
       "19252      42\n",
       "1386       42\n",
       "20863      42\n",
       "Name: item_id, Length: 22169, dtype: int64"
      ]
     },
     "execution_count": 29,
     "metadata": {},
     "output_type": "execute_result"
    }
   ],
   "source": [
    "# feature exploration: item id\n",
    "df_block['item_id'].value_counts()"
   ]
  },
  {
   "cell_type": "code",
   "execution_count": 30,
   "metadata": {},
   "outputs": [
    {
     "data": {
      "text/plain": [
       "40    2528576\n",
       "55    1583333\n",
       "37    1159867\n",
       "31     406435\n",
       "30     385121\n",
       "       ...   \n",
       "52        135\n",
       "50         92\n",
       "1          91\n",
       "51         50\n",
       "10         46\n",
       "Name: item_category_id, Length: 84, dtype: int64"
      ]
     },
     "execution_count": 30,
     "metadata": {},
     "output_type": "execute_result"
    }
   ],
   "source": [
    "# feature exploration: category id\n",
    "df_block['item_category_id'].value_counts()"
   ]
  },
  {
   "cell_type": "code",
   "execution_count": 31,
   "metadata": {},
   "outputs": [
    {
     "data": {
      "text/plain": [
       "59    239011\n",
       "18    239011\n",
       "58    239011\n",
       "28    239011\n",
       "26    239011\n",
       "       ...  \n",
       "8      32730\n",
       "23     32730\n",
       "9      25262\n",
       "20     11747\n",
       "36     10513\n",
       "Name: shop_id, Length: 57, dtype: int64"
      ]
     },
     "execution_count": 31,
     "metadata": {},
     "output_type": "execute_result"
    }
   ],
   "source": [
    "# feature exploration: shop id\n",
    "df_block['shop_id'].value_counts()"
   ]
  },
  {
   "cell_type": "code",
   "execution_count": 32,
   "metadata": {},
   "outputs": [
    {
     "data": {
      "text/plain": [
       "20949    71\n",
       "Name: item_category_id, dtype: int64"
      ]
     },
     "execution_count": 32,
     "metadata": {},
     "output_type": "execute_result"
    }
   ],
   "source": [
    "# feature exploration: item id 20949\n",
    "df_items.loc[df_items['item_id'] == 20949, 'item_category_id']"
   ]
  },
  {
   "cell_type": "code",
   "execution_count": 33,
   "metadata": {},
   "outputs": [
    {
     "data": {
      "text/plain": [
       "7149      7149\n",
       "13597    13597\n",
       "13598    13598\n",
       "20949    20949\n",
       "21788    21788\n",
       "21789    21789\n",
       "Name: item_id, dtype: int64"
      ]
     },
     "execution_count": 33,
     "metadata": {},
     "output_type": "execute_result"
    }
   ],
   "source": [
    "# feature exploration: category id 71\n",
    "df_items.loc[df_items['item_category_id'] == 71, 'item_id']"
   ]
  },
  {
   "cell_type": "code",
   "execution_count": 34,
   "metadata": {},
   "outputs": [
    {
     "data": {
      "text/plain": [
       "40    54384\n",
       "55    34035\n",
       "37    24758\n",
       "31     8667\n",
       "30     8286\n",
       "      ...  \n",
       "52        3\n",
       "50        2\n",
       "1         2\n",
       "10        1\n",
       "51        1\n",
       "Name: item_category_id, Length: 84, dtype: int64"
      ]
     },
     "execution_count": 34,
     "metadata": {},
     "output_type": "execute_result"
    }
   ],
   "source": [
    "# feature exploration: shop id 31\n",
    "df_block.loc[df_block['shop_id'] == 31, 'item_category_id'].value_counts()"
   ]
  },
  {
   "cell_type": "code",
   "execution_count": 35,
   "metadata": {},
   "outputs": [
    {
     "data": {
      "text/plain": [
       "11099    1628\n",
       "15833    1628\n",
       "10348    1628\n",
       "10340    1628\n",
       "14390    1628\n",
       "         ... \n",
       "13846      42\n",
       "13047      42\n",
       "11764      42\n",
       "10310      42\n",
       "17030      42\n",
       "Name: item_id, Length: 5035, dtype: int64"
      ]
     },
     "execution_count": 35,
     "metadata": {},
     "output_type": "execute_result"
    }
   ],
   "source": [
    "# feature exploration: category id 40\n",
    "df_block.loc[df_block['item_category_id'] == 40, 'item_id'].value_counts()"
   ]
  },
  {
   "cell_type": "code",
   "execution_count": 36,
   "metadata": {},
   "outputs": [
    {
     "data": {
      "text/plain": [
       "59    54384\n",
       "18    54384\n",
       "58    54384\n",
       "28    54384\n",
       "26    54384\n",
       "      ...  \n",
       "8      9748\n",
       "23     9748\n",
       "9      4945\n",
       "20     1904\n",
       "36     1558\n",
       "Name: shop_id, Length: 57, dtype: int64"
      ]
     },
     "execution_count": 36,
     "metadata": {},
     "output_type": "execute_result"
    }
   ],
   "source": [
    "# feature exploration: category id 40\n",
    "df_block.loc[df_block['item_category_id'] == 40, 'shop_id'].value_counts()"
   ]
  },
  {
   "cell_type": "code",
   "execution_count": 37,
   "metadata": {},
   "outputs": [
    {
     "data": {
      "text/plain": [
       "1935     44\n",
       "5959     44\n",
       "7126     44\n",
       "13299    44\n",
       "17597    44\n",
       "         ..\n",
       "18514    44\n",
       "139      44\n",
       "187      44\n",
       "315      44\n",
       "20618    44\n",
       "Name: item_id, Length: 475, dtype: int64"
      ]
     },
     "execution_count": 37,
     "metadata": {},
     "output_type": "execute_result"
    }
   ],
   "source": [
    "# feature exploration: item id happened in month 33\n",
    "df_block.loc[df_block['date_block_num'] == 33, 'item_id'][~df_block.loc[df_block['date_block_num'] == 33, 'item_id'].isin(df_block.loc[df_block['date_block_num'] < 33, 'item_id'])].value_counts()"
   ]
  },
  {
   "cell_type": "code",
   "execution_count": 38,
   "metadata": {},
   "outputs": [
    {
     "data": {
      "text/plain": [
       "10203    42\n",
       "17858    42\n",
       "3571     42\n",
       "3579     42\n",
       "3627     42\n",
       "         ..\n",
       "7094     42\n",
       "13251    42\n",
       "13275    42\n",
       "15330    42\n",
       "14383    42\n",
       "Name: item_id, Length: 363, dtype: int64"
      ]
     },
     "execution_count": 38,
     "metadata": {},
     "output_type": "execute_result"
    }
   ],
   "source": [
    "# feature exploration: item id happened in month 34\n",
    "df_block.loc[df_block['date_block_num'] == 34, 'item_id'][~df_block.loc[df_block['date_block_num'] == 34, 'item_id'].isin(df_block.loc[df_block['date_block_num'] < 34, 'item_id'])].value_counts()"
   ]
  },
  {
   "cell_type": "code",
   "execution_count": 39,
   "metadata": {},
   "outputs": [
    {
     "data": {
      "text/plain": [
       "Series([], Name: item_category_id, dtype: int64)"
      ]
     },
     "execution_count": 39,
     "metadata": {},
     "output_type": "execute_result"
    }
   ],
   "source": [
    "# feature exploration: category id happened in month 33\n",
    "df_block.loc[df_block['date_block_num'] == 33, 'item_category_id'][~df_block.loc[df_block['date_block_num'] == 33, 'item_category_id'].isin(df_block.loc[df_block['date_block_num'] < 33, 'item_category_id'])].value_counts()"
   ]
  },
  {
   "cell_type": "code",
   "execution_count": 40,
   "metadata": {},
   "outputs": [
    {
     "data": {
      "text/plain": [
       "Series([], Name: item_category_id, dtype: int64)"
      ]
     },
     "execution_count": 40,
     "metadata": {},
     "output_type": "execute_result"
    }
   ],
   "source": [
    "# feature exploration: category id happened in month 34\n",
    "df_block.loc[df_block['date_block_num'] == 34, 'item_category_id'][~df_block.loc[df_block['date_block_num'] == 34, 'item_category_id'].isin(df_block.loc[df_block['date_block_num'] < 34, 'item_category_id'])].value_counts()"
   ]
  },
  {
   "cell_type": "code",
   "execution_count": 41,
   "metadata": {},
   "outputs": [
    {
     "data": {
      "text/plain": [
       "36    5413\n",
       "Name: shop_id, dtype: int64"
      ]
     },
     "execution_count": 41,
     "metadata": {},
     "output_type": "execute_result"
    }
   ],
   "source": [
    "# feature exploration: shop id happened in month 33\n",
    "df_block.loc[df_block['date_block_num'] == 33, 'shop_id'][~df_block.loc[df_block['date_block_num'] == 33, 'shop_id'].isin(df_block.loc[df_block['date_block_num'] < 33, 'shop_id'])].value_counts()"
   ]
  },
  {
   "cell_type": "code",
   "execution_count": 42,
   "metadata": {},
   "outputs": [
    {
     "data": {
      "text/plain": [
       "Series([], Name: shop_id, dtype: int64)"
      ]
     },
     "execution_count": 42,
     "metadata": {},
     "output_type": "execute_result"
    }
   ],
   "source": [
    "# feature exploration: shop id happened in month 34\n",
    "df_block.loc[df_block['date_block_num'] == 34, 'shop_id'][~df_block.loc[df_block['date_block_num'] == 34, 'shop_id'].isin(df_block.loc[df_block['date_block_num'] < 34, 'shop_id'])].value_counts()"
   ]
  },
  {
   "cell_type": "code",
   "execution_count": 43,
   "metadata": {},
   "outputs": [
    {
     "data": {
      "text/plain": [
       "26"
      ]
     },
     "execution_count": 43,
     "metadata": {},
     "output_type": "execute_result"
    }
   ],
   "source": [
    "# memory clean-up\n",
    "del df_categories, df_cross, df_data, df_items, df_shops\n",
    "gc.collect()"
   ]
  },
  {
   "cell_type": "markdown",
   "metadata": {},
   "source": [
    "The exploratory data analysis resulting in,\n",
    "\n",
    "* **Item:** There are 22,166 unique items. There are always new items show up as seen from the history.\n",
    "* **Category:** There are 84 unique categories.\n",
    "* **Shop:** There are 57 unique shops after removed duplication from above step."
   ]
  },
  {
   "cell_type": "code",
   "execution_count": 44,
   "metadata": {},
   "outputs": [],
   "source": [
    "# feature extraction: year\n",
    "df_block['year'] = df_block['date_block_num'] // 12"
   ]
  },
  {
   "cell_type": "code",
   "execution_count": 45,
   "metadata": {},
   "outputs": [],
   "source": [
    "# feature extraction: month\n",
    "df_block['month'] = df_block['date_block_num'] % 12"
   ]
  },
  {
   "cell_type": "code",
   "execution_count": 46,
   "metadata": {},
   "outputs": [],
   "source": [
    "# feature extraction: day\n",
    "day = pd.Series([31, 28, 31, 30, 31, 30, 31, 31, 30, 31, 30, 31])\n",
    "df_block['day'] = df_block['month'].map(day)"
   ]
  },
  {
   "cell_type": "code",
   "execution_count": 47,
   "metadata": {},
   "outputs": [
    {
     "data": {
      "text/plain": [
       "Москва      2397587\n",
       "Тюмень       616533\n",
       "Воронеж      510752\n",
       "Самара       478022\n",
       "Якутск       478022\n",
       "             ...   \n",
       "Цифровой     206281\n",
       "Химки        202483\n",
       "Томск        118724\n",
       "Мытищи        55445\n",
       "Выездная      25262\n",
       "Name: city, Length: 31, dtype: int64"
      ]
     },
     "execution_count": 47,
     "metadata": {},
     "output_type": "execute_result"
    }
   ],
   "source": [
    "# feature extraction: city\n",
    "df_block.loc[df_block['shop_name'] == 'Сергиев Посад ТЦ \"7Я\"', 'shop_name'] = 'СергиевПосад ТЦ \"7Я\"'\n",
    "df_block['city'] = df_block['shop_name'].str.split(' ').apply(lambda x: x[0])\n",
    "df_block.loc[df_block['city'] == '!Якутск', 'city'] = 'Якутск'\n",
    "df_block['city'].value_counts()"
   ]
  },
  {
   "cell_type": "code",
   "execution_count": 48,
   "metadata": {},
   "outputs": [],
   "source": [
    "# feature extraction: city_code\n",
    "df_block['city_code'] = LabelEncoder().fit_transform(df_block['city'])"
   ]
  },
  {
   "cell_type": "code",
   "execution_count": 49,
   "metadata": {},
   "outputs": [
    {
     "data": {
      "text/plain": [
       "Кино                       4153431\n",
       "Музыка                     2424306\n",
       "Подарки                    1472572\n",
       "Игры PC                     951589\n",
       "Игры                        933079\n",
       "                            ...   \n",
       "Чистые носители (шпиль)       2576\n",
       "Билеты (Цифра)                2225\n",
       "Игры Android                  1115\n",
       "Игры MAC                       422\n",
       "PC                             179\n",
       "Name: type, Length: 20, dtype: int64"
      ]
     },
     "execution_count": 49,
     "metadata": {},
     "output_type": "execute_result"
    }
   ],
   "source": [
    "# feature extraction: type\n",
    "df_block['type'] = df_block['item_category_name'].str.split('-').apply(lambda x: x[0].strip())\n",
    "df_block['type'].value_counts()"
   ]
  },
  {
   "cell_type": "code",
   "execution_count": 50,
   "metadata": {},
   "outputs": [],
   "source": [
    "# feature extraction: type_code\n",
    "df_block['type_code'] = LabelEncoder().fit_transform(df_block['type'])"
   ]
  },
  {
   "cell_type": "code",
   "execution_count": 51,
   "metadata": {},
   "outputs": [
    {
     "data": {
      "text/plain": [
       "DVD                           2528576\n",
       "CD локального производства    1583333\n",
       "Blu                           1413547\n",
       "Цифра                          450624\n",
       "PS3                            407137\n",
       "                               ...   \n",
       "Гарнитуры/Наушники                179\n",
       "Художественная литература         138\n",
       "Путеводители                      135\n",
       "Открытки                           92\n",
       "Познавательная литература          50\n",
       "Name: subtype, Length: 65, dtype: int64"
      ]
     },
     "execution_count": 51,
     "metadata": {},
     "output_type": "execute_result"
    }
   ],
   "source": [
    "# feature extraction: subtype\n",
    "df_block['subtype'] = df_block['item_category_name'].str.split('-').apply(lambda x: x[1].strip() if len(x) > 1 else x[0].strip())\n",
    "df_block['subtype'].value_counts()"
   ]
  },
  {
   "cell_type": "code",
   "execution_count": 52,
   "metadata": {},
   "outputs": [],
   "source": [
    "# feature extraction: subtype_code\n",
    "df_block['subtype_code'] = LabelEncoder().fit_transform(df_block['subtype'])"
   ]
  },
  {
   "cell_type": "code",
   "execution_count": 53,
   "metadata": {},
   "outputs": [
    {
     "data": {
      "text/html": [
       "<div>\n",
       "<style scoped>\n",
       "    .dataframe tbody tr th:only-of-type {\n",
       "        vertical-align: middle;\n",
       "    }\n",
       "\n",
       "    .dataframe tbody tr th {\n",
       "        vertical-align: top;\n",
       "    }\n",
       "\n",
       "    .dataframe thead th {\n",
       "        text-align: right;\n",
       "    }\n",
       "</style>\n",
       "<table border=\"1\" class=\"dataframe\">\n",
       "  <thead>\n",
       "    <tr style=\"text-align: right;\">\n",
       "      <th></th>\n",
       "      <th>date_block_num</th>\n",
       "      <th>shop_id</th>\n",
       "      <th>item_id</th>\n",
       "      <th>item_price</th>\n",
       "      <th>item_cnt_month</th>\n",
       "      <th>item_name</th>\n",
       "      <th>item_category_id</th>\n",
       "      <th>item_category_name</th>\n",
       "      <th>shop_name</th>\n",
       "      <th>year</th>\n",
       "      <th>month</th>\n",
       "      <th>day</th>\n",
       "      <th>city</th>\n",
       "      <th>city_code</th>\n",
       "      <th>type</th>\n",
       "      <th>type_code</th>\n",
       "      <th>subtype</th>\n",
       "      <th>subtype_code</th>\n",
       "    </tr>\n",
       "  </thead>\n",
       "  <tbody>\n",
       "    <tr>\n",
       "      <th>count</th>\n",
       "      <td>1.091380e+07</td>\n",
       "      <td>1.091380e+07</td>\n",
       "      <td>1.091380e+07</td>\n",
       "      <td>1.609123e+06</td>\n",
       "      <td>1.091380e+07</td>\n",
       "      <td>10913804</td>\n",
       "      <td>1.091380e+07</td>\n",
       "      <td>10913804</td>\n",
       "      <td>10913804</td>\n",
       "      <td>1.091380e+07</td>\n",
       "      <td>1.091380e+07</td>\n",
       "      <td>1.091380e+07</td>\n",
       "      <td>10913804</td>\n",
       "      <td>1.091380e+07</td>\n",
       "      <td>10913804</td>\n",
       "      <td>1.091380e+07</td>\n",
       "      <td>10913804</td>\n",
       "      <td>1.091380e+07</td>\n",
       "    </tr>\n",
       "    <tr>\n",
       "      <th>unique</th>\n",
       "      <td>NaN</td>\n",
       "      <td>NaN</td>\n",
       "      <td>NaN</td>\n",
       "      <td>NaN</td>\n",
       "      <td>NaN</td>\n",
       "      <td>21806</td>\n",
       "      <td>NaN</td>\n",
       "      <td>84</td>\n",
       "      <td>57</td>\n",
       "      <td>NaN</td>\n",
       "      <td>NaN</td>\n",
       "      <td>NaN</td>\n",
       "      <td>31</td>\n",
       "      <td>NaN</td>\n",
       "      <td>20</td>\n",
       "      <td>NaN</td>\n",
       "      <td>65</td>\n",
       "      <td>NaN</td>\n",
       "    </tr>\n",
       "    <tr>\n",
       "      <th>top</th>\n",
       "      <td>NaN</td>\n",
       "      <td>NaN</td>\n",
       "      <td>NaN</td>\n",
       "      <td>NaN</td>\n",
       "      <td>NaN</td>\n",
       "      <td>Игромания. Выбор редакции. Call of Duty: Moder...</td>\n",
       "      <td>NaN</td>\n",
       "      <td>Кино - DVD</td>\n",
       "      <td>Красноярск ТЦ \"Июнь\"</td>\n",
       "      <td>NaN</td>\n",
       "      <td>NaN</td>\n",
       "      <td>NaN</td>\n",
       "      <td>Москва</td>\n",
       "      <td>NaN</td>\n",
       "      <td>Кино</td>\n",
       "      <td>NaN</td>\n",
       "      <td>DVD</td>\n",
       "      <td>NaN</td>\n",
       "    </tr>\n",
       "    <tr>\n",
       "      <th>freq</th>\n",
       "      <td>NaN</td>\n",
       "      <td>NaN</td>\n",
       "      <td>NaN</td>\n",
       "      <td>NaN</td>\n",
       "      <td>NaN</td>\n",
       "      <td>1586</td>\n",
       "      <td>NaN</td>\n",
       "      <td>2496236</td>\n",
       "      <td>233911</td>\n",
       "      <td>NaN</td>\n",
       "      <td>NaN</td>\n",
       "      <td>NaN</td>\n",
       "      <td>2361887</td>\n",
       "      <td>NaN</td>\n",
       "      <td>4100385</td>\n",
       "      <td>NaN</td>\n",
       "      <td>2496236</td>\n",
       "      <td>NaN</td>\n",
       "    </tr>\n",
       "    <tr>\n",
       "      <th>mean</th>\n",
       "      <td>1.497336e+01</td>\n",
       "      <td>3.135673e+01</td>\n",
       "      <td>1.130929e+04</td>\n",
       "      <td>7.906939e+02</td>\n",
       "      <td>3.340756e-01</td>\n",
       "      <td>NaN</td>\n",
       "      <td>4.491718e+01</td>\n",
       "      <td>NaN</td>\n",
       "      <td>NaN</td>\n",
       "      <td>8.164588e-01</td>\n",
       "      <td>5.175851e+00</td>\n",
       "      <td>3.041107e+01</td>\n",
       "      <td>NaN</td>\n",
       "      <td>1.530064e+01</td>\n",
       "      <td>NaN</td>\n",
       "      <td>1.107077e+01</td>\n",
       "      <td>NaN</td>\n",
       "      <td>1.801529e+01</td>\n",
       "    </tr>\n",
       "    <tr>\n",
       "      <th>...</th>\n",
       "      <td>...</td>\n",
       "      <td>...</td>\n",
       "      <td>...</td>\n",
       "      <td>...</td>\n",
       "      <td>...</td>\n",
       "      <td>...</td>\n",
       "      <td>...</td>\n",
       "      <td>...</td>\n",
       "      <td>...</td>\n",
       "      <td>...</td>\n",
       "      <td>...</td>\n",
       "      <td>...</td>\n",
       "      <td>...</td>\n",
       "      <td>...</td>\n",
       "      <td>...</td>\n",
       "      <td>...</td>\n",
       "      <td>...</td>\n",
       "      <td>...</td>\n",
       "    </tr>\n",
       "    <tr>\n",
       "      <th>min</th>\n",
       "      <td>0.000000e+00</td>\n",
       "      <td>2.000000e+00</td>\n",
       "      <td>0.000000e+00</td>\n",
       "      <td>9.000000e-02</td>\n",
       "      <td>-2.200000e+01</td>\n",
       "      <td>NaN</td>\n",
       "      <td>0.000000e+00</td>\n",
       "      <td>NaN</td>\n",
       "      <td>NaN</td>\n",
       "      <td>0.000000e+00</td>\n",
       "      <td>0.000000e+00</td>\n",
       "      <td>2.800000e+01</td>\n",
       "      <td>NaN</td>\n",
       "      <td>0.000000e+00</td>\n",
       "      <td>NaN</td>\n",
       "      <td>0.000000e+00</td>\n",
       "      <td>NaN</td>\n",
       "      <td>0.000000e+00</td>\n",
       "    </tr>\n",
       "    <tr>\n",
       "      <th>25%</th>\n",
       "      <td>7.000000e+00</td>\n",
       "      <td>1.600000e+01</td>\n",
       "      <td>5.976000e+03</td>\n",
       "      <td>1.990000e+02</td>\n",
       "      <td>0.000000e+00</td>\n",
       "      <td>NaN</td>\n",
       "      <td>3.700000e+01</td>\n",
       "      <td>NaN</td>\n",
       "      <td>NaN</td>\n",
       "      <td>0.000000e+00</td>\n",
       "      <td>2.000000e+00</td>\n",
       "      <td>3.000000e+01</td>\n",
       "      <td>NaN</td>\n",
       "      <td>1.000000e+01</td>\n",
       "      <td>NaN</td>\n",
       "      <td>1.100000e+01</td>\n",
       "      <td>NaN</td>\n",
       "      <td>2.000000e+00</td>\n",
       "    </tr>\n",
       "    <tr>\n",
       "      <th>50%</th>\n",
       "      <td>1.400000e+01</td>\n",
       "      <td>3.000000e+01</td>\n",
       "      <td>1.139100e+04</td>\n",
       "      <td>3.990000e+02</td>\n",
       "      <td>0.000000e+00</td>\n",
       "      <td>NaN</td>\n",
       "      <td>4.000000e+01</td>\n",
       "      <td>NaN</td>\n",
       "      <td>NaN</td>\n",
       "      <td>1.000000e+00</td>\n",
       "      <td>5.000000e+00</td>\n",
       "      <td>3.100000e+01</td>\n",
       "      <td>NaN</td>\n",
       "      <td>1.300000e+01</td>\n",
       "      <td>NaN</td>\n",
       "      <td>1.100000e+01</td>\n",
       "      <td>NaN</td>\n",
       "      <td>4.000000e+00</td>\n",
       "    </tr>\n",
       "    <tr>\n",
       "      <th>75%</th>\n",
       "      <td>2.300000e+01</td>\n",
       "      <td>4.700000e+01</td>\n",
       "      <td>1.660500e+04</td>\n",
       "      <td>8.985000e+02</td>\n",
       "      <td>0.000000e+00</td>\n",
       "      <td>NaN</td>\n",
       "      <td>5.500000e+01</td>\n",
       "      <td>NaN</td>\n",
       "      <td>NaN</td>\n",
       "      <td>1.000000e+00</td>\n",
       "      <td>8.000000e+00</td>\n",
       "      <td>3.100000e+01</td>\n",
       "      <td>NaN</td>\n",
       "      <td>2.200000e+01</td>\n",
       "      <td>NaN</td>\n",
       "      <td>1.300000e+01</td>\n",
       "      <td>NaN</td>\n",
       "      <td>3.200000e+01</td>\n",
       "    </tr>\n",
       "    <tr>\n",
       "      <th>max</th>\n",
       "      <td>3.300000e+01</td>\n",
       "      <td>5.900000e+01</td>\n",
       "      <td>2.216900e+04</td>\n",
       "      <td>5.099900e+04</td>\n",
       "      <td>1.644000e+03</td>\n",
       "      <td>NaN</td>\n",
       "      <td>8.300000e+01</td>\n",
       "      <td>NaN</td>\n",
       "      <td>NaN</td>\n",
       "      <td>2.000000e+00</td>\n",
       "      <td>1.100000e+01</td>\n",
       "      <td>3.100000e+01</td>\n",
       "      <td>NaN</td>\n",
       "      <td>3.000000e+01</td>\n",
       "      <td>NaN</td>\n",
       "      <td>1.900000e+01</td>\n",
       "      <td>NaN</td>\n",
       "      <td>6.400000e+01</td>\n",
       "    </tr>\n",
       "  </tbody>\n",
       "</table>\n",
       "<p>11 rows × 18 columns</p>\n",
       "</div>"
      ],
      "text/plain": [
       "        date_block_num       shop_id      ...        subtype  subtype_code\n",
       "count     1.091380e+07  1.091380e+07      ...       10913804  1.091380e+07\n",
       "unique             NaN           NaN      ...             65           NaN\n",
       "top                NaN           NaN      ...            DVD           NaN\n",
       "freq               NaN           NaN      ...        2496236           NaN\n",
       "mean      1.497336e+01  3.135673e+01      ...            NaN  1.801529e+01\n",
       "...                ...           ...      ...            ...           ...\n",
       "min       0.000000e+00  2.000000e+00      ...            NaN  0.000000e+00\n",
       "25%       7.000000e+00  1.600000e+01      ...            NaN  2.000000e+00\n",
       "50%       1.400000e+01  3.000000e+01      ...            NaN  4.000000e+00\n",
       "75%       2.300000e+01  4.700000e+01      ...            NaN  3.200000e+01\n",
       "max       3.300000e+01  5.900000e+01      ...            NaN  6.400000e+01\n",
       "\n",
       "[11 rows x 18 columns]"
      ]
     },
     "execution_count": 53,
     "metadata": {},
     "output_type": "execute_result"
    }
   ],
   "source": [
    "# describe block dataframe for month 0 - 33\n",
    "df_block[df_block['date_block_num'] != 34].describe(include='all')"
   ]
  },
  {
   "cell_type": "code",
   "execution_count": 54,
   "metadata": {},
   "outputs": [
    {
     "data": {
      "text/html": [
       "<div>\n",
       "<style scoped>\n",
       "    .dataframe tbody tr th:only-of-type {\n",
       "        vertical-align: middle;\n",
       "    }\n",
       "\n",
       "    .dataframe tbody tr th {\n",
       "        vertical-align: top;\n",
       "    }\n",
       "\n",
       "    .dataframe thead th {\n",
       "        text-align: right;\n",
       "    }\n",
       "</style>\n",
       "<table border=\"1\" class=\"dataframe\">\n",
       "  <thead>\n",
       "    <tr style=\"text-align: right;\">\n",
       "      <th></th>\n",
       "      <th>date_block_num</th>\n",
       "      <th>shop_id</th>\n",
       "      <th>item_id</th>\n",
       "      <th>item_price</th>\n",
       "      <th>item_cnt_month</th>\n",
       "      <th>item_name</th>\n",
       "      <th>item_category_id</th>\n",
       "      <th>item_category_name</th>\n",
       "      <th>shop_name</th>\n",
       "      <th>year</th>\n",
       "      <th>month</th>\n",
       "      <th>day</th>\n",
       "      <th>city</th>\n",
       "      <th>city_code</th>\n",
       "      <th>type</th>\n",
       "      <th>type_code</th>\n",
       "      <th>subtype</th>\n",
       "      <th>subtype_code</th>\n",
       "    </tr>\n",
       "  </thead>\n",
       "  <tbody>\n",
       "    <tr>\n",
       "      <th>count</th>\n",
       "      <td>214200.0</td>\n",
       "      <td>214200.000000</td>\n",
       "      <td>214200.000000</td>\n",
       "      <td>0.0</td>\n",
       "      <td>214200.0</td>\n",
       "      <td>214200</td>\n",
       "      <td>214200.000000</td>\n",
       "      <td>214200</td>\n",
       "      <td>214200</td>\n",
       "      <td>214200.0</td>\n",
       "      <td>214200.0</td>\n",
       "      <td>214200.0</td>\n",
       "      <td>214200</td>\n",
       "      <td>214200.000000</td>\n",
       "      <td>214200</td>\n",
       "      <td>214200.000000</td>\n",
       "      <td>214200</td>\n",
       "      <td>214200.00000</td>\n",
       "    </tr>\n",
       "    <tr>\n",
       "      <th>unique</th>\n",
       "      <td>NaN</td>\n",
       "      <td>NaN</td>\n",
       "      <td>NaN</td>\n",
       "      <td>NaN</td>\n",
       "      <td>NaN</td>\n",
       "      <td>5100</td>\n",
       "      <td>NaN</td>\n",
       "      <td>62</td>\n",
       "      <td>42</td>\n",
       "      <td>NaN</td>\n",
       "      <td>NaN</td>\n",
       "      <td>NaN</td>\n",
       "      <td>28</td>\n",
       "      <td>NaN</td>\n",
       "      <td>16</td>\n",
       "      <td>NaN</td>\n",
       "      <td>49</td>\n",
       "      <td>NaN</td>\n",
       "    </tr>\n",
       "    <tr>\n",
       "      <th>top</th>\n",
       "      <td>NaN</td>\n",
       "      <td>NaN</td>\n",
       "      <td>NaN</td>\n",
       "      <td>NaN</td>\n",
       "      <td>NaN</td>\n",
       "      <td>Настольная игра Activity (новые слова) арт. 77...</td>\n",
       "      <td>NaN</td>\n",
       "      <td>Кино - DVD</td>\n",
       "      <td>Н.Новгород ТРЦ \"РИО\"</td>\n",
       "      <td>NaN</td>\n",
       "      <td>NaN</td>\n",
       "      <td>NaN</td>\n",
       "      <td>Москва</td>\n",
       "      <td>NaN</td>\n",
       "      <td>Кино</td>\n",
       "      <td>NaN</td>\n",
       "      <td>DVD</td>\n",
       "      <td>NaN</td>\n",
       "    </tr>\n",
       "    <tr>\n",
       "      <th>freq</th>\n",
       "      <td>NaN</td>\n",
       "      <td>NaN</td>\n",
       "      <td>NaN</td>\n",
       "      <td>NaN</td>\n",
       "      <td>NaN</td>\n",
       "      <td>42</td>\n",
       "      <td>NaN</td>\n",
       "      <td>32340</td>\n",
       "      <td>5100</td>\n",
       "      <td>NaN</td>\n",
       "      <td>NaN</td>\n",
       "      <td>NaN</td>\n",
       "      <td>35700</td>\n",
       "      <td>NaN</td>\n",
       "      <td>53046</td>\n",
       "      <td>NaN</td>\n",
       "      <td>32340</td>\n",
       "      <td>NaN</td>\n",
       "    </tr>\n",
       "    <tr>\n",
       "      <th>mean</th>\n",
       "      <td>34.0</td>\n",
       "      <td>31.642857</td>\n",
       "      <td>11019.398627</td>\n",
       "      <td>NaN</td>\n",
       "      <td>0.0</td>\n",
       "      <td>NaN</td>\n",
       "      <td>46.309608</td>\n",
       "      <td>NaN</td>\n",
       "      <td>NaN</td>\n",
       "      <td>2.0</td>\n",
       "      <td>10.0</td>\n",
       "      <td>30.0</td>\n",
       "      <td>NaN</td>\n",
       "      <td>15.452381</td>\n",
       "      <td>NaN</td>\n",
       "      <td>11.042549</td>\n",
       "      <td>NaN</td>\n",
       "      <td>22.78451</td>\n",
       "    </tr>\n",
       "    <tr>\n",
       "      <th>...</th>\n",
       "      <td>...</td>\n",
       "      <td>...</td>\n",
       "      <td>...</td>\n",
       "      <td>...</td>\n",
       "      <td>...</td>\n",
       "      <td>...</td>\n",
       "      <td>...</td>\n",
       "      <td>...</td>\n",
       "      <td>...</td>\n",
       "      <td>...</td>\n",
       "      <td>...</td>\n",
       "      <td>...</td>\n",
       "      <td>...</td>\n",
       "      <td>...</td>\n",
       "      <td>...</td>\n",
       "      <td>...</td>\n",
       "      <td>...</td>\n",
       "      <td>...</td>\n",
       "    </tr>\n",
       "    <tr>\n",
       "      <th>min</th>\n",
       "      <td>34.0</td>\n",
       "      <td>2.000000</td>\n",
       "      <td>30.000000</td>\n",
       "      <td>NaN</td>\n",
       "      <td>0.0</td>\n",
       "      <td>NaN</td>\n",
       "      <td>0.000000</td>\n",
       "      <td>NaN</td>\n",
       "      <td>NaN</td>\n",
       "      <td>2.0</td>\n",
       "      <td>10.0</td>\n",
       "      <td>30.0</td>\n",
       "      <td>NaN</td>\n",
       "      <td>0.000000</td>\n",
       "      <td>NaN</td>\n",
       "      <td>0.000000</td>\n",
       "      <td>NaN</td>\n",
       "      <td>0.00000</td>\n",
       "    </tr>\n",
       "    <tr>\n",
       "      <th>25%</th>\n",
       "      <td>34.0</td>\n",
       "      <td>16.000000</td>\n",
       "      <td>5381.500000</td>\n",
       "      <td>NaN</td>\n",
       "      <td>0.0</td>\n",
       "      <td>NaN</td>\n",
       "      <td>37.000000</td>\n",
       "      <td>NaN</td>\n",
       "      <td>NaN</td>\n",
       "      <td>2.0</td>\n",
       "      <td>10.0</td>\n",
       "      <td>30.0</td>\n",
       "      <td>NaN</td>\n",
       "      <td>10.000000</td>\n",
       "      <td>NaN</td>\n",
       "      <td>11.000000</td>\n",
       "      <td>NaN</td>\n",
       "      <td>4.00000</td>\n",
       "    </tr>\n",
       "    <tr>\n",
       "      <th>50%</th>\n",
       "      <td>34.0</td>\n",
       "      <td>34.500000</td>\n",
       "      <td>11203.000000</td>\n",
       "      <td>NaN</td>\n",
       "      <td>0.0</td>\n",
       "      <td>NaN</td>\n",
       "      <td>43.000000</td>\n",
       "      <td>NaN</td>\n",
       "      <td>NaN</td>\n",
       "      <td>2.0</td>\n",
       "      <td>10.0</td>\n",
       "      <td>30.0</td>\n",
       "      <td>NaN</td>\n",
       "      <td>15.000000</td>\n",
       "      <td>NaN</td>\n",
       "      <td>12.000000</td>\n",
       "      <td>NaN</td>\n",
       "      <td>16.00000</td>\n",
       "    </tr>\n",
       "    <tr>\n",
       "      <th>75%</th>\n",
       "      <td>34.0</td>\n",
       "      <td>47.000000</td>\n",
       "      <td>16071.500000</td>\n",
       "      <td>NaN</td>\n",
       "      <td>0.0</td>\n",
       "      <td>NaN</td>\n",
       "      <td>58.000000</td>\n",
       "      <td>NaN</td>\n",
       "      <td>NaN</td>\n",
       "      <td>2.0</td>\n",
       "      <td>10.0</td>\n",
       "      <td>30.0</td>\n",
       "      <td>NaN</td>\n",
       "      <td>22.000000</td>\n",
       "      <td>NaN</td>\n",
       "      <td>13.000000</td>\n",
       "      <td>NaN</td>\n",
       "      <td>41.00000</td>\n",
       "    </tr>\n",
       "    <tr>\n",
       "      <th>max</th>\n",
       "      <td>34.0</td>\n",
       "      <td>59.000000</td>\n",
       "      <td>22167.000000</td>\n",
       "      <td>NaN</td>\n",
       "      <td>0.0</td>\n",
       "      <td>NaN</td>\n",
       "      <td>83.000000</td>\n",
       "      <td>NaN</td>\n",
       "      <td>NaN</td>\n",
       "      <td>2.0</td>\n",
       "      <td>10.0</td>\n",
       "      <td>30.0</td>\n",
       "      <td>NaN</td>\n",
       "      <td>30.000000</td>\n",
       "      <td>NaN</td>\n",
       "      <td>19.000000</td>\n",
       "      <td>NaN</td>\n",
       "      <td>64.00000</td>\n",
       "    </tr>\n",
       "  </tbody>\n",
       "</table>\n",
       "<p>11 rows × 18 columns</p>\n",
       "</div>"
      ],
      "text/plain": [
       "        date_block_num        shop_id      ...       subtype  subtype_code\n",
       "count         214200.0  214200.000000      ...        214200  214200.00000\n",
       "unique             NaN            NaN      ...            49           NaN\n",
       "top                NaN            NaN      ...           DVD           NaN\n",
       "freq               NaN            NaN      ...         32340           NaN\n",
       "mean              34.0      31.642857      ...           NaN      22.78451\n",
       "...                ...            ...      ...           ...           ...\n",
       "min               34.0       2.000000      ...           NaN       0.00000\n",
       "25%               34.0      16.000000      ...           NaN       4.00000\n",
       "50%               34.0      34.500000      ...           NaN      16.00000\n",
       "75%               34.0      47.000000      ...           NaN      41.00000\n",
       "max               34.0      59.000000      ...           NaN      64.00000\n",
       "\n",
       "[11 rows x 18 columns]"
      ]
     },
     "execution_count": 54,
     "metadata": {},
     "output_type": "execute_result"
    }
   ],
   "source": [
    "# describe block dataframe for month 34\n",
    "df_block[df_block['date_block_num'] == 34].describe(include='all')"
   ]
  },
  {
   "cell_type": "code",
   "execution_count": 55,
   "metadata": {},
   "outputs": [
    {
     "data": {
      "text/plain": [
       "<matplotlib.axes._subplots.AxesSubplot at 0x7f2cc9663710>"
      ]
     },
     "execution_count": 55,
     "metadata": {},
     "output_type": "execute_result"
    },
    {
     "data": {
      "image/png": "[encoded data removed]",
      "text/plain": [
       "<Figure size 1440x432 with 2 Axes>"
      ]
     },
     "metadata": {
      "needs_background": "light"
     },
     "output_type": "display_data"
    }
   ],
   "source": [
    "# feature exploration: item price and number of products sold by item id 20949\n",
    "fig, axes = plt.subplots(figsize=(20 , 6), ncols=1, nrows=2)\n",
    "axes = axes.flatten()\n",
    "sns.scatterplot(x='date_block_num', y='item_cnt_month', data=df_block[df_block['item_id'] == 20949].groupby(['date_block_num'], as_index=False).agg({'item_cnt_month': 'mean'}), ax=axes[0])\n",
    "sns.boxplot(x='date_block_num', y='item_price', data=df_block[df_block['item_id'] == 20949], ax=axes[1])"
   ]
  },
  {
   "cell_type": "code",
   "execution_count": 56,
   "metadata": {},
   "outputs": [
    {
     "data": {
      "text/plain": [
       "<matplotlib.axes._subplots.AxesSubplot at 0x7f2dffe58710>"
      ]
     },
     "execution_count": 56,
     "metadata": {},
     "output_type": "execute_result"
    },
    {
     "data": {
      "image/png": "[encoded data removed]",
      "text/plain": [
       "<Figure size 1440x432 with 2 Axes>"
      ]
     },
     "metadata": {
      "needs_background": "light"
     },
     "output_type": "display_data"
    }
   ],
   "source": [
    "# feature exploration: item price and number of products sold by category id 71\n",
    "fig, axes = plt.subplots(figsize=(20 , 6), ncols=1, nrows=2)\n",
    "axes = axes.flatten()\n",
    "sns.scatterplot(x='date_block_num', y='item_cnt_month', data=df_block[df_block['item_category_id'] == 71].groupby(['date_block_num'], as_index=False).agg({'item_cnt_month': 'mean'}), ax=axes[0])\n",
    "sns.boxplot(x='date_block_num', y='item_price', data=df_block[df_block['item_category_id'] == 71], ax=axes[1])"
   ]
  },
  {
   "cell_type": "code",
   "execution_count": 57,
   "metadata": {},
   "outputs": [
    {
     "data": {
      "text/plain": [
       "<matplotlib.axes._subplots.AxesSubplot at 0x7f2d1b4d3dd8>"
      ]
     },
     "execution_count": 57,
     "metadata": {},
     "output_type": "execute_result"
    },
    {
     "data": {
      "image/png": "[encoded data removed]",
      "text/plain": [
       "<Figure size 1440x432 with 2 Axes>"
      ]
     },
     "metadata": {
      "needs_background": "light"
     },
     "output_type": "display_data"
    }
   ],
   "source": [
    "# feature exploration: item price and number of products sold by item id 8778\n",
    "fig, axes = plt.subplots(figsize=(20 , 6), ncols=1, nrows=2)\n",
    "axes = axes.flatten()\n",
    "sns.scatterplot(x='date_block_num', y='item_cnt_month', data=df_block[df_block['item_id'] == 8778].groupby(['date_block_num'], as_index=False).agg({'item_cnt_month': 'mean'}), ax=axes[0])\n",
    "sns.boxplot(x='date_block_num', y='item_price', data=df_block[df_block['item_id'] == 8778], ax=axes[1])"
   ]
  },
  {
   "cell_type": "code",
   "execution_count": 58,
   "metadata": {},
   "outputs": [
    {
     "data": {
      "text/plain": [
       "<matplotlib.axes._subplots.AxesSubplot at 0x7f2d2ed9a550>"
      ]
     },
     "execution_count": 58,
     "metadata": {},
     "output_type": "execute_result"
    },
    {
     "data": {
      "image/png": "[encoded data removed]",
      "text/plain": [
       "<Figure size 1440x432 with 2 Axes>"
      ]
     },
     "metadata": {
      "needs_background": "light"
     },
     "output_type": "display_data"
    }
   ],
   "source": [
    "# feature exploration: item price and number of products sold by item id 8778 and shop id 31\n",
    "fig, axes = plt.subplots(figsize=(20 , 6), ncols=1, nrows=2)\n",
    "axes = axes.flatten()\n",
    "sns.scatterplot(x='date_block_num', y='item_cnt_month', data=df_block[(df_block['item_id'] == 8778) & (df_block['shop_id'] == 31)].groupby(['date_block_num'], as_index=False).agg({'item_cnt_month': 'mean'}), ax=axes[0])\n",
    "sns.boxplot(x='date_block_num', y='item_price', data=df_block[(df_block['item_id'] == 8778) & (df_block['shop_id'] == 31)], ax=axes[1])"
   ]
  },
  {
   "cell_type": "code",
   "execution_count": 59,
   "metadata": {},
   "outputs": [
    {
     "data": {
      "text/plain": [
       "<matplotlib.axes._subplots.AxesSubplot at 0x7f2d41b36b38>"
      ]
     },
     "execution_count": 59,
     "metadata": {},
     "output_type": "execute_result"
    },
    {
     "data": {
      "image/png": "[encoded data removed]",
      "text/plain": [
       "<Figure size 1440x432 with 2 Axes>"
      ]
     },
     "metadata": {
      "needs_background": "light"
     },
     "output_type": "display_data"
    }
   ],
   "source": [
    "# feature exploration: item price and number of products sold by item id 8778 and shop id 25\n",
    "fig, axes = plt.subplots(figsize=(20 , 6), ncols=1, nrows=2)\n",
    "axes = axes.flatten()\n",
    "sns.scatterplot(x='date_block_num', y='item_cnt_month', data=df_block[(df_block['item_id'] == 8778) & (df_block['shop_id'] == 25)].groupby(['date_block_num'], as_index=False).agg({'item_cnt_month': 'mean'}), ax=axes[0])\n",
    "sns.boxplot(x='date_block_num', y='item_price', data=df_block[(df_block['item_id'] == 8778) & (df_block['shop_id'] == 25)], ax=axes[1])"
   ]
  },
  {
   "cell_type": "code",
   "execution_count": 60,
   "metadata": {},
   "outputs": [
    {
     "data": {
      "text/plain": [
       "<matplotlib.axes._subplots.AxesSubplot at 0x7f2d5430eb38>"
      ]
     },
     "execution_count": 60,
     "metadata": {},
     "output_type": "execute_result"
    },
    {
     "data": {
      "image/png": "[encoded data removed]",
      "text/plain": [
       "<Figure size 1440x432 with 2 Axes>"
      ]
     },
     "metadata": {
      "needs_background": "light"
     },
     "output_type": "display_data"
    }
   ],
   "source": [
    "# feature exploration: item price and number of products sold by item id 19602\n",
    "fig, axes = plt.subplots(figsize=(20 , 6), ncols=1, nrows=2)\n",
    "axes = axes.flatten()\n",
    "sns.scatterplot(x='date_block_num', y='item_cnt_month', data=df_block[df_block['item_id'] == 19602].groupby(['date_block_num'], as_index=False).agg({'item_cnt_month': 'mean'}), ax=axes[0])\n",
    "sns.boxplot(x='date_block_num', y='item_price', data=df_block[df_block['item_id'] == 19602], ax=axes[1])"
   ]
  },
  {
   "cell_type": "code",
   "execution_count": 61,
   "metadata": {},
   "outputs": [
    {
     "data": {
      "text/plain": [
       "<matplotlib.axes._subplots.AxesSubplot at 0x7f2d70a97dd8>"
      ]
     },
     "execution_count": 61,
     "metadata": {},
     "output_type": "execute_result"
    },
    {
     "data": {
      "image/png": "[encoded data removed]",
      "text/plain": [
       "<Figure size 1440x432 with 2 Axes>"
      ]
     },
     "metadata": {
      "needs_background": "light"
     },
     "output_type": "display_data"
    }
   ],
   "source": [
    "# feature exploration: item price and number of products sold by item id 19602 and shop id 31\n",
    "fig, axes = plt.subplots(figsize=(20 , 6), ncols=1, nrows=2)\n",
    "axes = axes.flatten()\n",
    "sns.scatterplot(x='date_block_num', y='item_cnt_month', data=df_block[(df_block['item_id'] == 19602) & (df_block['shop_id'] == 31)].groupby(['date_block_num'], as_index=False).agg({'item_cnt_month': 'mean'}), ax=axes[0])\n",
    "sns.boxplot(x='date_block_num', y='item_price', data=df_block[(df_block['item_id'] == 19602) & (df_block['shop_id'] == 31)], ax=axes[1])"
   ]
  },
  {
   "cell_type": "code",
   "execution_count": 62,
   "metadata": {},
   "outputs": [
    {
     "data": {
      "text/plain": [
       "<matplotlib.axes._subplots.AxesSubplot at 0x7f2d7e844a90>"
      ]
     },
     "execution_count": 62,
     "metadata": {},
     "output_type": "execute_result"
    },
    {
     "data": {
      "image/png": "[encoded data removed]",
      "text/plain": [
       "<Figure size 1440x432 with 2 Axes>"
      ]
     },
     "metadata": {
      "needs_background": "light"
     },
     "output_type": "display_data"
    }
   ],
   "source": [
    "# feature exploration: item price and number of products sold by item id 19602 and shop id 25\n",
    "fig, axes = plt.subplots(figsize=(20 , 6), ncols=1, nrows=2)\n",
    "axes = axes.flatten()\n",
    "sns.scatterplot(x='date_block_num', y='item_cnt_month', data=df_block[(df_block['item_id'] == 19602) & (df_block['shop_id'] == 25)].groupby(['date_block_num'], as_index=False).agg({'item_cnt_month': 'mean'}), ax=axes[0])\n",
    "sns.boxplot(x='date_block_num', y='item_price', data=df_block[(df_block['item_id'] == 19602) & (df_block['shop_id'] == 25)], ax=axes[1])"
   ]
  },
  {
   "cell_type": "code",
   "execution_count": 63,
   "metadata": {},
   "outputs": [
    {
     "data": {
      "text/plain": [
       "<matplotlib.axes._subplots.AxesSubplot at 0x7f2d9219a5c0>"
      ]
     },
     "execution_count": 63,
     "metadata": {},
     "output_type": "execute_result"
    },
    {
     "data": {
      "image/png": "[encoded data removed]",
      "text/plain": [
       "<Figure size 1440x432 with 2 Axes>"
      ]
     },
     "metadata": {
      "needs_background": "light"
     },
     "output_type": "display_data"
    }
   ],
   "source": [
    "# feature exploration: item price and number of products sold by category id 40\n",
    "fig, axes = plt.subplots(figsize=(20 , 6), ncols=1, nrows=2)\n",
    "axes = axes.flatten()\n",
    "sns.scatterplot(x='date_block_num', y='item_cnt_month', data=df_block[df_block['item_category_id'] == 40].groupby(['date_block_num'], as_index=False).agg({'item_cnt_month': 'mean'}), ax=axes[0])\n",
    "sns.boxplot(x='date_block_num', y='item_price', data=df_block[df_block['item_category_id'] == 40], ax=axes[1])"
   ]
  },
  {
   "cell_type": "code",
   "execution_count": 64,
   "metadata": {},
   "outputs": [
    {
     "data": {
      "text/plain": [
       "<matplotlib.axes._subplots.AxesSubplot at 0x7f2dae8bde48>"
      ]
     },
     "execution_count": 64,
     "metadata": {},
     "output_type": "execute_result"
    },
    {
     "data": {
      "image/png": "[encoded data removed]",
      "text/plain": [
       "<Figure size 1440x432 with 2 Axes>"
      ]
     },
     "metadata": {
      "needs_background": "light"
     },
     "output_type": "display_data"
    }
   ],
   "source": [
    "# feature exploration: item price and number of products sold by category id 40 and shop id 31\n",
    "fig, axes = plt.subplots(figsize=(20 , 6), ncols=1, nrows=2)\n",
    "axes = axes.flatten()\n",
    "sns.scatterplot(x='date_block_num', y='item_cnt_month', data=df_block[(df_block['item_category_id'] == 40) & (df_block['shop_id'] == 31)].groupby(['date_block_num'], as_index=False).agg({'item_cnt_month': 'mean'}), ax=axes[0])\n",
    "sns.boxplot(x='date_block_num', y='item_price', data=df_block[(df_block['item_category_id'] == 40) & (df_block['shop_id'] == 31)], ax=axes[1])"
   ]
  },
  {
   "cell_type": "code",
   "execution_count": 65,
   "metadata": {},
   "outputs": [
    {
     "data": {
      "text/plain": [
       "<matplotlib.axes._subplots.AxesSubplot at 0x7f2dbbed9c18>"
      ]
     },
     "execution_count": 65,
     "metadata": {},
     "output_type": "execute_result"
    },
    {
     "data": {
      "image/png": "[encoded data removed]",
      "text/plain": [
       "<Figure size 1440x432 with 2 Axes>"
      ]
     },
     "metadata": {
      "needs_background": "light"
     },
     "output_type": "display_data"
    }
   ],
   "source": [
    "# feature exploration: item price and number of products sold by category id 40 and shop id 25\n",
    "fig, axes = plt.subplots(figsize=(20 , 6), ncols=1, nrows=2)\n",
    "axes = axes.flatten()\n",
    "sns.scatterplot(x='date_block_num', y='item_cnt_month', data=df_block[(df_block['item_category_id'] == 40) & (df_block['shop_id'] == 25)].groupby(['date_block_num'], as_index=False).agg({'item_cnt_month': 'mean'}), ax=axes[0])\n",
    "sns.boxplot(x='date_block_num', y='item_price', data=df_block[(df_block['item_category_id'] == 40) & (df_block['shop_id'] == 25)], ax=axes[1])"
   ]
  },
  {
   "cell_type": "code",
   "execution_count": 66,
   "metadata": {},
   "outputs": [
    {
     "data": {
      "text/plain": [
       "163"
      ]
     },
     "execution_count": 66,
     "metadata": {},
     "output_type": "execute_result"
    }
   ],
   "source": [
    "# memory clean-up\n",
    "df_block = df_block.drop(['item_name', 'item_category_name', 'shop_name', 'city', 'type', 'subtype'], axis=1)\n",
    "gc.collect()"
   ]
  },
  {
   "cell_type": "markdown",
   "metadata": {},
   "source": [
    "The exploratory data analysis resulting in,\n",
    "\n",
    "* **Date:** It can be seen that there are correlations between item price and number of products sold with date."
   ]
  },
  {
   "cell_type": "code",
   "execution_count": 67,
   "metadata": {},
   "outputs": [],
   "source": [
    "# feature extraction: shifted features for item price\n",
    "for i in [1, 2, 3, 4, 5, 6]:\n",
    "    shifted = df_block[['date_block_num', 'shop_id', 'item_id', 'item_price']].copy(deep=True)\n",
    "    shifted.columns = ['date_block_num', 'shop_id','item_id', 'item_price_shift' + str(i)]\n",
    "    shifted['date_block_num'] = shifted['date_block_num'] + i\n",
    "    df_block = pd.merge(df_block, shifted, how='left', on=['date_block_num', 'shop_id', 'item_id'])"
   ]
  },
  {
   "cell_type": "code",
   "execution_count": 68,
   "metadata": {},
   "outputs": [],
   "source": [
    "# feature extraction: statistic features for item price by item\n",
    "df_block['item_price_by_item_mean'] = df_block.groupby(['item_id'])['item_price'].transform('mean').astype(np.float16)"
   ]
  },
  {
   "cell_type": "code",
   "execution_count": 69,
   "metadata": {},
   "outputs": [],
   "source": [
    "# feature extraction: statistic shifted features for item price by item and date block\n",
    "for i in [1, 2, 3, 4, 5, 6]: df_block['item_price_by_item_date_mean_shift' + str(i)] = df_block.groupby(['date_block_num', 'item_id'])['item_price_shift' + str(i)].transform('mean').astype(np.float16)"
   ]
  },
  {
   "cell_type": "code",
   "execution_count": 70,
   "metadata": {},
   "outputs": [],
   "source": [
    "# feature extraction: statistic shifted features for delta item price by item and date block\n",
    "for i in [1, 2, 3, 4, 5, 6]: df_block['delta_item_price_by_item_date_mean_shift' + str(i)] = (df_block['item_price_by_item_date_mean_shift' + str(i)] - df_block['item_price_by_item_mean']) / df_block['item_price_by_item_mean']\n",
    "\n",
    "def select_nonnull(row):\n",
    "    for i in [1, 2, 3, 4, 5, 6]:\n",
    "        if not(np.isnan(row['delta_item_price_by_item_date_mean_shift' + str(i)])): return row['delta_item_price_by_item_date_mean_shift' + str(i)]\n",
    "    return 0\n",
    "df_block['delta_item_price_by_item_date_mean_shift'] = df_block.apply(select_nonnull, axis=1)"
   ]
  },
  {
   "cell_type": "code",
   "execution_count": 71,
   "metadata": {},
   "outputs": [
    {
     "data": {
      "text/plain": [
       "245"
      ]
     },
     "execution_count": 71,
     "metadata": {},
     "output_type": "execute_result"
    }
   ],
   "source": [
    "# memory clean-up\n",
    "df_block = df_block.drop(['item_price_by_item_date_mean_shift' + str(i) for i in [1, 2, 3, 4, 5, 6]], axis=1)\n",
    "df_block = df_block.drop(['delta_item_price_by_item_date_mean_shift' + str(i) for i in [1, 2, 3, 4, 5, 6]], axis=1)\n",
    "gc.collect()"
   ]
  },
  {
   "cell_type": "markdown",
   "metadata": {},
   "source": [
    "The exploratory data analysis resulting in,\n",
    "\n",
    "* **Price:** As seen the correlations between item price and number of products sold above, the item price shift feature and select non-null number is applied."
   ]
  },
  {
   "cell_type": "code",
   "execution_count": 72,
   "metadata": {},
   "outputs": [],
   "source": [
    "# feature extraction: set maximum and minimum limit for number of products sold\n",
    "df_block['item_cnt_month'] = df_block['item_cnt_month'].clip(0 ,20)"
   ]
  },
  {
   "cell_type": "code",
   "execution_count": 73,
   "metadata": {},
   "outputs": [],
   "source": [
    "# feature extraction: shifted features for number of products sold\n",
    "for i in [1, 2, 3, 6, 12]:\n",
    "    shifted = df_block[['date_block_num', 'shop_id', 'item_id', 'item_cnt_month']].copy(deep=True)\n",
    "    shifted.columns = ['date_block_num', 'shop_id','item_id', 'item_cnt_month_shift' + str(i)]\n",
    "    shifted['date_block_num'] = shifted['date_block_num'] + i\n",
    "    df_block = pd.merge(df_block, shifted, how='left', on=['date_block_num', 'shop_id', 'item_id'])"
   ]
  },
  {
   "cell_type": "code",
   "execution_count": 74,
   "metadata": {},
   "outputs": [],
   "source": [
    "# feature extraction: statistic shifted features for number of products sold by date block\n",
    "for i in [1]: df_block['item_cnt_month_by_date_mean_shift' + str(i)] = df_block.groupby(['date_block_num'])['item_cnt_month_shift' + str(i)].transform('mean').astype(np.float16)"
   ]
  },
  {
   "cell_type": "code",
   "execution_count": 75,
   "metadata": {},
   "outputs": [],
   "source": [
    "# feature extraction: statistic shifted features for number of products sold by item and date block\n",
    "for i in [1, 2, 3, 6, 12]: df_block['item_cnt_month_by_item_date_mean_shift' + str(i)] = df_block.groupby(['date_block_num', 'item_id'])['item_cnt_month_shift' + str(i)].transform('mean').astype(np.float16)"
   ]
  },
  {
   "cell_type": "code",
   "execution_count": 76,
   "metadata": {},
   "outputs": [],
   "source": [
    "# feature extraction: statistic shifted features for number of products sold by category and date block\n",
    "for i in [1, 2, 3, 6, 12]: df_block['item_cnt_month_by_category_date_mean_shift' + str(i)] = df_block.groupby(['date_block_num', 'item_category_id'])['item_cnt_month_shift' + str(i)].transform('mean').astype(np.float16)"
   ]
  },
  {
   "cell_type": "code",
   "execution_count": 77,
   "metadata": {},
   "outputs": [],
   "source": [
    "# feature extraction: statistic shifted features for number of products sold by shop and date block\n",
    "for i in [1, 2, 3, 6, 12]: df_block['item_cnt_month_by_shop_date_mean_shift' + str(i)] = df_block.groupby(['date_block_num', 'shop_id'])['item_cnt_month_shift' + str(i)].transform('mean').astype(np.float16)"
   ]
  },
  {
   "cell_type": "code",
   "execution_count": 78,
   "metadata": {},
   "outputs": [],
   "source": [
    "# feature extraction: statistic shifted features for number of products sold by city and date block\n",
    "for i in [1]: df_block['item_cnt_month_by_city_date_mean_shift' + str(i)] = df_block.groupby(['date_block_num', 'city_code'])['item_cnt_month_shift' + str(i)].transform('mean').astype(np.float16)"
   ]
  },
  {
   "cell_type": "code",
   "execution_count": 79,
   "metadata": {},
   "outputs": [],
   "source": [
    "# feature extraction: statistic shifted features for number of products sold by item, city and date block\n",
    "for i in [1]: df_block['item_cnt_month_by_item_city_date_mean_shift' + str(i)] = df_block.groupby(['date_block_num', 'item_id', 'city_code'])['item_cnt_month_shift' + str(i)].transform('mean').astype(np.float16)"
   ]
  },
  {
   "cell_type": "code",
   "execution_count": 80,
   "metadata": {},
   "outputs": [],
   "source": [
    "# feature extraction: statistic shifted features for number of products sold by category, shop and date block\n",
    "for i in [1]: df_block['item_cnt_month_by_category_shop_date_mean_shift' + str(i)] = df_block.groupby(['date_block_num', 'item_category_id', 'shop_id'])['item_cnt_month_shift' + str(i)].transform('mean').astype(np.float16)"
   ]
  },
  {
   "cell_type": "markdown",
   "metadata": {},
   "source": [
    "The exploratory data analysis resulting in,\n",
    "\n",
    "* **Number of products sold:** The shift feature for number of products sold are created with multiple grouping combinations."
   ]
  },
  {
   "cell_type": "code",
   "execution_count": 81,
   "metadata": {},
   "outputs": [],
   "source": [
    "# feature extraction: first sale\n",
    "df_block['first_sale_item'] = (df_block['date_block_num'] - df_block.groupby(['item_id'])['date_block_num'].transform('min')).astype(np.int16)\n",
    "df_block['first_sale_item_shop'] = (df_block['date_block_num'] - df_block.groupby(['item_id', 'shop_id'])['date_block_num'].transform('min')).astype(np.int16)"
   ]
  },
  {
   "cell_type": "code",
   "execution_count": 82,
   "metadata": {},
   "outputs": [],
   "source": [
    "# feature extraction: number of products sold for first sale by category\n",
    "list_of_first = []\n",
    "for dateblocknum in df_block['date_block_num'].unique():\n",
    "    df_first = df_block[(df_block['date_block_num'] < dateblocknum) & (df_block['first_sale_item'] == 0)].groupby(['item_category_id'], as_index=False).agg({'item_cnt_month': 'mean'})\n",
    "    df_first.insert(0, 'date_block_num', dateblocknum)\n",
    "    list_of_first.append(df_first)\n",
    "df_first = pd.concat(list_of_first, ignore_index=True).rename(columns={'item_cnt_month': 'item_cnt_month_by_category_first'})\n",
    "df_block = pd.merge(df_block, df_first, how='left', on=['date_block_num', 'item_category_id'])"
   ]
  },
  {
   "cell_type": "code",
   "execution_count": 83,
   "metadata": {},
   "outputs": [],
   "source": [
    "# feature extraction: number of products sold for first sale by category for month onwards\n",
    "for i in [12, 18, 24, 30]:\n",
    "    list_of_first = []\n",
    "    for dateblocknum in df_block['date_block_num'].unique():\n",
    "        df_first = df_block[(df_block['date_block_num'] >= i) & (df_block['date_block_num'] < dateblocknum) & (df_block['first_sale_item'] == 0)].groupby(['item_category_id'], as_index=False).agg({'item_cnt_month': 'mean'})\n",
    "        df_first.insert(0, 'date_block_num', dateblocknum)\n",
    "        list_of_first.append(df_first)\n",
    "    df_first = pd.concat(list_of_first, ignore_index=True).rename(columns={'item_cnt_month': 'item_cnt_month_by_category_first_month' + str(i) + 'onwards'})\n",
    "    df_block = pd.merge(df_block, df_first, how='left', on=['date_block_num', 'item_category_id'])"
   ]
  },
  {
   "cell_type": "code",
   "execution_count": 84,
   "metadata": {},
   "outputs": [],
   "source": [
    "# feature extraction: number of products sold for first sale by category and shop\n",
    "list_of_first = []\n",
    "for dateblocknum in df_block['date_block_num'].unique():\n",
    "    df_first = df_block[(df_block['date_block_num'] < dateblocknum) & (df_block['first_sale_item'] == 0)].groupby(['item_category_id', 'shop_id'], as_index=False).agg({'item_cnt_month': 'mean'})\n",
    "    df_first.insert(0, 'date_block_num', dateblocknum)\n",
    "    list_of_first.append(df_first)\n",
    "df_first = pd.concat(list_of_first, ignore_index=True).rename(columns={'item_cnt_month': 'item_cnt_month_by_category_shop_first'})\n",
    "df_block = pd.merge(df_block, df_first, how='left', on=['date_block_num', 'item_category_id', 'shop_id'])"
   ]
  },
  {
   "cell_type": "code",
   "execution_count": 85,
   "metadata": {},
   "outputs": [],
   "source": [
    "# feature extraction: number of products sold for first sale by category and shop for month onwards\n",
    "for i in [12, 18, 24, 30]:\n",
    "    list_of_first = []\n",
    "    for dateblocknum in df_block['date_block_num'].unique():\n",
    "        df_first = df_block[(df_block['date_block_num'] >= i) & (df_block['date_block_num'] < dateblocknum) & (df_block['first_sale_item'] == 0)].groupby(['item_category_id', 'shop_id'], as_index=False).agg({'item_cnt_month': 'mean'})\n",
    "        df_first.insert(0, 'date_block_num', dateblocknum)\n",
    "        list_of_first.append(df_first)\n",
    "    df_first = pd.concat(list_of_first, ignore_index=True).rename(columns={'item_cnt_month': 'item_cnt_month_by_category_shop_first_month' + str(i) + 'onwards'})\n",
    "    df_block = pd.merge(df_block, df_first, how='left', on=['date_block_num', 'item_category_id', 'shop_id'])"
   ]
  },
  {
   "cell_type": "code",
   "execution_count": 86,
   "metadata": {},
   "outputs": [],
   "source": [
    "# feature extraction: number of products sold for first sale by category and city\n",
    "list_of_first = []\n",
    "for dateblocknum in df_block['date_block_num'].unique():\n",
    "    df_first = df_block[(df_block['date_block_num'] < dateblocknum) & (df_block['first_sale_item'] == 0)].groupby(['item_category_id', 'city_code'], as_index=False).agg({'item_cnt_month': 'mean'})\n",
    "    df_first.insert(0, 'date_block_num', dateblocknum)\n",
    "    list_of_first.append(df_first)\n",
    "df_first = pd.concat(list_of_first, ignore_index=True).rename(columns={'item_cnt_month': 'item_cnt_month_by_category_city_first'})\n",
    "df_block = pd.merge(df_block, df_first, how='left', on=['date_block_num', 'item_category_id', 'city_code'])"
   ]
  },
  {
   "cell_type": "code",
   "execution_count": 87,
   "metadata": {},
   "outputs": [],
   "source": [
    "# feature extraction: number of products sold for first sale by category and city for month onwards\n",
    "for i in [12, 18, 24, 30]:\n",
    "    list_of_first = []\n",
    "    for dateblocknum in df_block['date_block_num'].unique():\n",
    "        df_first = df_block[(df_block['date_block_num'] >= i) & (df_block['date_block_num'] < dateblocknum) & (df_block['first_sale_item'] == 0)].groupby(['item_category_id', 'city_code'], as_index=False).agg({'item_cnt_month': 'mean'})\n",
    "        df_first.insert(0, 'date_block_num', dateblocknum)\n",
    "        list_of_first.append(df_first)\n",
    "    df_first = pd.concat(list_of_first, ignore_index=True).rename(columns={'item_cnt_month': 'item_cnt_month_by_category_city_first_month' + str(i) + 'onwards'})\n",
    "    df_block = pd.merge(df_block, df_first, how='left', on=['date_block_num', 'item_category_id', 'city_code'])"
   ]
  },
  {
   "cell_type": "code",
   "execution_count": 88,
   "metadata": {},
   "outputs": [],
   "source": [
    "# feature extraction: number of products sold for first sale by category and type\n",
    "list_of_first = []\n",
    "for dateblocknum in df_block['date_block_num'].unique():\n",
    "    df_first = df_block[(df_block['date_block_num'] < dateblocknum) & (df_block['first_sale_item'] == 0)].groupby(['item_category_id', 'type_code'], as_index=False).agg({'item_cnt_month': 'mean'})\n",
    "    df_first.insert(0, 'date_block_num', dateblocknum)\n",
    "    list_of_first.append(df_first)\n",
    "df_first = pd.concat(list_of_first, ignore_index=True).rename(columns={'item_cnt_month': 'item_cnt_month_by_category_type_first'})\n",
    "df_block = pd.merge(df_block, df_first, how='left', on=['date_block_num', 'item_category_id', 'type_code'])"
   ]
  },
  {
   "cell_type": "code",
   "execution_count": 89,
   "metadata": {},
   "outputs": [],
   "source": [
    "# feature extraction: number of products sold for first sale by category and subtype\n",
    "list_of_first = []\n",
    "for dateblocknum in df_block['date_block_num'].unique():\n",
    "    df_first = df_block[(df_block['date_block_num'] < dateblocknum) & (df_block['first_sale_item'] == 0)].groupby(['item_category_id', 'subtype_code'], as_index=False).agg({'item_cnt_month': 'mean'})\n",
    "    df_first.insert(0, 'date_block_num', dateblocknum)\n",
    "    list_of_first.append(df_first)\n",
    "df_first = pd.concat(list_of_first, ignore_index=True).rename(columns={'item_cnt_month': 'item_cnt_month_by_category_subtype_first'})\n",
    "df_block = pd.merge(df_block, df_first, how='left', on=['date_block_num', 'item_category_id', 'subtype_code'])"
   ]
  },
  {
   "cell_type": "code",
   "execution_count": 90,
   "metadata": {},
   "outputs": [],
   "source": [
    "# feature extraction: number of products sold for first sale by shop\n",
    "list_of_first = []\n",
    "for dateblocknum in df_block['date_block_num'].unique():\n",
    "    df_first = df_block[(df_block['date_block_num'] < dateblocknum) & (df_block['first_sale_item'] == 0)].groupby(['shop_id'], as_index=False).agg({'item_cnt_month': 'mean'})\n",
    "    df_first.insert(0, 'date_block_num', dateblocknum)\n",
    "    list_of_first.append(df_first)\n",
    "df_first = pd.concat(list_of_first, ignore_index=True).rename(columns={'item_cnt_month': 'item_cnt_month_by_shop_first'})\n",
    "df_block = pd.merge(df_block, df_first, how='left', on=['date_block_num', 'shop_id'])"
   ]
  },
  {
   "cell_type": "code",
   "execution_count": 91,
   "metadata": {},
   "outputs": [],
   "source": [
    "# feature extraction: number of products sold for first sale by city\n",
    "list_of_first = []\n",
    "for dateblocknum in df_block['date_block_num'].unique():\n",
    "    df_first = df_block[(df_block['date_block_num'] < dateblocknum) & (df_block['first_sale_item'] == 0)].groupby(['city_code'], as_index=False).agg({'item_cnt_month': 'mean'})\n",
    "    df_first.insert(0, 'date_block_num', dateblocknum)\n",
    "    list_of_first.append(df_first)\n",
    "df_first = pd.concat(list_of_first, ignore_index=True).rename(columns={'item_cnt_month': 'item_cnt_month_by_city_first'})\n",
    "df_block = pd.merge(df_block, df_first, how='left', on=['date_block_num', 'city_code'])"
   ]
  },
  {
   "cell_type": "markdown",
   "metadata": {},
   "source": [
    "The exploratory data analysis resulting in,\n",
    "\n",
    "* **First sale:** There are multiple items sale at first time which shfit features are not covered. The mean features group by category, type, subtype, shop and city are created."
   ]
  },
  {
   "cell_type": "code",
   "execution_count": 92,
   "metadata": {},
   "outputs": [],
   "source": [
    "# feature extraction: drop first 12 months records\n",
    "df_block = df_block[df_block['date_block_num'] > 11]"
   ]
  },
  {
   "cell_type": "code",
   "execution_count": 93,
   "metadata": {},
   "outputs": [],
   "source": [
    "# feature extraction: fillna with 0\n",
    "col_fillnas = df_block.columns[df_block.isna().any()].tolist()\n",
    "df_block[col_fillnas] = df_block[col_fillnas].fillna(0)"
   ]
  },
  {
   "cell_type": "code",
   "execution_count": 94,
   "metadata": {},
   "outputs": [
    {
     "data": {
      "text/plain": [
       "28"
      ]
     },
     "execution_count": 94,
     "metadata": {},
     "output_type": "execute_result"
    }
   ],
   "source": [
    "# memory clean-up\n",
    "col_floats = [col for col in df_block.columns if df_block[col].dtypes == 'float64']\n",
    "col_ints = [col for col in df_block.columns if df_block[col].dtypes == 'int64']\n",
    "df_block[col_floats] = df_block[col_floats].astype(np.float16)\n",
    "df_block[col_ints] = df_block[col_ints].astype(np.int16)\n",
    "del df_first, list_of_first\n",
    "gc.collect()"
   ]
  },
  {
   "cell_type": "markdown",
   "metadata": {
    "_uuid": "4fe322218aa7f731f098e0482b1906889251a7f2"
   },
   "source": [
    "After extracting all features, it is required to convert category features to numerics features, a format suitable to feed into our Machine Learning models."
   ]
  },
  {
   "cell_type": "code",
   "execution_count": 95,
   "metadata": {
    "_uuid": "eb926e480c9c8a23c4459b24a570768412e891cd"
   },
   "outputs": [
    {
     "data": {
      "text/html": [
       "<div>\n",
       "<style scoped>\n",
       "    .dataframe tbody tr th:only-of-type {\n",
       "        vertical-align: middle;\n",
       "    }\n",
       "\n",
       "    .dataframe tbody tr th {\n",
       "        vertical-align: top;\n",
       "    }\n",
       "\n",
       "    .dataframe thead th {\n",
       "        text-align: right;\n",
       "    }\n",
       "</style>\n",
       "<table border=\"1\" class=\"dataframe\">\n",
       "  <thead>\n",
       "    <tr style=\"text-align: right;\">\n",
       "      <th></th>\n",
       "      <th>date_block_num</th>\n",
       "      <th>shop_id</th>\n",
       "      <th>item_id</th>\n",
       "      <th>item_price</th>\n",
       "      <th>item_cnt_month</th>\n",
       "      <th>item_category_id</th>\n",
       "      <th>year</th>\n",
       "      <th>month</th>\n",
       "      <th>day</th>\n",
       "      <th>city_code</th>\n",
       "      <th>type_code</th>\n",
       "      <th>subtype_code</th>\n",
       "      <th>item_price_shift1</th>\n",
       "      <th>item_price_shift2</th>\n",
       "      <th>item_price_shift3</th>\n",
       "      <th>item_price_shift4</th>\n",
       "      <th>item_price_shift5</th>\n",
       "      <th>item_price_shift6</th>\n",
       "      <th>item_price_by_item_mean</th>\n",
       "      <th>delta_item_price_by_item_date_mean_shift</th>\n",
       "      <th>item_cnt_month_shift1</th>\n",
       "      <th>item_cnt_month_shift2</th>\n",
       "      <th>item_cnt_month_shift3</th>\n",
       "      <th>item_cnt_month_shift6</th>\n",
       "      <th>item_cnt_month_shift12</th>\n",
       "      <th>item_cnt_month_by_date_mean_shift1</th>\n",
       "      <th>item_cnt_month_by_item_date_mean_shift1</th>\n",
       "      <th>item_cnt_month_by_item_date_mean_shift2</th>\n",
       "      <th>item_cnt_month_by_item_date_mean_shift3</th>\n",
       "      <th>item_cnt_month_by_item_date_mean_shift6</th>\n",
       "      <th>item_cnt_month_by_item_date_mean_shift12</th>\n",
       "      <th>item_cnt_month_by_category_date_mean_shift1</th>\n",
       "      <th>item_cnt_month_by_category_date_mean_shift2</th>\n",
       "      <th>item_cnt_month_by_category_date_mean_shift3</th>\n",
       "      <th>item_cnt_month_by_category_date_mean_shift6</th>\n",
       "      <th>item_cnt_month_by_category_date_mean_shift12</th>\n",
       "      <th>item_cnt_month_by_shop_date_mean_shift1</th>\n",
       "      <th>item_cnt_month_by_shop_date_mean_shift2</th>\n",
       "      <th>item_cnt_month_by_shop_date_mean_shift3</th>\n",
       "      <th>item_cnt_month_by_shop_date_mean_shift6</th>\n",
       "      <th>item_cnt_month_by_shop_date_mean_shift12</th>\n",
       "      <th>item_cnt_month_by_city_date_mean_shift1</th>\n",
       "      <th>item_cnt_month_by_item_city_date_mean_shift1</th>\n",
       "      <th>item_cnt_month_by_category_shop_date_mean_shift1</th>\n",
       "      <th>first_sale_item</th>\n",
       "      <th>first_sale_item_shop</th>\n",
       "      <th>item_cnt_month_by_category_first</th>\n",
       "      <th>item_cnt_month_by_category_first_month12onwards</th>\n",
       "      <th>item_cnt_month_by_category_first_month18onwards</th>\n",
       "      <th>item_cnt_month_by_category_first_month24onwards</th>\n",
       "      <th>item_cnt_month_by_category_first_month30onwards</th>\n",
       "      <th>item_cnt_month_by_category_shop_first</th>\n",
       "      <th>item_cnt_month_by_category_shop_first_month12onwards</th>\n",
       "      <th>item_cnt_month_by_category_shop_first_month18onwards</th>\n",
       "      <th>item_cnt_month_by_category_shop_first_month24onwards</th>\n",
       "      <th>item_cnt_month_by_category_shop_first_month30onwards</th>\n",
       "      <th>item_cnt_month_by_category_city_first</th>\n",
       "      <th>item_cnt_month_by_category_city_first_month12onwards</th>\n",
       "      <th>item_cnt_month_by_category_city_first_month18onwards</th>\n",
       "      <th>item_cnt_month_by_category_city_first_month24onwards</th>\n",
       "      <th>item_cnt_month_by_category_city_first_month30onwards</th>\n",
       "      <th>item_cnt_month_by_category_type_first</th>\n",
       "      <th>item_cnt_month_by_category_subtype_first</th>\n",
       "      <th>item_cnt_month_by_shop_first</th>\n",
       "      <th>item_cnt_month_by_city_first</th>\n",
       "    </tr>\n",
       "  </thead>\n",
       "  <tbody>\n",
       "    <tr>\n",
       "      <th>count</th>\n",
       "      <td>6.639294e+06</td>\n",
       "      <td>6.639294e+06</td>\n",
       "      <td>6.639294e+06</td>\n",
       "      <td>6639294.0</td>\n",
       "      <td>6639294.0</td>\n",
       "      <td>6.639294e+06</td>\n",
       "      <td>6.639294e+06</td>\n",
       "      <td>6.639294e+06</td>\n",
       "      <td>6.639294e+06</td>\n",
       "      <td>6.639294e+06</td>\n",
       "      <td>6.639294e+06</td>\n",
       "      <td>6.639294e+06</td>\n",
       "      <td>6639294.0</td>\n",
       "      <td>6639294.0</td>\n",
       "      <td>6639294.0</td>\n",
       "      <td>6639294.0</td>\n",
       "      <td>6639294.0</td>\n",
       "      <td>6639294.0</td>\n",
       "      <td>6639294.000</td>\n",
       "      <td>6.639294e+06</td>\n",
       "      <td>6639294.0</td>\n",
       "      <td>6639294.0</td>\n",
       "      <td>6639294.0</td>\n",
       "      <td>6639294.0</td>\n",
       "      <td>6639294.0</td>\n",
       "      <td>6.639294e+06</td>\n",
       "      <td>6.639294e+06</td>\n",
       "      <td>6.639294e+06</td>\n",
       "      <td>6.639294e+06</td>\n",
       "      <td>6.639294e+06</td>\n",
       "      <td>6.639294e+06</td>\n",
       "      <td>6.639294e+06</td>\n",
       "      <td>6.639294e+06</td>\n",
       "      <td>6.639294e+06</td>\n",
       "      <td>6.639294e+06</td>\n",
       "      <td>6.639294e+06</td>\n",
       "      <td>6.639294e+06</td>\n",
       "      <td>6.639294e+06</td>\n",
       "      <td>6.639294e+06</td>\n",
       "      <td>6.639294e+06</td>\n",
       "      <td>6.639294e+06</td>\n",
       "      <td>6.639294e+06</td>\n",
       "      <td>6.639294e+06</td>\n",
       "      <td>6.639294e+06</td>\n",
       "      <td>6.639294e+06</td>\n",
       "      <td>6.639294e+06</td>\n",
       "      <td>6.639294e+06</td>\n",
       "      <td>6.639294e+06</td>\n",
       "      <td>6.639294e+06</td>\n",
       "      <td>6.639294e+06</td>\n",
       "      <td>6.639294e+06</td>\n",
       "      <td>6.639294e+06</td>\n",
       "      <td>6.639294e+06</td>\n",
       "      <td>6.639294e+06</td>\n",
       "      <td>6.639294e+06</td>\n",
       "      <td>6639294.00</td>\n",
       "      <td>6.639294e+06</td>\n",
       "      <td>6.639294e+06</td>\n",
       "      <td>6.639294e+06</td>\n",
       "      <td>6.639294e+06</td>\n",
       "      <td>6639294.00</td>\n",
       "      <td>6.639294e+06</td>\n",
       "      <td>6.639294e+06</td>\n",
       "      <td>6.639294e+06</td>\n",
       "      <td>6.639294e+06</td>\n",
       "    </tr>\n",
       "    <tr>\n",
       "      <th>mean</th>\n",
       "      <td>2.199694e+01</td>\n",
       "      <td>3.187348e+01</td>\n",
       "      <td>1.126362e+04</td>\n",
       "      <td>NaN</td>\n",
       "      <td>NaN</td>\n",
       "      <td>4.495836e+01</td>\n",
       "      <td>1.406636e+00</td>\n",
       "      <td>5.117307e+00</td>\n",
       "      <td>3.039279e+01</td>\n",
       "      <td>1.553656e+01</td>\n",
       "      <td>1.099628e+01</td>\n",
       "      <td>1.953048e+01</td>\n",
       "      <td>NaN</td>\n",
       "      <td>NaN</td>\n",
       "      <td>NaN</td>\n",
       "      <td>NaN</td>\n",
       "      <td>NaN</td>\n",
       "      <td>NaN</td>\n",
       "      <td>NaN</td>\n",
       "      <td>NaN</td>\n",
       "      <td>NaN</td>\n",
       "      <td>NaN</td>\n",
       "      <td>NaN</td>\n",
       "      <td>NaN</td>\n",
       "      <td>NaN</td>\n",
       "      <td>NaN</td>\n",
       "      <td>NaN</td>\n",
       "      <td>NaN</td>\n",
       "      <td>NaN</td>\n",
       "      <td>NaN</td>\n",
       "      <td>NaN</td>\n",
       "      <td>NaN</td>\n",
       "      <td>NaN</td>\n",
       "      <td>NaN</td>\n",
       "      <td>NaN</td>\n",
       "      <td>NaN</td>\n",
       "      <td>NaN</td>\n",
       "      <td>NaN</td>\n",
       "      <td>NaN</td>\n",
       "      <td>NaN</td>\n",
       "      <td>NaN</td>\n",
       "      <td>NaN</td>\n",
       "      <td>NaN</td>\n",
       "      <td>NaN</td>\n",
       "      <td>1.307342e+01</td>\n",
       "      <td>1.225471e+01</td>\n",
       "      <td>NaN</td>\n",
       "      <td>NaN</td>\n",
       "      <td>NaN</td>\n",
       "      <td>NaN</td>\n",
       "      <td>NaN</td>\n",
       "      <td>NaN</td>\n",
       "      <td>NaN</td>\n",
       "      <td>NaN</td>\n",
       "      <td>NaN</td>\n",
       "      <td>NaN</td>\n",
       "      <td>NaN</td>\n",
       "      <td>NaN</td>\n",
       "      <td>NaN</td>\n",
       "      <td>NaN</td>\n",
       "      <td>NaN</td>\n",
       "      <td>NaN</td>\n",
       "      <td>NaN</td>\n",
       "      <td>NaN</td>\n",
       "      <td>NaN</td>\n",
       "    </tr>\n",
       "    <tr>\n",
       "      <th>std</th>\n",
       "      <td>6.461452e+00</td>\n",
       "      <td>1.726781e+01</td>\n",
       "      <td>6.271893e+03</td>\n",
       "      <td>NaN</td>\n",
       "      <td>0.0</td>\n",
       "      <td>1.573942e+01</td>\n",
       "      <td>4.912059e-01</td>\n",
       "      <td>3.388494e+00</td>\n",
       "      <td>8.900391e-01</td>\n",
       "      <td>7.995480e+00</td>\n",
       "      <td>2.978096e+00</td>\n",
       "      <td>2.084926e+01</td>\n",
       "      <td>NaN</td>\n",
       "      <td>NaN</td>\n",
       "      <td>NaN</td>\n",
       "      <td>NaN</td>\n",
       "      <td>NaN</td>\n",
       "      <td>NaN</td>\n",
       "      <td>NaN</td>\n",
       "      <td>0.000000e+00</td>\n",
       "      <td>0.0</td>\n",
       "      <td>0.0</td>\n",
       "      <td>0.0</td>\n",
       "      <td>0.0</td>\n",
       "      <td>0.0</td>\n",
       "      <td>0.000000e+00</td>\n",
       "      <td>0.000000e+00</td>\n",
       "      <td>0.000000e+00</td>\n",
       "      <td>0.000000e+00</td>\n",
       "      <td>0.000000e+00</td>\n",
       "      <td>0.000000e+00</td>\n",
       "      <td>0.000000e+00</td>\n",
       "      <td>0.000000e+00</td>\n",
       "      <td>0.000000e+00</td>\n",
       "      <td>0.000000e+00</td>\n",
       "      <td>0.000000e+00</td>\n",
       "      <td>0.000000e+00</td>\n",
       "      <td>0.000000e+00</td>\n",
       "      <td>0.000000e+00</td>\n",
       "      <td>0.000000e+00</td>\n",
       "      <td>0.000000e+00</td>\n",
       "      <td>0.000000e+00</td>\n",
       "      <td>0.000000e+00</td>\n",
       "      <td>0.000000e+00</td>\n",
       "      <td>8.447809e+00</td>\n",
       "      <td>8.390482e+00</td>\n",
       "      <td>0.000000e+00</td>\n",
       "      <td>0.000000e+00</td>\n",
       "      <td>0.000000e+00</td>\n",
       "      <td>0.000000e+00</td>\n",
       "      <td>0.000000e+00</td>\n",
       "      <td>0.000000e+00</td>\n",
       "      <td>0.000000e+00</td>\n",
       "      <td>0.000000e+00</td>\n",
       "      <td>0.000000e+00</td>\n",
       "      <td>0.00</td>\n",
       "      <td>0.000000e+00</td>\n",
       "      <td>0.000000e+00</td>\n",
       "      <td>0.000000e+00</td>\n",
       "      <td>0.000000e+00</td>\n",
       "      <td>0.00</td>\n",
       "      <td>0.000000e+00</td>\n",
       "      <td>0.000000e+00</td>\n",
       "      <td>0.000000e+00</td>\n",
       "      <td>0.000000e+00</td>\n",
       "    </tr>\n",
       "    <tr>\n",
       "      <th>min</th>\n",
       "      <td>1.200000e+01</td>\n",
       "      <td>2.000000e+00</td>\n",
       "      <td>0.000000e+00</td>\n",
       "      <td>0.0</td>\n",
       "      <td>0.0</td>\n",
       "      <td>0.000000e+00</td>\n",
       "      <td>1.000000e+00</td>\n",
       "      <td>0.000000e+00</td>\n",
       "      <td>2.800000e+01</td>\n",
       "      <td>0.000000e+00</td>\n",
       "      <td>0.000000e+00</td>\n",
       "      <td>0.000000e+00</td>\n",
       "      <td>0.0</td>\n",
       "      <td>0.0</td>\n",
       "      <td>0.0</td>\n",
       "      <td>0.0</td>\n",
       "      <td>0.0</td>\n",
       "      <td>0.0</td>\n",
       "      <td>0.000</td>\n",
       "      <td>-1.000000e+00</td>\n",
       "      <td>0.0</td>\n",
       "      <td>0.0</td>\n",
       "      <td>0.0</td>\n",
       "      <td>0.0</td>\n",
       "      <td>0.0</td>\n",
       "      <td>3.161621e-01</td>\n",
       "      <td>0.000000e+00</td>\n",
       "      <td>0.000000e+00</td>\n",
       "      <td>0.000000e+00</td>\n",
       "      <td>0.000000e+00</td>\n",
       "      <td>0.000000e+00</td>\n",
       "      <td>0.000000e+00</td>\n",
       "      <td>0.000000e+00</td>\n",
       "      <td>0.000000e+00</td>\n",
       "      <td>0.000000e+00</td>\n",
       "      <td>0.000000e+00</td>\n",
       "      <td>0.000000e+00</td>\n",
       "      <td>0.000000e+00</td>\n",
       "      <td>0.000000e+00</td>\n",
       "      <td>0.000000e+00</td>\n",
       "      <td>0.000000e+00</td>\n",
       "      <td>0.000000e+00</td>\n",
       "      <td>0.000000e+00</td>\n",
       "      <td>0.000000e+00</td>\n",
       "      <td>0.000000e+00</td>\n",
       "      <td>0.000000e+00</td>\n",
       "      <td>0.000000e+00</td>\n",
       "      <td>0.000000e+00</td>\n",
       "      <td>0.000000e+00</td>\n",
       "      <td>0.000000e+00</td>\n",
       "      <td>0.000000e+00</td>\n",
       "      <td>0.000000e+00</td>\n",
       "      <td>0.000000e+00</td>\n",
       "      <td>0.000000e+00</td>\n",
       "      <td>0.000000e+00</td>\n",
       "      <td>0.00</td>\n",
       "      <td>0.000000e+00</td>\n",
       "      <td>0.000000e+00</td>\n",
       "      <td>0.000000e+00</td>\n",
       "      <td>0.000000e+00</td>\n",
       "      <td>0.00</td>\n",
       "      <td>0.000000e+00</td>\n",
       "      <td>0.000000e+00</td>\n",
       "      <td>0.000000e+00</td>\n",
       "      <td>0.000000e+00</td>\n",
       "    </tr>\n",
       "    <tr>\n",
       "      <th>25%</th>\n",
       "      <td>1.600000e+01</td>\n",
       "      <td>1.700000e+01</td>\n",
       "      <td>5.680000e+03</td>\n",
       "      <td>0.0</td>\n",
       "      <td>0.0</td>\n",
       "      <td>3.700000e+01</td>\n",
       "      <td>1.000000e+00</td>\n",
       "      <td>2.000000e+00</td>\n",
       "      <td>3.000000e+01</td>\n",
       "      <td>1.100000e+01</td>\n",
       "      <td>1.100000e+01</td>\n",
       "      <td>2.000000e+00</td>\n",
       "      <td>0.0</td>\n",
       "      <td>0.0</td>\n",
       "      <td>0.0</td>\n",
       "      <td>0.0</td>\n",
       "      <td>0.0</td>\n",
       "      <td>0.0</td>\n",
       "      <td>211.375</td>\n",
       "      <td>-9.112549e-02</td>\n",
       "      <td>0.0</td>\n",
       "      <td>0.0</td>\n",
       "      <td>0.0</td>\n",
       "      <td>0.0</td>\n",
       "      <td>0.0</td>\n",
       "      <td>3.266602e-01</td>\n",
       "      <td>2.040100e-02</td>\n",
       "      <td>2.000427e-02</td>\n",
       "      <td>0.000000e+00</td>\n",
       "      <td>0.000000e+00</td>\n",
       "      <td>0.000000e+00</td>\n",
       "      <td>1.790771e-01</td>\n",
       "      <td>1.851807e-01</td>\n",
       "      <td>1.881104e-01</td>\n",
       "      <td>1.968994e-01</td>\n",
       "      <td>2.104492e-01</td>\n",
       "      <td>2.084961e-01</td>\n",
       "      <td>2.177734e-01</td>\n",
       "      <td>2.252197e-01</td>\n",
       "      <td>2.459717e-01</td>\n",
       "      <td>2.795410e-01</td>\n",
       "      <td>2.125244e-01</td>\n",
       "      <td>0.000000e+00</td>\n",
       "      <td>5.578613e-02</td>\n",
       "      <td>6.000000e+00</td>\n",
       "      <td>5.000000e+00</td>\n",
       "      <td>2.028809e-01</td>\n",
       "      <td>1.032104e-01</td>\n",
       "      <td>0.000000e+00</td>\n",
       "      <td>0.000000e+00</td>\n",
       "      <td>0.000000e+00</td>\n",
       "      <td>6.433105e-02</td>\n",
       "      <td>0.000000e+00</td>\n",
       "      <td>0.000000e+00</td>\n",
       "      <td>0.000000e+00</td>\n",
       "      <td>0.00</td>\n",
       "      <td>8.508301e-02</td>\n",
       "      <td>2.082825e-02</td>\n",
       "      <td>0.000000e+00</td>\n",
       "      <td>0.000000e+00</td>\n",
       "      <td>0.00</td>\n",
       "      <td>2.028809e-01</td>\n",
       "      <td>2.028809e-01</td>\n",
       "      <td>3.017578e-01</td>\n",
       "      <td>3.117676e-01</td>\n",
       "    </tr>\n",
       "    <tr>\n",
       "      <th>50%</th>\n",
       "      <td>2.200000e+01</td>\n",
       "      <td>3.300000e+01</td>\n",
       "      <td>1.137200e+04</td>\n",
       "      <td>0.0</td>\n",
       "      <td>0.0</td>\n",
       "      <td>4.000000e+01</td>\n",
       "      <td>1.000000e+00</td>\n",
       "      <td>5.000000e+00</td>\n",
       "      <td>3.100000e+01</td>\n",
       "      <td>1.400000e+01</td>\n",
       "      <td>1.100000e+01</td>\n",
       "      <td>1.000000e+01</td>\n",
       "      <td>0.0</td>\n",
       "      <td>0.0</td>\n",
       "      <td>0.0</td>\n",
       "      <td>0.0</td>\n",
       "      <td>0.0</td>\n",
       "      <td>0.0</td>\n",
       "      <td>346.750</td>\n",
       "      <td>0.000000e+00</td>\n",
       "      <td>0.0</td>\n",
       "      <td>0.0</td>\n",
       "      <td>0.0</td>\n",
       "      <td>0.0</td>\n",
       "      <td>0.0</td>\n",
       "      <td>3.474121e-01</td>\n",
       "      <td>8.160400e-02</td>\n",
       "      <td>8.160400e-02</td>\n",
       "      <td>8.001709e-02</td>\n",
       "      <td>6.524658e-02</td>\n",
       "      <td>2.221680e-02</td>\n",
       "      <td>2.592773e-01</td>\n",
       "      <td>2.761230e-01</td>\n",
       "      <td>2.851562e-01</td>\n",
       "      <td>3.046875e-01</td>\n",
       "      <td>3.312988e-01</td>\n",
       "      <td>2.839355e-01</td>\n",
       "      <td>2.963867e-01</td>\n",
       "      <td>3.078613e-01</td>\n",
       "      <td>3.393555e-01</td>\n",
       "      <td>3.964844e-01</td>\n",
       "      <td>2.944336e-01</td>\n",
       "      <td>0.000000e+00</td>\n",
       "      <td>1.706543e-01</td>\n",
       "      <td>1.300000e+01</td>\n",
       "      <td>1.200000e+01</td>\n",
       "      <td>3.916016e-01</td>\n",
       "      <td>5.512695e-01</td>\n",
       "      <td>1.041870e-01</td>\n",
       "      <td>0.000000e+00</td>\n",
       "      <td>0.000000e+00</td>\n",
       "      <td>2.298584e-01</td>\n",
       "      <td>2.453613e-01</td>\n",
       "      <td>0.000000e+00</td>\n",
       "      <td>0.000000e+00</td>\n",
       "      <td>0.00</td>\n",
       "      <td>2.756348e-01</td>\n",
       "      <td>2.963867e-01</td>\n",
       "      <td>2.830505e-02</td>\n",
       "      <td>0.000000e+00</td>\n",
       "      <td>0.00</td>\n",
       "      <td>3.916016e-01</td>\n",
       "      <td>3.916016e-01</td>\n",
       "      <td>3.820801e-01</td>\n",
       "      <td>4.360352e-01</td>\n",
       "    </tr>\n",
       "    <tr>\n",
       "      <th>75%</th>\n",
       "      <td>2.700000e+01</td>\n",
       "      <td>4.700000e+01</td>\n",
       "      <td>1.653600e+04</td>\n",
       "      <td>0.0</td>\n",
       "      <td>0.0</td>\n",
       "      <td>5.600000e+01</td>\n",
       "      <td>2.000000e+00</td>\n",
       "      <td>8.000000e+00</td>\n",
       "      <td>3.100000e+01</td>\n",
       "      <td>2.200000e+01</td>\n",
       "      <td>1.300000e+01</td>\n",
       "      <td>3.500000e+01</td>\n",
       "      <td>0.0</td>\n",
       "      <td>0.0</td>\n",
       "      <td>0.0</td>\n",
       "      <td>0.0</td>\n",
       "      <td>0.0</td>\n",
       "      <td>0.0</td>\n",
       "      <td>885.500</td>\n",
       "      <td>3.244019e-02</td>\n",
       "      <td>0.0</td>\n",
       "      <td>0.0</td>\n",
       "      <td>0.0</td>\n",
       "      <td>0.0</td>\n",
       "      <td>0.0</td>\n",
       "      <td>3.779297e-01</td>\n",
       "      <td>2.438965e-01</td>\n",
       "      <td>2.448730e-01</td>\n",
       "      <td>2.448730e-01</td>\n",
       "      <td>2.391357e-01</td>\n",
       "      <td>1.904297e-01</td>\n",
       "      <td>3.505859e-01</td>\n",
       "      <td>3.579102e-01</td>\n",
       "      <td>3.750000e-01</td>\n",
       "      <td>4.086914e-01</td>\n",
       "      <td>4.711914e-01</td>\n",
       "      <td>3.857422e-01</td>\n",
       "      <td>4.020996e-01</td>\n",
       "      <td>4.189453e-01</td>\n",
       "      <td>4.692383e-01</td>\n",
       "      <td>5.468750e-01</td>\n",
       "      <td>5.400391e-01</td>\n",
       "      <td>9.997559e-02</td>\n",
       "      <td>3.769531e-01</td>\n",
       "      <td>1.900000e+01</td>\n",
       "      <td>1.800000e+01</td>\n",
       "      <td>5.600586e-01</td>\n",
       "      <td>8.852539e-01</td>\n",
       "      <td>7.119141e-01</td>\n",
       "      <td>1.520996e-01</td>\n",
       "      <td>0.000000e+00</td>\n",
       "      <td>5.698242e-01</td>\n",
       "      <td>7.519531e-01</td>\n",
       "      <td>5.083008e-01</td>\n",
       "      <td>1.754761e-02</td>\n",
       "      <td>0.00</td>\n",
       "      <td>5.952148e-01</td>\n",
       "      <td>8.544922e-01</td>\n",
       "      <td>5.395508e-01</td>\n",
       "      <td>5.883789e-02</td>\n",
       "      <td>0.00</td>\n",
       "      <td>5.600586e-01</td>\n",
       "      <td>5.600586e-01</td>\n",
       "      <td>5.122070e-01</td>\n",
       "      <td>5.981445e-01</td>\n",
       "    </tr>\n",
       "    <tr>\n",
       "      <th>max</th>\n",
       "      <td>3.400000e+01</td>\n",
       "      <td>5.900000e+01</td>\n",
       "      <td>2.216900e+04</td>\n",
       "      <td>51008.0</td>\n",
       "      <td>20.0</td>\n",
       "      <td>8.300000e+01</td>\n",
       "      <td>2.000000e+00</td>\n",
       "      <td>1.100000e+01</td>\n",
       "      <td>3.100000e+01</td>\n",
       "      <td>3.000000e+01</td>\n",
       "      <td>1.900000e+01</td>\n",
       "      <td>6.400000e+01</td>\n",
       "      <td>42976.0</td>\n",
       "      <td>36992.0</td>\n",
       "      <td>36992.0</td>\n",
       "      <td>35488.0</td>\n",
       "      <td>36000.0</td>\n",
       "      <td>36000.0</td>\n",
       "      <td>51008.000</td>\n",
       "      <td>3.851562e+00</td>\n",
       "      <td>20.0</td>\n",
       "      <td>20.0</td>\n",
       "      <td>20.0</td>\n",
       "      <td>20.0</td>\n",
       "      <td>20.0</td>\n",
       "      <td>5.566406e-01</td>\n",
       "      <td>1.954688e+01</td>\n",
       "      <td>1.953125e+01</td>\n",
       "      <td>1.953125e+01</td>\n",
       "      <td>1.956250e+01</td>\n",
       "      <td>1.956250e+01</td>\n",
       "      <td>1.923438e+01</td>\n",
       "      <td>1.918750e+01</td>\n",
       "      <td>1.917188e+01</td>\n",
       "      <td>1.917188e+01</td>\n",
       "      <td>1.910938e+01</td>\n",
       "      <td>2.228516e+00</td>\n",
       "      <td>2.308594e+00</td>\n",
       "      <td>2.392578e+00</td>\n",
       "      <td>2.722656e+00</td>\n",
       "      <td>2.654297e+00</td>\n",
       "      <td>1.222656e+00</td>\n",
       "      <td>2.000000e+01</td>\n",
       "      <td>2.000000e+01</td>\n",
       "      <td>3.400000e+01</td>\n",
       "      <td>3.400000e+01</td>\n",
       "      <td>1.804688e+01</td>\n",
       "      <td>7.347656e+00</td>\n",
       "      <td>1.517969e+01</td>\n",
       "      <td>6.273438e+00</td>\n",
       "      <td>5.597656e+00</td>\n",
       "      <td>2.000000e+01</td>\n",
       "      <td>1.807812e+01</td>\n",
       "      <td>2.000000e+01</td>\n",
       "      <td>2.000000e+01</td>\n",
       "      <td>14.75</td>\n",
       "      <td>2.000000e+01</td>\n",
       "      <td>1.807812e+01</td>\n",
       "      <td>2.000000e+01</td>\n",
       "      <td>2.000000e+01</td>\n",
       "      <td>14.25</td>\n",
       "      <td>1.804688e+01</td>\n",
       "      <td>1.804688e+01</td>\n",
       "      <td>1.702148e+00</td>\n",
       "      <td>1.592773e+00</td>\n",
       "    </tr>\n",
       "  </tbody>\n",
       "</table>\n",
       "</div>"
      ],
      "text/plain": [
       "       date_block_num              ...               item_cnt_month_by_city_first\n",
       "count    6.639294e+06              ...                               6.639294e+06\n",
       "mean     2.199694e+01              ...                                        NaN\n",
       "std      6.461452e+00              ...                               0.000000e+00\n",
       "min      1.200000e+01              ...                               0.000000e+00\n",
       "25%      1.600000e+01              ...                               3.117676e-01\n",
       "50%      2.200000e+01              ...                               4.360352e-01\n",
       "75%      2.700000e+01              ...                               5.981445e-01\n",
       "max      3.400000e+01              ...                               1.592773e+00\n",
       "\n",
       "[8 rows x 65 columns]"
      ]
     },
     "execution_count": 95,
     "metadata": {},
     "output_type": "execute_result"
    }
   ],
   "source": [
    "# describe block dataframe\n",
    "df_block.describe(include='all')"
   ]
  },
  {
   "cell_type": "code",
   "execution_count": 96,
   "metadata": {
    "_uuid": "4e12e08c58bc85345d595c3c7010db14c79a9b8e"
   },
   "outputs": [
    {
     "name": "stdout",
     "output_type": "stream",
     "text": [
      "<class 'pandas.core.frame.DataFrame'>\n",
      "Int64Index: 6639294 entries, 4488710 to 11128003\n",
      "Data columns (total 65 columns):\n",
      "date_block_num                                          int16\n",
      "shop_id                                                 int16\n",
      "item_id                                                 int16\n",
      "item_price                                              float16\n",
      "item_cnt_month                                          float16\n",
      "item_category_id                                        int16\n",
      "year                                                    int16\n",
      "month                                                   int16\n",
      "day                                                     int16\n",
      "city_code                                               int16\n",
      "type_code                                               int16\n",
      "subtype_code                                            int16\n",
      "item_price_shift1                                       float16\n",
      "item_price_shift2                                       float16\n",
      "item_price_shift3                                       float16\n",
      "item_price_shift4                                       float16\n",
      "item_price_shift5                                       float16\n",
      "item_price_shift6                                       float16\n",
      "item_price_by_item_mean                                 float16\n",
      "delta_item_price_by_item_date_mean_shift                float16\n",
      "item_cnt_month_shift1                                   float16\n",
      "item_cnt_month_shift2                                   float16\n",
      "item_cnt_month_shift3                                   float16\n",
      "item_cnt_month_shift6                                   float16\n",
      "item_cnt_month_shift12                                  float16\n",
      "item_cnt_month_by_date_mean_shift1                      float16\n",
      "item_cnt_month_by_item_date_mean_shift1                 float16\n",
      "item_cnt_month_by_item_date_mean_shift2                 float16\n",
      "item_cnt_month_by_item_date_mean_shift3                 float16\n",
      "item_cnt_month_by_item_date_mean_shift6                 float16\n",
      "item_cnt_month_by_item_date_mean_shift12                float16\n",
      "item_cnt_month_by_category_date_mean_shift1             float16\n",
      "item_cnt_month_by_category_date_mean_shift2             float16\n",
      "item_cnt_month_by_category_date_mean_shift3             float16\n",
      "item_cnt_month_by_category_date_mean_shift6             float16\n",
      "item_cnt_month_by_category_date_mean_shift12            float16\n",
      "item_cnt_month_by_shop_date_mean_shift1                 float16\n",
      "item_cnt_month_by_shop_date_mean_shift2                 float16\n",
      "item_cnt_month_by_shop_date_mean_shift3                 float16\n",
      "item_cnt_month_by_shop_date_mean_shift6                 float16\n",
      "item_cnt_month_by_shop_date_mean_shift12                float16\n",
      "item_cnt_month_by_city_date_mean_shift1                 float16\n",
      "item_cnt_month_by_item_city_date_mean_shift1            float16\n",
      "item_cnt_month_by_category_shop_date_mean_shift1        float16\n",
      "first_sale_item                                         int16\n",
      "first_sale_item_shop                                    int16\n",
      "item_cnt_month_by_category_first                        float16\n",
      "item_cnt_month_by_category_first_month12onwards         float16\n",
      "item_cnt_month_by_category_first_month18onwards         float16\n",
      "item_cnt_month_by_category_first_month24onwards         float16\n",
      "item_cnt_month_by_category_first_month30onwards         float16\n",
      "item_cnt_month_by_category_shop_first                   float16\n",
      "item_cnt_month_by_category_shop_first_month12onwards    float16\n",
      "item_cnt_month_by_category_shop_first_month18onwards    float16\n",
      "item_cnt_month_by_category_shop_first_month24onwards    float16\n",
      "item_cnt_month_by_category_shop_first_month30onwards    float16\n",
      "item_cnt_month_by_category_city_first                   float16\n",
      "item_cnt_month_by_category_city_first_month12onwards    float16\n",
      "item_cnt_month_by_category_city_first_month18onwards    float16\n",
      "item_cnt_month_by_category_city_first_month24onwards    float16\n",
      "item_cnt_month_by_category_city_first_month30onwards    float16\n",
      "item_cnt_month_by_category_type_first                   float16\n",
      "item_cnt_month_by_category_subtype_first                float16\n",
      "item_cnt_month_by_shop_first                            float16\n",
      "item_cnt_month_by_city_first                            float16\n",
      "dtypes: float16(53), int16(12)\n",
      "memory usage: 873.8 MB\n"
     ]
    }
   ],
   "source": [
    "# verify dtypes object\n",
    "df_block.info()"
   ]
  },
  {
   "cell_type": "markdown",
   "metadata": {
    "_uuid": "89507ef7f98ffafeef409a70c09fb83403ac44ef"
   },
   "source": [
    "> **Analyze and identify patterns by visualizations**\n",
    "\n",
    "Let us generate some correlation plots of the features to see how related one feature is to the next. To do so, we will utilize the Seaborn plotting package which allows us to plot very conveniently as follows.\n",
    "\n",
    "The Pearson Correlation plot can tell us the correlation between features with one another. If there is no strongly correlated between features, this means that there isn't much redundant or superfluous data in our training data. This plot is also useful to determine which features are correlated to the observed value.\n",
    "\n",
    "The pairplots is also useful to observe the distribution of the training data from one feature to the other.\n",
    "\n",
    "The pivot table is also another useful method to observe the impact between features."
   ]
  },
  {
   "cell_type": "markdown",
   "metadata": {},
   "source": [
    "> **Model, predict and solve the problem**\n",
    "\n",
    "Now, it is time to feed the features to Machine Learning models."
   ]
  },
  {
   "cell_type": "code",
   "execution_count": 97,
   "metadata": {},
   "outputs": [],
   "source": [
    "# select the important features\n",
    "x = df_block[(df_block['first_sale_item'] != 0) & (df_block['date_block_num'] >= 30) & (df_block['date_block_num'] <= 33)].drop(['date_block_num', 'shop_id', 'item_id', 'item_cnt_month', 'item_category_id', 'year', 'month', 'day', 'city_code', 'type_code', 'subtype_code'] + [col for col in df_block.columns if col.startswith('item_price')], axis=1)\n",
    "y = df_block.loc[(df_block['first_sale_item'] != 0) & (df_block['date_block_num'] >= 30) & (df_block['date_block_num'] <= 33), 'item_cnt_month']"
   ]
  },
  {
   "cell_type": "code",
   "execution_count": 98,
   "metadata": {},
   "outputs": [],
   "source": [
    "# perform train-test (validate) split\n",
    "x_train, x_validate, y_train, y_validate = train_test_split(x, y, random_state=58, test_size=0.25)"
   ]
  },
  {
   "cell_type": "code",
   "execution_count": 99,
   "metadata": {},
   "outputs": [
    {
     "data": {
      "text/plain": [
       "10"
      ]
     },
     "execution_count": 99,
     "metadata": {},
     "output_type": "execute_result"
    }
   ],
   "source": [
    "# memory clean-up\n",
    "del x, y\n",
    "gc.collect()"
   ]
  },
  {
   "cell_type": "code",
   "execution_count": 100,
   "metadata": {},
   "outputs": [
    {
     "name": "stderr",
     "output_type": "stream",
     "text": [
      "/opt/conda/lib/python3.6/site-packages/xgboost/core.py:587: FutureWarning: Series.base is deprecated and will be removed in a future version\n",
      "  if getattr(data, 'base', None) is not None and \\\n"
     ]
    },
    {
     "name": "stdout",
     "output_type": "stream",
     "text": [
      "[12:31:31] WARNING: /workspace/src/objective/regression_obj.cu:152: reg:linear is now deprecated in favor of reg:squarederror.\n",
      "[0]\tvalidation_0-rmse:0.898078\tvalidation_1-rmse:0.869451\n",
      "[10]\tvalidation_0-rmse:0.6823\tvalidation_1-rmse:0.67568\n",
      "[20]\tvalidation_0-rmse:0.67059\tvalidation_1-rmse:0.66666\n",
      "[30]\tvalidation_0-rmse:0.664394\tvalidation_1-rmse:0.662283\n",
      "[40]\tvalidation_0-rmse:0.658037\tvalidation_1-rmse:0.658288\n",
      "[50]\tvalidation_0-rmse:0.65462\tvalidation_1-rmse:0.655831\n",
      "[60]\tvalidation_0-rmse:0.649953\tvalidation_1-rmse:0.653438\n",
      "[70]\tvalidation_0-rmse:0.647006\tvalidation_1-rmse:0.651715\n",
      "[80]\tvalidation_0-rmse:0.643502\tvalidation_1-rmse:0.649099\n",
      "[90]\tvalidation_0-rmse:0.63998\tvalidation_1-rmse:0.6475\n",
      "[100]\tvalidation_0-rmse:0.637455\tvalidation_1-rmse:0.646318\n",
      "[110]\tvalidation_0-rmse:0.635412\tvalidation_1-rmse:0.64601\n",
      "[120]\tvalidation_0-rmse:0.633583\tvalidation_1-rmse:0.645395\n",
      "[130]\tvalidation_0-rmse:0.630954\tvalidation_1-rmse:0.643856\n",
      "[140]\tvalidation_0-rmse:0.627918\tvalidation_1-rmse:0.642759\n",
      "[150]\tvalidation_0-rmse:0.626642\tvalidation_1-rmse:0.642308\n",
      "[160]\tvalidation_0-rmse:0.624336\tvalidation_1-rmse:0.641848\n",
      "[170]\tvalidation_0-rmse:0.623183\tvalidation_1-rmse:0.641595\n",
      "[180]\tvalidation_0-rmse:0.621998\tvalidation_1-rmse:0.641432\n",
      "[190]\tvalidation_0-rmse:0.620328\tvalidation_1-rmse:0.641176\n",
      "[200]\tvalidation_0-rmse:0.618472\tvalidation_1-rmse:0.640331\n",
      "[210]\tvalidation_0-rmse:0.617133\tvalidation_1-rmse:0.640279\n",
      "[220]\tvalidation_0-rmse:0.615513\tvalidation_1-rmse:0.639805\n",
      "[230]\tvalidation_0-rmse:0.613986\tvalidation_1-rmse:0.63951\n",
      "[240]\tvalidation_0-rmse:0.612725\tvalidation_1-rmse:0.639116\n",
      "[250]\tvalidation_0-rmse:0.611304\tvalidation_1-rmse:0.638604\n",
      "[260]\tvalidation_0-rmse:0.609839\tvalidation_1-rmse:0.637948\n",
      "[270]\tvalidation_0-rmse:0.608352\tvalidation_1-rmse:0.637369\n",
      "[280]\tvalidation_0-rmse:0.607046\tvalidation_1-rmse:0.637241\n",
      "xgboost regression\n",
      "  root mean squared error: 0.6365\n"
     ]
    }
   ],
   "source": [
    "# xgboost regression model setup\n",
    "model_xgbreg = xgb.XGBRegressor(max_depth=8, learning_rate=0.3, n_estimators=500, objective='reg:linear', booster='gbtree', gamma=0.1, min_child_weight=300, subsample=0.8, colsample_bytree=0.8, reg_alpha=0, reg_lambda=1, random_state=58)\n",
    "\n",
    "# xgboost regression model fit\n",
    "model_xgbreg.fit(x_train, y_train, eval_set=[(x_train, y_train), (x_validate, y_validate)], early_stopping_rounds=10, verbose=False, callbacks=[xgb.callback.print_evaluation(period=10)])\n",
    "\n",
    "# xgboost regression model prediction\n",
    "model_xgbreg_ypredict = model_xgbreg.predict(x_validate).clip(0 ,20)\n",
    "\n",
    "# xgboost regression model metrics\n",
    "model_xgbreg_rmse = mean_squared_error(y_validate, model_xgbreg_ypredict) ** 0.5\n",
    "print('xgboost regression\\n  root mean squared error: %0.4f' %model_xgbreg_rmse)"
   ]
  },
  {
   "cell_type": "code",
   "execution_count": 101,
   "metadata": {},
   "outputs": [
    {
     "data": {
      "text/plain": [
       "<matplotlib.axes._subplots.AxesSubplot at 0x7f2e9fdb8da0>"
      ]
     },
     "execution_count": 101,
     "metadata": {},
     "output_type": "execute_result"
    },
    {
     "data": {
      "image/png": "[encoded data removed]",
      "text/plain": [
       "<Figure size 10800x1440 with 1 Axes>"
      ]
     },
     "metadata": {
      "needs_background": "light"
     },
     "output_type": "display_data"
    }
   ],
   "source": [
    "# plot the feature importances\n",
    "fig, axes = plt.subplots(figsize=(150 , 20))\n",
    "xgb.plot_importance(model_xgbreg, ax=axes)"
   ]
  },
  {
   "cell_type": "code",
   "execution_count": 102,
   "metadata": {},
   "outputs": [],
   "source": [
    "# model selection\n",
    "model_xgbreg_exist = model_xgbreg"
   ]
  },
  {
   "cell_type": "code",
   "execution_count": 103,
   "metadata": {},
   "outputs": [
    {
     "data": {
      "text/plain": [
       "12"
      ]
     },
     "execution_count": 103,
     "metadata": {},
     "output_type": "execute_result"
    }
   ],
   "source": [
    "# memory clean-up\n",
    "del x_train, x_validate, y_train, y_validate\n",
    "gc.collect()"
   ]
  },
  {
   "cell_type": "code",
   "execution_count": 104,
   "metadata": {},
   "outputs": [],
   "source": [
    "# select the important features\n",
    "x = df_block[(df_block['first_sale_item'] == 0) & (df_block['date_block_num'] >= 30) & (df_block['date_block_num'] <= 33)].drop(['date_block_num', 'shop_id', 'item_id', 'item_cnt_month', 'item_category_id', 'year', 'month', 'day', 'city_code', 'type_code', 'subtype_code'] + [col for col in df_block.columns if col.startswith('item_price')], axis=1)\n",
    "y = df_block.loc[(df_block['first_sale_item'] == 0) & (df_block['date_block_num'] >= 30) & (df_block['date_block_num'] <= 33), 'item_cnt_month']"
   ]
  },
  {
   "cell_type": "code",
   "execution_count": 105,
   "metadata": {},
   "outputs": [],
   "source": [
    "# perform train-test (validate) split\n",
    "x_train, x_validate, y_train, y_validate = train_test_split(x, y, test_size=0.25, random_state=58)"
   ]
  },
  {
   "cell_type": "code",
   "execution_count": 106,
   "metadata": {},
   "outputs": [
    {
     "data": {
      "text/plain": [
       "10"
      ]
     },
     "execution_count": 106,
     "metadata": {},
     "output_type": "execute_result"
    }
   ],
   "source": [
    "# memory clean-up\n",
    "del x, y\n",
    "gc.collect()"
   ]
  },
  {
   "cell_type": "code",
   "execution_count": 107,
   "metadata": {},
   "outputs": [
    {
     "name": "stderr",
     "output_type": "stream",
     "text": [
      "/opt/conda/lib/python3.6/site-packages/xgboost/core.py:587: FutureWarning: Series.base is deprecated and will be removed in a future version\n",
      "  if getattr(data, 'base', None) is not None and \\\n"
     ]
    },
    {
     "name": "stdout",
     "output_type": "stream",
     "text": [
      "[12:51:32] WARNING: /workspace/src/objective/regression_obj.cu:152: reg:linear is now deprecated in favor of reg:squarederror.\n",
      "[0]\tvalidation_0-rmse:1.81798\tvalidation_1-rmse:1.88777\n",
      "Multiple eval metrics have been passed: 'validation_1-rmse' will be used for early stopping.\n",
      "\n",
      "Will train until validation_1-rmse hasn't improved in 10 rounds.\n",
      "[1]\tvalidation_0-rmse:1.73672\tvalidation_1-rmse:1.79701\n",
      "[2]\tvalidation_0-rmse:1.69341\tvalidation_1-rmse:1.75062\n",
      "[3]\tvalidation_0-rmse:1.66664\tvalidation_1-rmse:1.72401\n",
      "[4]\tvalidation_0-rmse:1.65086\tvalidation_1-rmse:1.70698\n",
      "[5]\tvalidation_0-rmse:1.64135\tvalidation_1-rmse:1.69715\n",
      "[6]\tvalidation_0-rmse:1.63512\tvalidation_1-rmse:1.69041\n",
      "[7]\tvalidation_0-rmse:1.62888\tvalidation_1-rmse:1.68468\n",
      "[8]\tvalidation_0-rmse:1.62573\tvalidation_1-rmse:1.68086\n",
      "[9]\tvalidation_0-rmse:1.62298\tvalidation_1-rmse:1.6811\n",
      "[10]\tvalidation_0-rmse:1.62108\tvalidation_1-rmse:1.6787\n",
      "[11]\tvalidation_0-rmse:1.61946\tvalidation_1-rmse:1.67725\n",
      "[12]\tvalidation_0-rmse:1.61739\tvalidation_1-rmse:1.68021\n",
      "[13]\tvalidation_0-rmse:1.61418\tvalidation_1-rmse:1.68111\n",
      "[14]\tvalidation_0-rmse:1.61291\tvalidation_1-rmse:1.68181\n",
      "[15]\tvalidation_0-rmse:1.60981\tvalidation_1-rmse:1.68057\n",
      "[16]\tvalidation_0-rmse:1.60831\tvalidation_1-rmse:1.67901\n",
      "[17]\tvalidation_0-rmse:1.6077\tvalidation_1-rmse:1.67913\n",
      "[18]\tvalidation_0-rmse:1.6059\tvalidation_1-rmse:1.67935\n",
      "[19]\tvalidation_0-rmse:1.60487\tvalidation_1-rmse:1.68024\n",
      "[20]\tvalidation_0-rmse:1.60318\tvalidation_1-rmse:1.68055\n",
      "[21]\tvalidation_0-rmse:1.60242\tvalidation_1-rmse:1.68114\n",
      "Stopping. Best iteration:\n",
      "[11]\tvalidation_0-rmse:1.61946\tvalidation_1-rmse:1.67725\n",
      "\n",
      "xgboost regression\n",
      "  root mean squared error: 1.6772\n"
     ]
    }
   ],
   "source": [
    "# xgboost regression model setup\n",
    "model_xgbreg = xgb.XGBRegressor(max_depth=8, learning_rate=0.3, n_estimators=500, objective='reg:linear', booster='gbtree', gamma=0.1, min_child_weight=300, subsample=0.8, colsample_bytree=0.8, reg_alpha=0, reg_lambda=1, random_state=58)\n",
    "\n",
    "# xgboost regression model fit\n",
    "model_xgbreg.fit(x_train, y_train, eval_set=[(x_train, y_train), (x_validate, y_validate)], early_stopping_rounds=10, verbose=True)\n",
    "\n",
    "# xgboost regression model prediction\n",
    "model_xgbreg_ypredict = model_xgbreg.predict(x_validate).clip(0 ,20)\n",
    "\n",
    "# xgboost regression model metrics\n",
    "model_xgbreg_rmse = mean_squared_error(y_validate, model_xgbreg_ypredict) ** 0.5\n",
    "print('xgboost regression\\n  root mean squared error: %0.4f' %model_xgbreg_rmse)"
   ]
  },
  {
   "cell_type": "code",
   "execution_count": 108,
   "metadata": {},
   "outputs": [
    {
     "data": {
      "text/plain": [
       "<matplotlib.axes._subplots.AxesSubplot at 0x7f2d2c3732b0>"
      ]
     },
     "execution_count": 108,
     "metadata": {},
     "output_type": "execute_result"
    },
    {
     "data": {
      "image/png": "[encoded data removed]",
      "text/plain": [
       "<Figure size 10800x1440 with 1 Axes>"
      ]
     },
     "metadata": {
      "needs_background": "light"
     },
     "output_type": "display_data"
    }
   ],
   "source": [
    "# plot the feature importances\n",
    "fig, axes = plt.subplots(figsize=(150 , 20))\n",
    "xgb.plot_importance(model_xgbreg, ax=axes)"
   ]
  },
  {
   "cell_type": "code",
   "execution_count": 109,
   "metadata": {},
   "outputs": [],
   "source": [
    "# model selection\n",
    "model_xgbreg_first = model_xgbreg"
   ]
  },
  {
   "cell_type": "code",
   "execution_count": 110,
   "metadata": {},
   "outputs": [
    {
     "data": {
      "text/plain": [
       "7"
      ]
     },
     "execution_count": 110,
     "metadata": {},
     "output_type": "execute_result"
    }
   ],
   "source": [
    "# memory clean-up\n",
    "del x_train, x_validate, y_train, y_validate\n",
    "gc.collect()"
   ]
  },
  {
   "cell_type": "markdown",
   "metadata": {
    "_uuid": "e2bc8e7bd6741eb6ea5b98d1fc28d4006595e156"
   },
   "source": [
    "> **Supply or submit the results**\n",
    "\n",
    "Our submission to the competition site Kaggle is ready. Any suggestions to improve our score are welcome."
   ]
  },
  {
   "cell_type": "code",
   "execution_count": 111,
   "metadata": {},
   "outputs": [],
   "source": [
    "# feature extraction: fix the duplicated shop id\n",
    "df_test.loc[df_test['shop_id'] == 0, 'shop_id'] = 57\n",
    "df_test.loc[df_test['shop_id'] == 1, 'shop_id'] = 58\n",
    "df_test.loc[df_test['shop_id'] == 11, 'shop_id'] = 10"
   ]
  },
  {
   "cell_type": "code",
   "execution_count": 112,
   "metadata": {
    "_uuid": "8300d72f6cf2e78f7ad5f47d92aad01ce249768d"
   },
   "outputs": [],
   "source": [
    "# model selection\n",
    "final_model = [model_xgbreg_exist, model_xgbreg_first]\n",
    "\n",
    "# prepare testing data and compute the observed value for model_exist\n",
    "x_test = df_block[(df_block['first_sale_item'] != 0) & (df_block['date_block_num'] == 34)].drop(['date_block_num', 'shop_id', 'item_id', 'item_cnt_month', 'item_category_id', 'year', 'month', 'day', 'city_code', 'type_code', 'subtype_code'] + [col for col in df_block.columns if col.startswith('item_price')], axis=1)\n",
    "y_test = pd.DataFrame({'item_cnt_month': final_model[0].predict(x_test).clip(0 ,20), 'shop_id': df_block.loc[(df_block['first_sale_item'] != 0) & (df_block['date_block_num'] == 34), 'shop_id'], 'item_id': df_block.loc[(df_block['first_sale_item'] != 0) & (df_block['date_block_num'] == 34), 'item_id']}, index=x_test.index)\n",
    "y_submit_exist = pd.merge(y_test, df_test[['ID', 'shop_id', 'item_id']], how='left', on=['shop_id', 'item_id'])\n",
    "\n",
    "# prepare testing data and compute the observed value for model_first\n",
    "x_test = df_block[(df_block['first_sale_item'] == 0) & (df_block['date_block_num'] == 34)].drop(['date_block_num', 'shop_id', 'item_id', 'item_cnt_month', 'item_category_id', 'year', 'month', 'day', 'city_code', 'type_code', 'subtype_code'] + [col for col in df_block.columns if col.startswith('item_price')], axis=1)\n",
    "y_test = pd.DataFrame({'item_cnt_month': final_model[1].predict(x_test).clip(0 ,20), 'shop_id': df_block.loc[(df_block['first_sale_item'] == 0) & (df_block['date_block_num'] == 34), 'shop_id'], 'item_id': df_block.loc[(df_block['first_sale_item'] == 0) & (df_block['date_block_num'] == 34), 'item_id']}, index=x_test.index)\n",
    "y_submit_first = pd.merge(y_test, df_test[['ID', 'shop_id', 'item_id']], how='left', on=['shop_id', 'item_id'])\n",
    "\n",
    "# merge submission\n",
    "y_submit = pd.concat([y_submit_exist, y_submit_first], ignore_index=True)"
   ]
  },
  {
   "cell_type": "code",
   "execution_count": 113,
   "metadata": {
    "_uuid": "9d094747e8b8528ee5bbc5ab242fedb2f3d0c890"
   },
   "outputs": [],
   "source": [
    "# submit the results\n",
    "out = pd.DataFrame({'ID': y_submit['ID'], 'item_cnt_month': y_submit['item_cnt_month']})\n",
    "out.to_csv('submission.csv', index=False)"
   ]
  },
  {
   "cell_type": "code",
   "execution_count": null,
   "metadata": {},
   "outputs": [],
   "source": []
  }
 ],
 "metadata": {
  "kernelspec": {
   "display_name": "Python 3",
   "language": "python",
   "name": "python3"
  },
  "language_info": {
   "codemirror_mode": {
    "name": "ipython",
    "version": 3
   },
   "file_extension": ".py",
   "mimetype": "text/x-python",
   "name": "python",
   "nbconvert_exporter": "python",
   "pygments_lexer": "ipython3",
   "version": "3.6.6"
  }
 },
 "nbformat": 4,
 "nbformat_minor": 1
}
