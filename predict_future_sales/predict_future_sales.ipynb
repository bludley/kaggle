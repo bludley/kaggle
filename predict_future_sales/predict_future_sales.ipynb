{
 "cells": [
  {
   "cell_type": "markdown",
   "metadata": {
    "_uuid": "62b090b7913da8a4019515a6540f982f4a7767fa"
   },
   "source": [
    "> **Problem overview**\n",
    "\n",
    "This challenge serves as final project for the \"How to win a data science competition\" Coursera course. In this competition you will work with a challenging time-series dataset consisting of daily sales data, kindly provided by one of the largest Russian software firms - 1C Company. \n",
    "\n",
    "We are asking you to predict total sales for every product and store in the next month. By solving this competition you will be able to apply and enhance your data science skills."
   ]
  },
  {
   "cell_type": "code",
   "execution_count": 1,
   "metadata": {
    "_cell_guid": "b1076dfc-b9ad-4769-8c92-a6c4dae69d19",
    "_uuid": "8f2839f25d086af736a60e9eeb907d3b93b6e0e5"
   },
   "outputs": [],
   "source": [
    "# import python standard library\n",
    "import gc, itertools\n",
    "\n",
    "# import data manipulation library\n",
    "import numpy as np\n",
    "import pandas as pd\n",
    "\n",
    "# import data visualization library\n",
    "import matplotlib.pyplot as plt\n",
    "import seaborn as sns\n",
    "\n",
    "# import sklearn data preprocessing\n",
    "from sklearn.preprocessing import LabelEncoder\n",
    "\n",
    "# import xgboost model class\n",
    "import xgboost as xgb\n",
    "\n",
    "# import sklearn model selection\n",
    "from sklearn.model_selection import cross_val_score\n",
    "from sklearn.model_selection import GridSearchCV\n",
    "from sklearn.model_selection import train_test_split\n",
    "\n",
    "# import sklearn model evaluation regression metrics\n",
    "from sklearn.metrics import mean_squared_error"
   ]
  },
  {
   "cell_type": "code",
   "execution_count": 2,
   "metadata": {},
   "outputs": [],
   "source": [
    "# pandas options\n",
    "pd.options.display.max_rows = 10"
   ]
  },
  {
   "cell_type": "markdown",
   "metadata": {
    "_uuid": "63bac28c47a40969bd0349adf87b90f669b4330f"
   },
   "source": [
    "> **Acquiring training and testing data**\n",
    "\n",
    "We start by acquiring the training and testing datasets into Pandas DataFrames."
   ]
  },
  {
   "cell_type": "code",
   "execution_count": 3,
   "metadata": {
    "_cell_guid": "79c7e3d0-c299-4dcb-8224-4455121ee9b0",
    "_uuid": "d629ff2d2480ee46fbb7e2d37f6b5fab8052498a"
   },
   "outputs": [],
   "source": [
    "# acquiring training and testing data\n",
    "df_train = pd.read_csv('../input/sales_train.csv')\n",
    "df_test = pd.read_csv('../input/test.csv')"
   ]
  },
  {
   "cell_type": "code",
   "execution_count": 4,
   "metadata": {},
   "outputs": [],
   "source": [
    "# acquiring supplemental information\n",
    "df_items = pd.read_csv('../input/items.csv')\n",
    "df_categories = pd.read_csv('../input/item_categories.csv')\n",
    "df_shops = pd.read_csv('../input/shops.csv')"
   ]
  },
  {
   "cell_type": "code",
   "execution_count": 5,
   "metadata": {
    "_uuid": "773d8c286e14a1e9006e8b6a3807870cf23d4413"
   },
   "outputs": [
    {
     "data": {
      "text/html": [
       "<div>\n",
       "<style scoped>\n",
       "    .dataframe tbody tr th:only-of-type {\n",
       "        vertical-align: middle;\n",
       "    }\n",
       "\n",
       "    .dataframe tbody tr th {\n",
       "        vertical-align: top;\n",
       "    }\n",
       "\n",
       "    .dataframe thead th {\n",
       "        text-align: right;\n",
       "    }\n",
       "</style>\n",
       "<table border=\"1\" class=\"dataframe\">\n",
       "  <thead>\n",
       "    <tr style=\"text-align: right;\">\n",
       "      <th></th>\n",
       "      <th>date</th>\n",
       "      <th>date_block_num</th>\n",
       "      <th>shop_id</th>\n",
       "      <th>item_id</th>\n",
       "      <th>item_price</th>\n",
       "      <th>item_cnt_day</th>\n",
       "    </tr>\n",
       "  </thead>\n",
       "  <tbody>\n",
       "    <tr>\n",
       "      <th>0</th>\n",
       "      <td>02.01.2013</td>\n",
       "      <td>0</td>\n",
       "      <td>59</td>\n",
       "      <td>22154</td>\n",
       "      <td>999.00</td>\n",
       "      <td>1.0</td>\n",
       "    </tr>\n",
       "    <tr>\n",
       "      <th>1</th>\n",
       "      <td>03.01.2013</td>\n",
       "      <td>0</td>\n",
       "      <td>25</td>\n",
       "      <td>2552</td>\n",
       "      <td>899.00</td>\n",
       "      <td>1.0</td>\n",
       "    </tr>\n",
       "    <tr>\n",
       "      <th>2</th>\n",
       "      <td>05.01.2013</td>\n",
       "      <td>0</td>\n",
       "      <td>25</td>\n",
       "      <td>2552</td>\n",
       "      <td>899.00</td>\n",
       "      <td>-1.0</td>\n",
       "    </tr>\n",
       "    <tr>\n",
       "      <th>3</th>\n",
       "      <td>06.01.2013</td>\n",
       "      <td>0</td>\n",
       "      <td>25</td>\n",
       "      <td>2554</td>\n",
       "      <td>1709.05</td>\n",
       "      <td>1.0</td>\n",
       "    </tr>\n",
       "    <tr>\n",
       "      <th>4</th>\n",
       "      <td>15.01.2013</td>\n",
       "      <td>0</td>\n",
       "      <td>25</td>\n",
       "      <td>2555</td>\n",
       "      <td>1099.00</td>\n",
       "      <td>1.0</td>\n",
       "    </tr>\n",
       "  </tbody>\n",
       "</table>\n",
       "</div>"
      ],
      "text/plain": [
       "         date  date_block_num      ...       item_price  item_cnt_day\n",
       "0  02.01.2013               0      ...           999.00           1.0\n",
       "1  03.01.2013               0      ...           899.00           1.0\n",
       "2  05.01.2013               0      ...           899.00          -1.0\n",
       "3  06.01.2013               0      ...          1709.05           1.0\n",
       "4  15.01.2013               0      ...          1099.00           1.0\n",
       "\n",
       "[5 rows x 6 columns]"
      ]
     },
     "execution_count": 5,
     "metadata": {},
     "output_type": "execute_result"
    }
   ],
   "source": [
    "# visualize head of the training data\n",
    "df_train.head(n=5)"
   ]
  },
  {
   "cell_type": "code",
   "execution_count": 6,
   "metadata": {
    "_uuid": "2866ad35c88e0fa0f72e0480a141ff4aa51af4de"
   },
   "outputs": [
    {
     "data": {
      "text/html": [
       "<div>\n",
       "<style scoped>\n",
       "    .dataframe tbody tr th:only-of-type {\n",
       "        vertical-align: middle;\n",
       "    }\n",
       "\n",
       "    .dataframe tbody tr th {\n",
       "        vertical-align: top;\n",
       "    }\n",
       "\n",
       "    .dataframe thead th {\n",
       "        text-align: right;\n",
       "    }\n",
       "</style>\n",
       "<table border=\"1\" class=\"dataframe\">\n",
       "  <thead>\n",
       "    <tr style=\"text-align: right;\">\n",
       "      <th></th>\n",
       "      <th>ID</th>\n",
       "      <th>shop_id</th>\n",
       "      <th>item_id</th>\n",
       "    </tr>\n",
       "  </thead>\n",
       "  <tbody>\n",
       "    <tr>\n",
       "      <th>214195</th>\n",
       "      <td>214195</td>\n",
       "      <td>45</td>\n",
       "      <td>18454</td>\n",
       "    </tr>\n",
       "    <tr>\n",
       "      <th>214196</th>\n",
       "      <td>214196</td>\n",
       "      <td>45</td>\n",
       "      <td>16188</td>\n",
       "    </tr>\n",
       "    <tr>\n",
       "      <th>214197</th>\n",
       "      <td>214197</td>\n",
       "      <td>45</td>\n",
       "      <td>15757</td>\n",
       "    </tr>\n",
       "    <tr>\n",
       "      <th>214198</th>\n",
       "      <td>214198</td>\n",
       "      <td>45</td>\n",
       "      <td>19648</td>\n",
       "    </tr>\n",
       "    <tr>\n",
       "      <th>214199</th>\n",
       "      <td>214199</td>\n",
       "      <td>45</td>\n",
       "      <td>969</td>\n",
       "    </tr>\n",
       "  </tbody>\n",
       "</table>\n",
       "</div>"
      ],
      "text/plain": [
       "            ID  shop_id  item_id\n",
       "214195  214195       45    18454\n",
       "214196  214196       45    16188\n",
       "214197  214197       45    15757\n",
       "214198  214198       45    19648\n",
       "214199  214199       45      969"
      ]
     },
     "execution_count": 6,
     "metadata": {},
     "output_type": "execute_result"
    }
   ],
   "source": [
    "# visualize tail of the testing data\n",
    "df_test.tail(n=5)"
   ]
  },
  {
   "cell_type": "code",
   "execution_count": 7,
   "metadata": {},
   "outputs": [
    {
     "data": {
      "text/html": [
       "<div>\n",
       "<style scoped>\n",
       "    .dataframe tbody tr th:only-of-type {\n",
       "        vertical-align: middle;\n",
       "    }\n",
       "\n",
       "    .dataframe tbody tr th {\n",
       "        vertical-align: top;\n",
       "    }\n",
       "\n",
       "    .dataframe thead th {\n",
       "        text-align: right;\n",
       "    }\n",
       "</style>\n",
       "<table border=\"1\" class=\"dataframe\">\n",
       "  <thead>\n",
       "    <tr style=\"text-align: right;\">\n",
       "      <th></th>\n",
       "      <th>item_name</th>\n",
       "      <th>item_id</th>\n",
       "      <th>item_category_id</th>\n",
       "    </tr>\n",
       "  </thead>\n",
       "  <tbody>\n",
       "    <tr>\n",
       "      <th>0</th>\n",
       "      <td>! ВО ВЛАСТИ НАВАЖДЕНИЯ (ПЛАСТ.)         D</td>\n",
       "      <td>0</td>\n",
       "      <td>40</td>\n",
       "    </tr>\n",
       "    <tr>\n",
       "      <th>1</th>\n",
       "      <td>!ABBYY FineReader 12 Professional Edition Full...</td>\n",
       "      <td>1</td>\n",
       "      <td>76</td>\n",
       "    </tr>\n",
       "    <tr>\n",
       "      <th>2</th>\n",
       "      <td>***В ЛУЧАХ СЛАВЫ   (UNV)                    D</td>\n",
       "      <td>2</td>\n",
       "      <td>40</td>\n",
       "    </tr>\n",
       "    <tr>\n",
       "      <th>3</th>\n",
       "      <td>***ГОЛУБАЯ ВОЛНА  (Univ)                      D</td>\n",
       "      <td>3</td>\n",
       "      <td>40</td>\n",
       "    </tr>\n",
       "    <tr>\n",
       "      <th>4</th>\n",
       "      <td>***КОРОБКА (СТЕКЛО)                       D</td>\n",
       "      <td>4</td>\n",
       "      <td>40</td>\n",
       "    </tr>\n",
       "  </tbody>\n",
       "</table>\n",
       "</div>"
      ],
      "text/plain": [
       "                                           item_name        ...         item_category_id\n",
       "0          ! ВО ВЛАСТИ НАВАЖДЕНИЯ (ПЛАСТ.)         D        ...                       40\n",
       "1  !ABBYY FineReader 12 Professional Edition Full...        ...                       76\n",
       "2      ***В ЛУЧАХ СЛАВЫ   (UNV)                    D        ...                       40\n",
       "3    ***ГОЛУБАЯ ВОЛНА  (Univ)                      D        ...                       40\n",
       "4        ***КОРОБКА (СТЕКЛО)                       D        ...                       40\n",
       "\n",
       "[5 rows x 3 columns]"
      ]
     },
     "execution_count": 7,
     "metadata": {},
     "output_type": "execute_result"
    }
   ],
   "source": [
    "# visualize head of the supplemental information about the items/products\n",
    "df_items.head(n=5)"
   ]
  },
  {
   "cell_type": "code",
   "execution_count": 8,
   "metadata": {},
   "outputs": [
    {
     "data": {
      "text/html": [
       "<div>\n",
       "<style scoped>\n",
       "    .dataframe tbody tr th:only-of-type {\n",
       "        vertical-align: middle;\n",
       "    }\n",
       "\n",
       "    .dataframe tbody tr th {\n",
       "        vertical-align: top;\n",
       "    }\n",
       "\n",
       "    .dataframe thead th {\n",
       "        text-align: right;\n",
       "    }\n",
       "</style>\n",
       "<table border=\"1\" class=\"dataframe\">\n",
       "  <thead>\n",
       "    <tr style=\"text-align: right;\">\n",
       "      <th></th>\n",
       "      <th>item_category_name</th>\n",
       "      <th>item_category_id</th>\n",
       "    </tr>\n",
       "  </thead>\n",
       "  <tbody>\n",
       "    <tr>\n",
       "      <th>0</th>\n",
       "      <td>PC - Гарнитуры/Наушники</td>\n",
       "      <td>0</td>\n",
       "    </tr>\n",
       "    <tr>\n",
       "      <th>1</th>\n",
       "      <td>Аксессуары - PS2</td>\n",
       "      <td>1</td>\n",
       "    </tr>\n",
       "    <tr>\n",
       "      <th>2</th>\n",
       "      <td>Аксессуары - PS3</td>\n",
       "      <td>2</td>\n",
       "    </tr>\n",
       "    <tr>\n",
       "      <th>3</th>\n",
       "      <td>Аксессуары - PS4</td>\n",
       "      <td>3</td>\n",
       "    </tr>\n",
       "    <tr>\n",
       "      <th>4</th>\n",
       "      <td>Аксессуары - PSP</td>\n",
       "      <td>4</td>\n",
       "    </tr>\n",
       "  </tbody>\n",
       "</table>\n",
       "</div>"
      ],
      "text/plain": [
       "        item_category_name  item_category_id\n",
       "0  PC - Гарнитуры/Наушники                 0\n",
       "1         Аксессуары - PS2                 1\n",
       "2         Аксессуары - PS3                 2\n",
       "3         Аксессуары - PS4                 3\n",
       "4         Аксессуары - PSP                 4"
      ]
     },
     "execution_count": 8,
     "metadata": {},
     "output_type": "execute_result"
    }
   ],
   "source": [
    "# visualize head of the supplemental information about the items categories\n",
    "df_categories.head(n=5)"
   ]
  },
  {
   "cell_type": "code",
   "execution_count": 9,
   "metadata": {},
   "outputs": [
    {
     "data": {
      "text/html": [
       "<div>\n",
       "<style scoped>\n",
       "    .dataframe tbody tr th:only-of-type {\n",
       "        vertical-align: middle;\n",
       "    }\n",
       "\n",
       "    .dataframe tbody tr th {\n",
       "        vertical-align: top;\n",
       "    }\n",
       "\n",
       "    .dataframe thead th {\n",
       "        text-align: right;\n",
       "    }\n",
       "</style>\n",
       "<table border=\"1\" class=\"dataframe\">\n",
       "  <thead>\n",
       "    <tr style=\"text-align: right;\">\n",
       "      <th></th>\n",
       "      <th>shop_name</th>\n",
       "      <th>shop_id</th>\n",
       "    </tr>\n",
       "  </thead>\n",
       "  <tbody>\n",
       "    <tr>\n",
       "      <th>0</th>\n",
       "      <td>!Якутск Орджоникидзе, 56 фран</td>\n",
       "      <td>0</td>\n",
       "    </tr>\n",
       "    <tr>\n",
       "      <th>1</th>\n",
       "      <td>!Якутск ТЦ \"Центральный\" фран</td>\n",
       "      <td>1</td>\n",
       "    </tr>\n",
       "    <tr>\n",
       "      <th>2</th>\n",
       "      <td>Адыгея ТЦ \"Мега\"</td>\n",
       "      <td>2</td>\n",
       "    </tr>\n",
       "    <tr>\n",
       "      <th>3</th>\n",
       "      <td>Балашиха ТРК \"Октябрь-Киномир\"</td>\n",
       "      <td>3</td>\n",
       "    </tr>\n",
       "    <tr>\n",
       "      <th>4</th>\n",
       "      <td>Волжский ТЦ \"Волга Молл\"</td>\n",
       "      <td>4</td>\n",
       "    </tr>\n",
       "  </tbody>\n",
       "</table>\n",
       "</div>"
      ],
      "text/plain": [
       "                        shop_name  shop_id\n",
       "0   !Якутск Орджоникидзе, 56 фран        0\n",
       "1   !Якутск ТЦ \"Центральный\" фран        1\n",
       "2                Адыгея ТЦ \"Мега\"        2\n",
       "3  Балашиха ТРК \"Октябрь-Киномир\"        3\n",
       "4        Волжский ТЦ \"Волга Молл\"        4"
      ]
     },
     "execution_count": 9,
     "metadata": {},
     "output_type": "execute_result"
    }
   ],
   "source": [
    "# visualize head of the supplemental information about the shops\n",
    "df_shops.head(n=5)"
   ]
  },
  {
   "cell_type": "code",
   "execution_count": 10,
   "metadata": {
    "_uuid": "76f1ac478aa137a8885c0362ad9ce423de5a080a"
   },
   "outputs": [],
   "source": [
    "# combine training and testing dataframe\n",
    "df_train['datatype'], df_test['datatype'] = 'training', 'testing'\n",
    "df_train.insert(0, 'ID', np.nan)\n",
    "df_test.insert(1, 'date', '01.11.2015')\n",
    "df_test.insert(2, 'date_block_num', 34)\n",
    "df_test.insert(df_test.shape[1] - 1, 'item_price', np.nan)\n",
    "df_test.insert(df_test.shape[1] - 1, 'item_cnt_day', np.nan)\n",
    "df_data = pd.concat([df_train, df_test], ignore_index=False)"
   ]
  },
  {
   "cell_type": "markdown",
   "metadata": {
    "_uuid": "f832542c3bb2d027cd91eaace7bce30f3a2af300"
   },
   "source": [
    "> **Feature exploration, engineering and cleansing**\n",
    "\n",
    "Here we generate descriptive statistics that summarize the central tendency, dispersion and shape of a dataset’s distribution together with exploring some data."
   ]
  },
  {
   "cell_type": "code",
   "execution_count": 11,
   "metadata": {
    "_uuid": "89aaa8ec70d6f46e1d6c7248ef444f6432b58f07"
   },
   "outputs": [],
   "source": [
    "# countplot function plot - categorical variable (x-axis) vs. categorical variable (y-axis)\n",
    "def countplot(x = None, y = None, data = None, ncols = 5, nrows = 3):\n",
    "    fig, axes = plt.subplots(figsize=(4*ncols , 3*nrows), ncols=ncols, nrows=nrows)\n",
    "    axes = axes.flatten()\n",
    "    for i, v in enumerate(x): sns.countplot(x=v, hue=y, data=data, ax=axes[i])"
   ]
  },
  {
   "cell_type": "code",
   "execution_count": 12,
   "metadata": {
    "_uuid": "2d8ca8cea11d6d1fcee6d19378d82c7cbdc41c78"
   },
   "outputs": [],
   "source": [
    "# boxplot function plot - categorical variable (x-axis) vs. numerical variable (y-axis)\n",
    "def boxplot(cat = None, num = None, data = None, ncols = 5, nrows = 3):\n",
    "    fig, axes = plt.subplots(figsize=(4*ncols , 3*nrows), ncols=ncols, nrows=nrows)\n",
    "    axes = axes.flatten()\n",
    "    if type(cat) == list:\n",
    "        for i, v in enumerate(cat): sns.boxplot(x=v, y=num, data=data, ax=axes[i])\n",
    "    else:\n",
    "        for i, v in enumerate(num): sns.boxplot(x=cat, y=v, data=data, ax=axes[i])"
   ]
  },
  {
   "cell_type": "code",
   "execution_count": 13,
   "metadata": {
    "_uuid": "0e1c768d16d94732d7eb295e5d9504003dffb477"
   },
   "outputs": [],
   "source": [
    "# boxplot function sorted plot - categorical variable (x-axis) vs. numerical variable (y-axis)\n",
    "def boxplotsort(cat = None, num = None, data = None, ncols = 5, nrows = 3, orderby='median'):\n",
    "    fig, axes = plt.subplots(figsize=(4*ncols , 3*nrows), ncols=ncols, nrows=nrows)\n",
    "    axes = axes.flatten()\n",
    "    if type(cat) == list:\n",
    "        for i, v in enumerate(cat): sns.boxplot(x=v, y=num, data=data, ax=axes[i], order=data.groupby([v], as_index=True).agg({num: orderby}).sort_values(num).index)\n",
    "    else:\n",
    "        for i, v in enumerate(num): sns.boxplot(x=cat, y=v, data=data, ax=axes[i], order=data.groupby([cat], as_index=True).agg({v: orderby}).sort_values(v).index)"
   ]
  },
  {
   "cell_type": "code",
   "execution_count": 14,
   "metadata": {
    "_uuid": "c5e04372879769c3cabe31ca56995258355a3cbc"
   },
   "outputs": [],
   "source": [
    "# swarmplot function plot - categorical variable (x-axis) vs. numerical variable (y-axis)\n",
    "def swarmplot(cat = None, num = None, data = None, ncols = 5, nrows = 3):\n",
    "    fig, axes = plt.subplots(figsize=(4*ncols , 3*nrows), ncols=ncols, nrows=nrows)\n",
    "    axes = axes.flatten()\n",
    "    if type(cat) == list:\n",
    "        for i, v in enumerate(cat): sns.swarmplot(x=v, y=num, data=data, ax=axes[i])\n",
    "    else:\n",
    "        for i, v in enumerate(num): sns.swarmplot(x=cat, y=v, data=data, ax=axes[i])"
   ]
  },
  {
   "cell_type": "code",
   "execution_count": 15,
   "metadata": {
    "_uuid": "05cc652d289ae9d87787320396434f42f0720558"
   },
   "outputs": [],
   "source": [
    "# violinplot function plot - categorical variable (x-axis) vs. numerical variable (y-axis)\n",
    "def violinplot(cat = None, num = None, data = None, ncols = 5, nrows = 3):\n",
    "    fig, axes = plt.subplots(figsize=(4*ncols , 3*nrows), ncols=ncols, nrows=nrows)\n",
    "    axes = axes.flatten()\n",
    "    if type(cat) == list:\n",
    "        for i, v in enumerate(cat): sns.violinplot(x=v, y=num, data=data, ax=axes[i])\n",
    "    else:\n",
    "        for i, v in enumerate(num): sns.violinplot(x=cat, y=v, data=data, ax=axes[i])"
   ]
  },
  {
   "cell_type": "code",
   "execution_count": 16,
   "metadata": {
    "_uuid": "9cf7791883d94e62222da8c3b9bfee58dcfaa058"
   },
   "outputs": [],
   "source": [
    "# violinplot function sorted plot - categorical variable (x-axis) vs. numerical variable (y-axis)\n",
    "def violinplotsort(cat = None, num = None, data = None, ncols = 5, nrows = 3, orderby='median'):\n",
    "    fig, axes = plt.subplots(figsize=(4*ncols , 3*nrows), ncols=ncols, nrows=nrows)\n",
    "    axes = axes.flatten()\n",
    "    if type(cat) == list:\n",
    "        for i, v in enumerate(cat): sns.violinplot(x=v, y=num, data=data, ax=axes[i], order=data.groupby([v], as_index=True).agg({num: orderby}).sort_values(num).index)\n",
    "    else:\n",
    "        for i, v in enumerate(num): sns.violinplot(x=cat, y=v, data=data, ax=axes[i], order=data.groupby([cat], as_index=True).agg({v: orderby}).sort_values(v).index)"
   ]
  },
  {
   "cell_type": "code",
   "execution_count": 17,
   "metadata": {
    "_uuid": "6d01b479ebdbacaaab9e930590d4de8cec783dba"
   },
   "outputs": [],
   "source": [
    "# scatterplot function plot - numerical variable (x-axis) vs. numerical variable (y-axis)\n",
    "def scatterplot(x = None, y = None, data = None, ncols = 5, nrows = 3):\n",
    "    fig, axes = plt.subplots(figsize=(4*ncols , 3*nrows), ncols=ncols, nrows=nrows)\n",
    "    axes = axes.flatten()\n",
    "    for i, xi in enumerate(x): sns.scatterplot(x=xi, y=y, data=data, ax=axes[i])"
   ]
  },
  {
   "cell_type": "code",
   "execution_count": 18,
   "metadata": {
    "_uuid": "702692507ca048457608d42c2907d4a7d7bd768a"
   },
   "outputs": [
    {
     "data": {
      "text/html": [
       "<div>\n",
       "<style scoped>\n",
       "    .dataframe tbody tr th:only-of-type {\n",
       "        vertical-align: middle;\n",
       "    }\n",
       "\n",
       "    .dataframe tbody tr th {\n",
       "        vertical-align: top;\n",
       "    }\n",
       "\n",
       "    .dataframe thead th {\n",
       "        text-align: right;\n",
       "    }\n",
       "</style>\n",
       "<table border=\"1\" class=\"dataframe\">\n",
       "  <thead>\n",
       "    <tr style=\"text-align: right;\">\n",
       "      <th></th>\n",
       "      <th>ID</th>\n",
       "      <th>date</th>\n",
       "      <th>date_block_num</th>\n",
       "      <th>shop_id</th>\n",
       "      <th>item_id</th>\n",
       "      <th>item_price</th>\n",
       "      <th>item_cnt_day</th>\n",
       "      <th>datatype</th>\n",
       "    </tr>\n",
       "  </thead>\n",
       "  <tbody>\n",
       "    <tr>\n",
       "      <th>count</th>\n",
       "      <td>214200.00</td>\n",
       "      <td>3150049</td>\n",
       "      <td>3.150049e+06</td>\n",
       "      <td>3.150049e+06</td>\n",
       "      <td>3.150049e+06</td>\n",
       "      <td>2.935849e+06</td>\n",
       "      <td>2.935849e+06</td>\n",
       "      <td>3150049</td>\n",
       "    </tr>\n",
       "    <tr>\n",
       "      <th>unique</th>\n",
       "      <td>NaN</td>\n",
       "      <td>1035</td>\n",
       "      <td>NaN</td>\n",
       "      <td>NaN</td>\n",
       "      <td>NaN</td>\n",
       "      <td>NaN</td>\n",
       "      <td>NaN</td>\n",
       "      <td>2</td>\n",
       "    </tr>\n",
       "    <tr>\n",
       "      <th>top</th>\n",
       "      <td>NaN</td>\n",
       "      <td>01.11.2015</td>\n",
       "      <td>NaN</td>\n",
       "      <td>NaN</td>\n",
       "      <td>NaN</td>\n",
       "      <td>NaN</td>\n",
       "      <td>NaN</td>\n",
       "      <td>training</td>\n",
       "    </tr>\n",
       "    <tr>\n",
       "      <th>freq</th>\n",
       "      <td>NaN</td>\n",
       "      <td>214200</td>\n",
       "      <td>NaN</td>\n",
       "      <td>NaN</td>\n",
       "      <td>NaN</td>\n",
       "      <td>NaN</td>\n",
       "      <td>NaN</td>\n",
       "      <td>2935849</td>\n",
       "    </tr>\n",
       "    <tr>\n",
       "      <th>mean</th>\n",
       "      <td>107099.50</td>\n",
       "      <td>NaN</td>\n",
       "      <td>1.589114e+01</td>\n",
       "      <td>3.290933e+01</td>\n",
       "      <td>1.025313e+04</td>\n",
       "      <td>8.908532e+02</td>\n",
       "      <td>1.242641e+00</td>\n",
       "      <td>NaN</td>\n",
       "    </tr>\n",
       "    <tr>\n",
       "      <th>...</th>\n",
       "      <td>...</td>\n",
       "      <td>...</td>\n",
       "      <td>...</td>\n",
       "      <td>...</td>\n",
       "      <td>...</td>\n",
       "      <td>...</td>\n",
       "      <td>...</td>\n",
       "      <td>...</td>\n",
       "    </tr>\n",
       "    <tr>\n",
       "      <th>min</th>\n",
       "      <td>0.00</td>\n",
       "      <td>NaN</td>\n",
       "      <td>0.000000e+00</td>\n",
       "      <td>0.000000e+00</td>\n",
       "      <td>0.000000e+00</td>\n",
       "      <td>-1.000000e+00</td>\n",
       "      <td>-2.200000e+01</td>\n",
       "      <td>NaN</td>\n",
       "    </tr>\n",
       "    <tr>\n",
       "      <th>25%</th>\n",
       "      <td>53549.75</td>\n",
       "      <td>NaN</td>\n",
       "      <td>7.000000e+00</td>\n",
       "      <td>2.200000e+01</td>\n",
       "      <td>4.510000e+03</td>\n",
       "      <td>2.490000e+02</td>\n",
       "      <td>1.000000e+00</td>\n",
       "      <td>NaN</td>\n",
       "    </tr>\n",
       "    <tr>\n",
       "      <th>50%</th>\n",
       "      <td>107099.50</td>\n",
       "      <td>NaN</td>\n",
       "      <td>1.500000e+01</td>\n",
       "      <td>3.100000e+01</td>\n",
       "      <td>9.461000e+03</td>\n",
       "      <td>3.990000e+02</td>\n",
       "      <td>1.000000e+00</td>\n",
       "      <td>NaN</td>\n",
       "    </tr>\n",
       "    <tr>\n",
       "      <th>75%</th>\n",
       "      <td>160649.25</td>\n",
       "      <td>NaN</td>\n",
       "      <td>2.400000e+01</td>\n",
       "      <td>4.700000e+01</td>\n",
       "      <td>1.572700e+04</td>\n",
       "      <td>9.990000e+02</td>\n",
       "      <td>1.000000e+00</td>\n",
       "      <td>NaN</td>\n",
       "    </tr>\n",
       "    <tr>\n",
       "      <th>max</th>\n",
       "      <td>214199.00</td>\n",
       "      <td>NaN</td>\n",
       "      <td>3.400000e+01</td>\n",
       "      <td>5.900000e+01</td>\n",
       "      <td>2.216900e+04</td>\n",
       "      <td>3.079800e+05</td>\n",
       "      <td>2.169000e+03</td>\n",
       "      <td>NaN</td>\n",
       "    </tr>\n",
       "  </tbody>\n",
       "</table>\n",
       "<p>11 rows × 8 columns</p>\n",
       "</div>"
      ],
      "text/plain": [
       "               ID        date    ...     item_cnt_day  datatype\n",
       "count   214200.00     3150049    ...     2.935849e+06   3150049\n",
       "unique        NaN        1035    ...              NaN         2\n",
       "top           NaN  01.11.2015    ...              NaN  training\n",
       "freq          NaN      214200    ...              NaN   2935849\n",
       "mean    107099.50         NaN    ...     1.242641e+00       NaN\n",
       "...           ...         ...    ...              ...       ...\n",
       "min          0.00         NaN    ...    -2.200000e+01       NaN\n",
       "25%      53549.75         NaN    ...     1.000000e+00       NaN\n",
       "50%     107099.50         NaN    ...     1.000000e+00       NaN\n",
       "75%     160649.25         NaN    ...     1.000000e+00       NaN\n",
       "max     214199.00         NaN    ...     2.169000e+03       NaN\n",
       "\n",
       "[11 rows x 8 columns]"
      ]
     },
     "execution_count": 18,
     "metadata": {},
     "output_type": "execute_result"
    }
   ],
   "source": [
    "# describe training and testing data\n",
    "df_data.describe(include='all')"
   ]
  },
  {
   "cell_type": "code",
   "execution_count": 19,
   "metadata": {},
   "outputs": [
    {
     "name": "stdout",
     "output_type": "stream",
     "text": [
      "features type number:\n",
      " items ['ID', 'date_block_num', 'shop_id', 'item_id', 'item_price', 'item_cnt_day']\n",
      " length 6\n",
      "features type object:\n",
      " items ['date', 'datatype']\n",
      " length 2\n"
     ]
    }
   ],
   "source": [
    "# list all features type number\n",
    "col_number = df_data.select_dtypes(include=['number']).columns.tolist()\n",
    "print('features type number:\\n items %s\\n length %d' %(col_number, len(col_number)))\n",
    "\n",
    "# list all features type object\n",
    "col_object = df_data.select_dtypes(include=['object']).columns.tolist()\n",
    "print('features type object:\\n items %s\\n length %d' %(col_object, len(col_object)))"
   ]
  },
  {
   "cell_type": "code",
   "execution_count": 20,
   "metadata": {},
   "outputs": [
    {
     "data": {
      "image/png": "[encoded data removed]",
      "text/plain": [
       "<Figure size 720x432 with 6 Axes>"
      ]
     },
     "metadata": {},
     "output_type": "display_data"
    }
   ],
   "source": [
    "# feature exploration: histogram of all numeric features\n",
    "_ = df_data.hist(bins=20, figsize=(10, 6))"
   ]
  },
  {
   "cell_type": "code",
   "execution_count": 21,
   "metadata": {},
   "outputs": [],
   "source": [
    "# feature extraction: fix the duplicated shop id\n",
    "df_data.loc[df_data['shop_id'] == 0, 'shop_id'] = 57\n",
    "df_data.loc[df_data['shop_id'] == 1, 'shop_id'] = 58\n",
    "df_data.loc[df_data['shop_id'] == 11, 'shop_id'] = 10"
   ]
  },
  {
   "cell_type": "code",
   "execution_count": 22,
   "metadata": {},
   "outputs": [],
   "source": [
    "# feature extraction: set maximum and minimum limit for item price\n",
    "df_data = df_data[((df_data['item_price'] >= 0) & (df_data['item_price'] <= 100000)) | (df_data['item_price'].isna())]\n",
    "df_data['item_price'] = np.log1p(df_data['item_price'])"
   ]
  },
  {
   "cell_type": "code",
   "execution_count": 23,
   "metadata": {},
   "outputs": [],
   "source": [
    "# feature extraction: set maximum and minimum limit for number of products sold\n",
    "df_data = df_data[((df_data['item_cnt_day'] >= 0) & (df_data['item_cnt_day'] <= 1000)) | (df_data['item_cnt_day'].isna())]"
   ]
  },
  {
   "cell_type": "code",
   "execution_count": 24,
   "metadata": {},
   "outputs": [
    {
     "data": {
      "image/png": "[encoded data removed]",
      "text/plain": [
       "<Figure size 720x432 with 6 Axes>"
      ]
     },
     "metadata": {},
     "output_type": "display_data"
    }
   ],
   "source": [
    "# feature exploration: histogram of all numeric features\n",
    "_ = df_data.hist(bins=20, figsize=(10, 6))"
   ]
  },
  {
   "cell_type": "code",
   "execution_count": 25,
   "metadata": {},
   "outputs": [
    {
     "data": {
      "text/html": [
       "<div>\n",
       "<style scoped>\n",
       "    .dataframe tbody tr th:only-of-type {\n",
       "        vertical-align: middle;\n",
       "    }\n",
       "\n",
       "    .dataframe tbody tr th {\n",
       "        vertical-align: top;\n",
       "    }\n",
       "\n",
       "    .dataframe thead th {\n",
       "        text-align: right;\n",
       "    }\n",
       "</style>\n",
       "<table border=\"1\" class=\"dataframe\">\n",
       "  <thead>\n",
       "    <tr style=\"text-align: right;\">\n",
       "      <th></th>\n",
       "      <th>ID</th>\n",
       "      <th>date</th>\n",
       "      <th>date_block_num</th>\n",
       "      <th>shop_id</th>\n",
       "      <th>item_id</th>\n",
       "      <th>item_price</th>\n",
       "      <th>item_cnt_day</th>\n",
       "      <th>datatype</th>\n",
       "    </tr>\n",
       "  </thead>\n",
       "  <tbody>\n",
       "  </tbody>\n",
       "</table>\n",
       "</div>"
      ],
      "text/plain": [
       "Empty DataFrame\n",
       "Columns: [ID, date, date_block_num, shop_id, item_id, item_price, item_cnt_day, datatype]\n",
       "Index: []"
      ]
     },
     "execution_count": 25,
     "metadata": {},
     "output_type": "execute_result"
    }
   ],
   "source": [
    "# feature exploration: zero number of products sold\n",
    "df_data[df_data['item_cnt_day'] == 0].head()"
   ]
  },
  {
   "cell_type": "markdown",
   "metadata": {},
   "source": [
    "The exploratory data analysis resulting in,\n",
    "\n",
    "* **Number of products sold:** There is no data for zero number of products sold. It is required to create the cross table of zero number of products sold in each month and merge to the main dataframe."
   ]
  },
  {
   "cell_type": "code",
   "execution_count": 26,
   "metadata": {},
   "outputs": [],
   "source": [
    "# feature extraction: cross dataframe\n",
    "list_of_cross, months = [], df_data['date_block_num'].unique()\n",
    "for month in months:\n",
    "    shops = df_data.loc[df_data['date_block_num'] == month, 'shop_id'].unique()\n",
    "    items = df_data.loc[df_data['date_block_num'] == month, 'item_id'].unique()\n",
    "    list_of_cross.append(np.array(list(itertools.product(*[[month], shops, items]))))\n",
    "df_cross = pd.DataFrame(np.vstack(list_of_cross), columns=['date_block_num', 'shop_id', 'item_id'])"
   ]
  },
  {
   "cell_type": "code",
   "execution_count": 27,
   "metadata": {},
   "outputs": [
    {
     "data": {
      "text/html": [
       "<div>\n",
       "<style scoped>\n",
       "    .dataframe tbody tr th:only-of-type {\n",
       "        vertical-align: middle;\n",
       "    }\n",
       "\n",
       "    .dataframe tbody tr th {\n",
       "        vertical-align: top;\n",
       "    }\n",
       "\n",
       "    .dataframe thead th {\n",
       "        text-align: right;\n",
       "    }\n",
       "</style>\n",
       "<table border=\"1\" class=\"dataframe\">\n",
       "  <thead>\n",
       "    <tr style=\"text-align: right;\">\n",
       "      <th></th>\n",
       "      <th>date_block_num</th>\n",
       "      <th>shop_id</th>\n",
       "      <th>item_id</th>\n",
       "    </tr>\n",
       "  </thead>\n",
       "  <tbody>\n",
       "    <tr>\n",
       "      <th>count</th>\n",
       "      <td>1.109871e+07</td>\n",
       "      <td>1.109871e+07</td>\n",
       "      <td>1.109871e+07</td>\n",
       "    </tr>\n",
       "    <tr>\n",
       "      <th>mean</th>\n",
       "      <td>1.532923e+01</td>\n",
       "      <td>3.139156e+01</td>\n",
       "      <td>1.130448e+04</td>\n",
       "    </tr>\n",
       "    <tr>\n",
       "      <th>std</th>\n",
       "      <td>9.752059e+00</td>\n",
       "      <td>1.733244e+01</td>\n",
       "      <td>6.211011e+03</td>\n",
       "    </tr>\n",
       "    <tr>\n",
       "      <th>min</th>\n",
       "      <td>0.000000e+00</td>\n",
       "      <td>2.000000e+00</td>\n",
       "      <td>0.000000e+00</td>\n",
       "    </tr>\n",
       "    <tr>\n",
       "      <th>25%</th>\n",
       "      <td>7.000000e+00</td>\n",
       "      <td>1.600000e+01</td>\n",
       "      <td>5.948000e+03</td>\n",
       "    </tr>\n",
       "    <tr>\n",
       "      <th>50%</th>\n",
       "      <td>1.500000e+01</td>\n",
       "      <td>3.100000e+01</td>\n",
       "      <td>1.138900e+04</td>\n",
       "    </tr>\n",
       "    <tr>\n",
       "      <th>75%</th>\n",
       "      <td>2.300000e+01</td>\n",
       "      <td>4.700000e+01</td>\n",
       "      <td>1.659400e+04</td>\n",
       "    </tr>\n",
       "    <tr>\n",
       "      <th>max</th>\n",
       "      <td>3.400000e+01</td>\n",
       "      <td>5.900000e+01</td>\n",
       "      <td>2.216900e+04</td>\n",
       "    </tr>\n",
       "  </tbody>\n",
       "</table>\n",
       "</div>"
      ],
      "text/plain": [
       "       date_block_num       shop_id       item_id\n",
       "count    1.109871e+07  1.109871e+07  1.109871e+07\n",
       "mean     1.532923e+01  3.139156e+01  1.130448e+04\n",
       "std      9.752059e+00  1.733244e+01  6.211011e+03\n",
       "min      0.000000e+00  2.000000e+00  0.000000e+00\n",
       "25%      7.000000e+00  1.600000e+01  5.948000e+03\n",
       "50%      1.500000e+01  3.100000e+01  1.138900e+04\n",
       "75%      2.300000e+01  4.700000e+01  1.659400e+04\n",
       "max      3.400000e+01  5.900000e+01  2.216900e+04"
      ]
     },
     "execution_count": 27,
     "metadata": {},
     "output_type": "execute_result"
    }
   ],
   "source": [
    "# describe cross dataframe\n",
    "df_cross.describe(include='all')"
   ]
  },
  {
   "cell_type": "code",
   "execution_count": 28,
   "metadata": {},
   "outputs": [],
   "source": [
    "# feature extraction: block dataframe\n",
    "df_block = df_data.groupby(['date_block_num', 'shop_id', 'item_id'], as_index=False).agg({\n",
    "    'item_price': 'mean', 'item_cnt_day': sum\n",
    "}).rename(columns={'item_cnt_day': 'item_cnt_month'})"
   ]
  },
  {
   "cell_type": "code",
   "execution_count": 29,
   "metadata": {},
   "outputs": [
    {
     "data": {
      "text/html": [
       "<div>\n",
       "<style scoped>\n",
       "    .dataframe tbody tr th:only-of-type {\n",
       "        vertical-align: middle;\n",
       "    }\n",
       "\n",
       "    .dataframe tbody tr th {\n",
       "        vertical-align: top;\n",
       "    }\n",
       "\n",
       "    .dataframe thead th {\n",
       "        text-align: right;\n",
       "    }\n",
       "</style>\n",
       "<table border=\"1\" class=\"dataframe\">\n",
       "  <thead>\n",
       "    <tr style=\"text-align: right;\">\n",
       "      <th></th>\n",
       "      <th>date_block_num</th>\n",
       "      <th>shop_id</th>\n",
       "      <th>item_id</th>\n",
       "      <th>item_price</th>\n",
       "      <th>item_cnt_month</th>\n",
       "    </tr>\n",
       "  </thead>\n",
       "  <tbody>\n",
       "    <tr>\n",
       "      <th>count</th>\n",
       "      <td>1.608225e+06</td>\n",
       "      <td>1.608225e+06</td>\n",
       "      <td>1.608225e+06</td>\n",
       "      <td>1.608225e+06</td>\n",
       "      <td>1.608225e+06</td>\n",
       "    </tr>\n",
       "    <tr>\n",
       "      <th>mean</th>\n",
       "      <td>1.466503e+01</td>\n",
       "      <td>3.309496e+01</td>\n",
       "      <td>1.068148e+04</td>\n",
       "      <td>6.075610e+00</td>\n",
       "      <td>2.271806e+00</td>\n",
       "    </tr>\n",
       "    <tr>\n",
       "      <th>std</th>\n",
       "      <td>9.542386e+00</td>\n",
       "      <td>1.646634e+01</td>\n",
       "      <td>6.238857e+03</td>\n",
       "      <td>1.014935e+00</td>\n",
       "      <td>8.469520e+00</td>\n",
       "    </tr>\n",
       "    <tr>\n",
       "      <th>min</th>\n",
       "      <td>0.000000e+00</td>\n",
       "      <td>2.000000e+00</td>\n",
       "      <td>0.000000e+00</td>\n",
       "      <td>8.609300e-02</td>\n",
       "      <td>1.000000e+00</td>\n",
       "    </tr>\n",
       "    <tr>\n",
       "      <th>25%</th>\n",
       "      <td>6.000000e+00</td>\n",
       "      <td>2.100000e+01</td>\n",
       "      <td>5.046000e+03</td>\n",
       "      <td>5.298317e+00</td>\n",
       "      <td>1.000000e+00</td>\n",
       "    </tr>\n",
       "    <tr>\n",
       "      <th>50%</th>\n",
       "      <td>1.400000e+01</td>\n",
       "      <td>3.100000e+01</td>\n",
       "      <td>1.049700e+04</td>\n",
       "      <td>5.991465e+00</td>\n",
       "      <td>1.000000e+00</td>\n",
       "    </tr>\n",
       "    <tr>\n",
       "      <th>75%</th>\n",
       "      <td>2.300000e+01</td>\n",
       "      <td>4.800000e+01</td>\n",
       "      <td>1.606000e+04</td>\n",
       "      <td>6.791221e+00</td>\n",
       "      <td>2.000000e+00</td>\n",
       "    </tr>\n",
       "    <tr>\n",
       "      <th>max</th>\n",
       "      <td>3.300000e+01</td>\n",
       "      <td>5.900000e+01</td>\n",
       "      <td>2.216900e+04</td>\n",
       "      <td>1.083958e+01</td>\n",
       "      <td>1.644000e+03</td>\n",
       "    </tr>\n",
       "  </tbody>\n",
       "</table>\n",
       "</div>"
      ],
      "text/plain": [
       "       date_block_num       ...        item_cnt_month\n",
       "count    1.608225e+06       ...          1.608225e+06\n",
       "mean     1.466503e+01       ...          2.271806e+00\n",
       "std      9.542386e+00       ...          8.469520e+00\n",
       "min      0.000000e+00       ...          1.000000e+00\n",
       "25%      6.000000e+00       ...          1.000000e+00\n",
       "50%      1.400000e+01       ...          1.000000e+00\n",
       "75%      2.300000e+01       ...          2.000000e+00\n",
       "max      3.300000e+01       ...          1.644000e+03\n",
       "\n",
       "[8 rows x 5 columns]"
      ]
     },
     "execution_count": 29,
     "metadata": {},
     "output_type": "execute_result"
    }
   ],
   "source": [
    "# describe block dataframe for month 0 - 33\n",
    "df_block[df_block['date_block_num'] != 34].describe(include='all')"
   ]
  },
  {
   "cell_type": "code",
   "execution_count": 30,
   "metadata": {},
   "outputs": [
    {
     "data": {
      "text/html": [
       "<div>\n",
       "<style scoped>\n",
       "    .dataframe tbody tr th:only-of-type {\n",
       "        vertical-align: middle;\n",
       "    }\n",
       "\n",
       "    .dataframe tbody tr th {\n",
       "        vertical-align: top;\n",
       "    }\n",
       "\n",
       "    .dataframe thead th {\n",
       "        text-align: right;\n",
       "    }\n",
       "</style>\n",
       "<table border=\"1\" class=\"dataframe\">\n",
       "  <thead>\n",
       "    <tr style=\"text-align: right;\">\n",
       "      <th></th>\n",
       "      <th>date_block_num</th>\n",
       "      <th>shop_id</th>\n",
       "      <th>item_id</th>\n",
       "      <th>item_price</th>\n",
       "      <th>item_cnt_month</th>\n",
       "    </tr>\n",
       "  </thead>\n",
       "  <tbody>\n",
       "    <tr>\n",
       "      <th>count</th>\n",
       "      <td>214200.0</td>\n",
       "      <td>214200.000000</td>\n",
       "      <td>214200.000000</td>\n",
       "      <td>0.0</td>\n",
       "      <td>214200.0</td>\n",
       "    </tr>\n",
       "    <tr>\n",
       "      <th>mean</th>\n",
       "      <td>34.0</td>\n",
       "      <td>31.642857</td>\n",
       "      <td>11019.398627</td>\n",
       "      <td>NaN</td>\n",
       "      <td>0.0</td>\n",
       "    </tr>\n",
       "    <tr>\n",
       "      <th>std</th>\n",
       "      <td>0.0</td>\n",
       "      <td>17.561933</td>\n",
       "      <td>6252.644590</td>\n",
       "      <td>NaN</td>\n",
       "      <td>0.0</td>\n",
       "    </tr>\n",
       "    <tr>\n",
       "      <th>min</th>\n",
       "      <td>34.0</td>\n",
       "      <td>2.000000</td>\n",
       "      <td>30.000000</td>\n",
       "      <td>NaN</td>\n",
       "      <td>0.0</td>\n",
       "    </tr>\n",
       "    <tr>\n",
       "      <th>25%</th>\n",
       "      <td>34.0</td>\n",
       "      <td>16.000000</td>\n",
       "      <td>5381.500000</td>\n",
       "      <td>NaN</td>\n",
       "      <td>0.0</td>\n",
       "    </tr>\n",
       "    <tr>\n",
       "      <th>50%</th>\n",
       "      <td>34.0</td>\n",
       "      <td>34.500000</td>\n",
       "      <td>11203.000000</td>\n",
       "      <td>NaN</td>\n",
       "      <td>0.0</td>\n",
       "    </tr>\n",
       "    <tr>\n",
       "      <th>75%</th>\n",
       "      <td>34.0</td>\n",
       "      <td>47.000000</td>\n",
       "      <td>16071.500000</td>\n",
       "      <td>NaN</td>\n",
       "      <td>0.0</td>\n",
       "    </tr>\n",
       "    <tr>\n",
       "      <th>max</th>\n",
       "      <td>34.0</td>\n",
       "      <td>59.000000</td>\n",
       "      <td>22167.000000</td>\n",
       "      <td>NaN</td>\n",
       "      <td>0.0</td>\n",
       "    </tr>\n",
       "  </tbody>\n",
       "</table>\n",
       "</div>"
      ],
      "text/plain": [
       "       date_block_num        shop_id       ...        item_price  item_cnt_month\n",
       "count        214200.0  214200.000000       ...               0.0        214200.0\n",
       "mean             34.0      31.642857       ...               NaN             0.0\n",
       "std               0.0      17.561933       ...               NaN             0.0\n",
       "min              34.0       2.000000       ...               NaN             0.0\n",
       "25%              34.0      16.000000       ...               NaN             0.0\n",
       "50%              34.0      34.500000       ...               NaN             0.0\n",
       "75%              34.0      47.000000       ...               NaN             0.0\n",
       "max              34.0      59.000000       ...               NaN             0.0\n",
       "\n",
       "[8 rows x 5 columns]"
      ]
     },
     "execution_count": 30,
     "metadata": {},
     "output_type": "execute_result"
    }
   ],
   "source": [
    "# describe block dataframe for month 34\n",
    "df_block[df_block['date_block_num'] == 34].describe(include='all')"
   ]
  },
  {
   "cell_type": "code",
   "execution_count": 31,
   "metadata": {},
   "outputs": [],
   "source": [
    "# feature extraction: merge block and cross dataframe\n",
    "df_block = pd.merge(df_cross, df_block, how='left', on=['date_block_num', 'shop_id', 'item_id'])"
   ]
  },
  {
   "cell_type": "code",
   "execution_count": 32,
   "metadata": {},
   "outputs": [],
   "source": [
    "# feature extraction: number of products sold fillna by 0\n",
    "df_block['item_cnt_month'] = df_block['item_cnt_month'].fillna(0)"
   ]
  },
  {
   "cell_type": "code",
   "execution_count": 33,
   "metadata": {},
   "outputs": [],
   "source": [
    "# feature extraction: merge with supplemental information about the items/products\n",
    "df_block = pd.merge(df_block, df_items, how='left', left_on='item_id', right_on='item_id')"
   ]
  },
  {
   "cell_type": "code",
   "execution_count": 34,
   "metadata": {},
   "outputs": [],
   "source": [
    "# feature extraction: merge with supplemental information about the items categories\n",
    "df_block = pd.merge(df_block, df_categories, how='left', left_on='item_category_id', right_on='item_category_id')"
   ]
  },
  {
   "cell_type": "code",
   "execution_count": 35,
   "metadata": {},
   "outputs": [],
   "source": [
    "# feature extraction: merge with supplemental information about the shops\n",
    "df_block = pd.merge(df_block, df_shops, how='left', left_on='shop_id', right_on='shop_id')"
   ]
  },
  {
   "cell_type": "code",
   "execution_count": 36,
   "metadata": {},
   "outputs": [
    {
     "data": {
      "text/plain": [
       "10687    1624\n",
       "448      1624\n",
       "12979    1624\n",
       "12990    1624\n",
       "16182    1624\n",
       "         ... \n",
       "6730       42\n",
       "6731       42\n",
       "13745      42\n",
       "17858      42\n",
       "20843      42\n",
       "Name: item_id, Length: 22166, dtype: int64"
      ]
     },
     "execution_count": 36,
     "metadata": {},
     "output_type": "execute_result"
    }
   ],
   "source": [
    "# feature exploration: item id\n",
    "df_block['item_id'].value_counts()"
   ]
  },
  {
   "cell_type": "code",
   "execution_count": 37,
   "metadata": {},
   "outputs": [
    {
     "data": {
      "text/plain": [
       "40    2522958\n",
       "55    1579856\n",
       "37    1157477\n",
       "31     405591\n",
       "30     384054\n",
       "       ...   \n",
       "52        135\n",
       "50         92\n",
       "1          91\n",
       "51         50\n",
       "10         45\n",
       "Name: item_category_id, Length: 84, dtype: int64"
      ]
     },
     "execution_count": 37,
     "metadata": {},
     "output_type": "execute_result"
    }
   ],
   "source": [
    "# feature exploration: category id\n",
    "df_block['item_category_id'].value_counts()"
   ]
  },
  {
   "cell_type": "code",
   "execution_count": 38,
   "metadata": {},
   "outputs": [
    {
     "data": {
      "text/plain": [
       "59    238901\n",
       "18    238901\n",
       "58    238901\n",
       "28    238901\n",
       "26    238901\n",
       "       ...  \n",
       "23     32716\n",
       "8      24576\n",
       "9      19780\n",
       "20     11742\n",
       "36     10511\n",
       "Name: shop_id, Length: 57, dtype: int64"
      ]
     },
     "execution_count": 38,
     "metadata": {},
     "output_type": "execute_result"
    }
   ],
   "source": [
    "# feature exploration: shop id\n",
    "df_block['shop_id'].value_counts()"
   ]
  },
  {
   "cell_type": "code",
   "execution_count": 39,
   "metadata": {},
   "outputs": [
    {
     "data": {
      "text/plain": [
       "20949    71\n",
       "Name: item_category_id, dtype: int64"
      ]
     },
     "execution_count": 39,
     "metadata": {},
     "output_type": "execute_result"
    }
   ],
   "source": [
    "# feature exploration: item id 20949\n",
    "df_items.loc[df_items['item_id'] == 20949, 'item_category_id']"
   ]
  },
  {
   "cell_type": "code",
   "execution_count": 40,
   "metadata": {},
   "outputs": [
    {
     "data": {
      "text/plain": [
       "7149      7149\n",
       "13597    13597\n",
       "13598    13598\n",
       "20949    20949\n",
       "21788    21788\n",
       "21789    21789\n",
       "Name: item_id, dtype: int64"
      ]
     },
     "execution_count": 40,
     "metadata": {},
     "output_type": "execute_result"
    }
   ],
   "source": [
    "# feature exploration: category id 71\n",
    "df_items.loc[df_items['item_category_id'] == 71, 'item_id']"
   ]
  },
  {
   "cell_type": "code",
   "execution_count": 41,
   "metadata": {},
   "outputs": [
    {
     "data": {
      "text/plain": [
       "40    54374\n",
       "55    34033\n",
       "37    24752\n",
       "31     8667\n",
       "30     8282\n",
       "      ...  \n",
       "52        3\n",
       "50        2\n",
       "1         2\n",
       "10        1\n",
       "51        1\n",
       "Name: item_category_id, Length: 84, dtype: int64"
      ]
     },
     "execution_count": 41,
     "metadata": {},
     "output_type": "execute_result"
    }
   ],
   "source": [
    "# feature exploration: shop id 31\n",
    "df_block.loc[df_block['shop_id'] == 31, 'item_category_id'].value_counts()"
   ]
  },
  {
   "cell_type": "code",
   "execution_count": 42,
   "metadata": {},
   "outputs": [
    {
     "data": {
      "text/plain": [
       "59    54374\n",
       "18    54374\n",
       "58    54374\n",
       "28    54374\n",
       "26    54374\n",
       "      ...  \n",
       "33     8901\n",
       "8      7326\n",
       "9      3970\n",
       "20     1904\n",
       "36     1558\n",
       "Name: shop_id, Length: 57, dtype: int64"
      ]
     },
     "execution_count": 42,
     "metadata": {},
     "output_type": "execute_result"
    }
   ],
   "source": [
    "# feature exploration: category id 40\n",
    "df_block.loc[df_block['item_category_id'] == 40, 'shop_id'].value_counts()"
   ]
  },
  {
   "cell_type": "code",
   "execution_count": 43,
   "metadata": {},
   "outputs": [
    {
     "data": {
      "text/plain": [
       "18027"
      ]
     },
     "execution_count": 43,
     "metadata": {},
     "output_type": "execute_result"
    }
   ],
   "source": [
    "# memory clean-up\n",
    "del df_categories, df_cross, df_data, df_items, df_shops\n",
    "gc.collect()"
   ]
  },
  {
   "cell_type": "markdown",
   "metadata": {},
   "source": [
    "The exploratory data analysis resulting in,\n",
    "\n",
    "* **Item:** There are 22,166 unique items.\n",
    "* **Category:** There are 84 unique categories.\n",
    "* **Shop:** There are 57 unique shops after removed duplication from above step."
   ]
  },
  {
   "cell_type": "code",
   "execution_count": 44,
   "metadata": {},
   "outputs": [],
   "source": [
    "# feature extraction: item price fillna by item id from previous month\n",
    "npitemids = df_block['shop_id'].unique()\n",
    "for npitemid in npitemids:\n",
    "    df_condition33 = (df_block['date_block_num'] == 33) & (df_block['item_id'] == npitemid)\n",
    "    df_condition34 = (df_block['date_block_num'] == 34) & (df_block['item_id'] == npitemid)\n",
    "    df_block.loc[df_condition34, 'item_price'] = df_block['item_price'].fillna(df_block.loc[df_condition33, 'item_price'].mean())"
   ]
  },
  {
   "cell_type": "code",
   "execution_count": 45,
   "metadata": {},
   "outputs": [],
   "source": [
    "# feature extraction: item price fillna by category id from previous month\n",
    "npcategoryids = df_block['item_category_id'].unique()\n",
    "for npcategoryid in npcategoryids:\n",
    "    df_condition33 = (df_block['date_block_num'] == 33) & (df_block['item_category_id'] == npcategoryid)\n",
    "    df_condition34 = (df_block['date_block_num'] == 34) & (df_block['item_category_id'] == npcategoryid)\n",
    "    df_block.loc[df_condition34, 'item_price'] = df_block['item_price'].fillna(df_block.loc[df_condition33, 'item_price'].mean())"
   ]
  },
  {
   "cell_type": "code",
   "execution_count": 46,
   "metadata": {},
   "outputs": [],
   "source": [
    "# feature extraction: item price fillna by category id\n",
    "npcategoryids = df_block['item_category_id'].unique()\n",
    "for npcategoryid in npcategoryids:\n",
    "    df_condition = df_block['item_category_id'] == npcategoryid\n",
    "    df_block.loc[df_condition, 'item_price'] = df_block['item_price'].fillna(df_block.loc[df_condition, 'item_price'].mean())"
   ]
  },
  {
   "cell_type": "code",
   "execution_count": 47,
   "metadata": {},
   "outputs": [],
   "source": [
    "# feature extraction: month\n",
    "df_block['month'] = df_block['date_block_num'] % 12"
   ]
  },
  {
   "cell_type": "code",
   "execution_count": 48,
   "metadata": {},
   "outputs": [
    {
     "data": {
      "text/plain": [
       "Москва      2391408\n",
       "Тюмень       616242\n",
       "Воронеж      502378\n",
       "Самара       477802\n",
       "Якутск       477802\n",
       "             ...   \n",
       "Цифровой     206185\n",
       "Химки        202389\n",
       "Томск        118667\n",
       "Мытищи        49943\n",
       "Выездная      19780\n",
       "Name: city, Length: 31, dtype: int64"
      ]
     },
     "execution_count": 48,
     "metadata": {},
     "output_type": "execute_result"
    }
   ],
   "source": [
    "# feature extraction: city\n",
    "df_block.loc[df_block['shop_name'] == 'Сергиев Посад ТЦ \"7Я\"', 'shop_name'] = 'СергиевПосад ТЦ \"7Я\"'\n",
    "df_block['city'] = df_block['shop_name'].str.split(' ').apply(lambda x: x[0])\n",
    "df_block.loc[df_block['city'] == '!Якутск', 'city'] = 'Якутск'\n",
    "df_block['city'].value_counts()"
   ]
  },
  {
   "cell_type": "code",
   "execution_count": 49,
   "metadata": {},
   "outputs": [],
   "source": [
    "# feature extraction: city_code\n",
    "df_block['city_code'] = LabelEncoder().fit_transform(df_block['city'])"
   ]
  },
  {
   "cell_type": "code",
   "execution_count": 50,
   "metadata": {},
   "outputs": [
    {
     "data": {
      "text/plain": [
       "Кино                       4144186\n",
       "Музыка                     2418362\n",
       "Подарки                    1468228\n",
       "Игры PC                     949145\n",
       "Игры                        930110\n",
       "                            ...   \n",
       "Чистые носители (шпиль)       2572\n",
       "Билеты (Цифра)                2163\n",
       "Игры Android                  1109\n",
       "Игры MAC                       422\n",
       "PC                             178\n",
       "Name: type, Length: 20, dtype: int64"
      ]
     },
     "execution_count": 50,
     "metadata": {},
     "output_type": "execute_result"
    }
   ],
   "source": [
    "# feature extraction: type\n",
    "df_block['type'] = df_block['item_category_name'].str.split('-').apply(lambda x: x[0].strip())\n",
    "df_block['type'].value_counts()"
   ]
  },
  {
   "cell_type": "code",
   "execution_count": 51,
   "metadata": {},
   "outputs": [],
   "source": [
    "# feature extraction: type_code\n",
    "df_block['type_code'] = LabelEncoder().fit_transform(df_block['type'])"
   ]
  },
  {
   "cell_type": "code",
   "execution_count": 52,
   "metadata": {},
   "outputs": [
    {
     "data": {
      "text/plain": [
       "DVD                           2522958\n",
       "CD локального производства    1579856\n",
       "Blu                           1410455\n",
       "Цифра                          449660\n",
       "PS3                            405448\n",
       "                               ...   \n",
       "Гарнитуры/Наушники                178\n",
       "Художественная литература         138\n",
       "Путеводители                      135\n",
       "Открытки                           92\n",
       "Познавательная литература          50\n",
       "Name: subtype, Length: 65, dtype: int64"
      ]
     },
     "execution_count": 52,
     "metadata": {},
     "output_type": "execute_result"
    }
   ],
   "source": [
    "# feature extraction: subtype\n",
    "df_block['subtype'] = df_block['item_category_name'].str.split('-').apply(lambda x: x[1].strip() if len(x) > 1 else x[0].strip())\n",
    "df_block['subtype'].value_counts()"
   ]
  },
  {
   "cell_type": "code",
   "execution_count": 53,
   "metadata": {},
   "outputs": [],
   "source": [
    "# feature extraction: subtype_code\n",
    "df_block['subtype_code'] = LabelEncoder().fit_transform(df_block['subtype'])"
   ]
  },
  {
   "cell_type": "code",
   "execution_count": 54,
   "metadata": {},
   "outputs": [
    {
     "data": {
      "text/html": [
       "<div>\n",
       "<style scoped>\n",
       "    .dataframe tbody tr th:only-of-type {\n",
       "        vertical-align: middle;\n",
       "    }\n",
       "\n",
       "    .dataframe tbody tr th {\n",
       "        vertical-align: top;\n",
       "    }\n",
       "\n",
       "    .dataframe thead th {\n",
       "        text-align: right;\n",
       "    }\n",
       "</style>\n",
       "<table border=\"1\" class=\"dataframe\">\n",
       "  <thead>\n",
       "    <tr style=\"text-align: right;\">\n",
       "      <th></th>\n",
       "      <th>date_block_num</th>\n",
       "      <th>shop_id</th>\n",
       "      <th>item_id</th>\n",
       "      <th>item_price</th>\n",
       "      <th>item_cnt_month</th>\n",
       "      <th>item_name</th>\n",
       "      <th>item_category_id</th>\n",
       "      <th>item_category_name</th>\n",
       "      <th>shop_name</th>\n",
       "      <th>month</th>\n",
       "      <th>city</th>\n",
       "      <th>city_code</th>\n",
       "      <th>type</th>\n",
       "      <th>type_code</th>\n",
       "      <th>subtype</th>\n",
       "      <th>subtype_code</th>\n",
       "    </tr>\n",
       "  </thead>\n",
       "  <tbody>\n",
       "    <tr>\n",
       "      <th>count</th>\n",
       "      <td>1.088451e+07</td>\n",
       "      <td>1.088451e+07</td>\n",
       "      <td>1.088451e+07</td>\n",
       "      <td>1.088451e+07</td>\n",
       "      <td>1.088451e+07</td>\n",
       "      <td>10884508</td>\n",
       "      <td>1.088451e+07</td>\n",
       "      <td>10884508</td>\n",
       "      <td>10884508</td>\n",
       "      <td>1.088451e+07</td>\n",
       "      <td>10884508</td>\n",
       "      <td>1.088451e+07</td>\n",
       "      <td>10884508</td>\n",
       "      <td>1.088451e+07</td>\n",
       "      <td>10884508</td>\n",
       "      <td>1.088451e+07</td>\n",
       "    </tr>\n",
       "    <tr>\n",
       "      <th>unique</th>\n",
       "      <td>NaN</td>\n",
       "      <td>NaN</td>\n",
       "      <td>NaN</td>\n",
       "      <td>NaN</td>\n",
       "      <td>NaN</td>\n",
       "      <td>21803</td>\n",
       "      <td>NaN</td>\n",
       "      <td>84</td>\n",
       "      <td>57</td>\n",
       "      <td>NaN</td>\n",
       "      <td>31</td>\n",
       "      <td>NaN</td>\n",
       "      <td>20</td>\n",
       "      <td>NaN</td>\n",
       "      <td>65</td>\n",
       "      <td>NaN</td>\n",
       "    </tr>\n",
       "    <tr>\n",
       "      <th>top</th>\n",
       "      <td>NaN</td>\n",
       "      <td>NaN</td>\n",
       "      <td>NaN</td>\n",
       "      <td>NaN</td>\n",
       "      <td>NaN</td>\n",
       "      <td>KRALL DIANA  Glad Rag Doll</td>\n",
       "      <td>NaN</td>\n",
       "      <td>Кино - DVD</td>\n",
       "      <td>Сургут ТРЦ \"Сити Молл\"</td>\n",
       "      <td>NaN</td>\n",
       "      <td>Москва</td>\n",
       "      <td>NaN</td>\n",
       "      <td>Кино</td>\n",
       "      <td>NaN</td>\n",
       "      <td>DVD</td>\n",
       "      <td>NaN</td>\n",
       "    </tr>\n",
       "    <tr>\n",
       "      <th>freq</th>\n",
       "      <td>NaN</td>\n",
       "      <td>NaN</td>\n",
       "      <td>NaN</td>\n",
       "      <td>NaN</td>\n",
       "      <td>NaN</td>\n",
       "      <td>1582</td>\n",
       "      <td>NaN</td>\n",
       "      <td>2490618</td>\n",
       "      <td>233801</td>\n",
       "      <td>NaN</td>\n",
       "      <td>2355708</td>\n",
       "      <td>NaN</td>\n",
       "      <td>4091140</td>\n",
       "      <td>NaN</td>\n",
       "      <td>2490618</td>\n",
       "      <td>NaN</td>\n",
       "    </tr>\n",
       "    <tr>\n",
       "      <th>mean</th>\n",
       "      <td>1.496180e+01</td>\n",
       "      <td>3.138661e+01</td>\n",
       "      <td>1.131009e+04</td>\n",
       "      <td>5.982492e+00</td>\n",
       "      <td>3.356675e-01</td>\n",
       "      <td>NaN</td>\n",
       "      <td>4.492021e+01</td>\n",
       "      <td>NaN</td>\n",
       "      <td>NaN</td>\n",
       "      <td>5.178508e+00</td>\n",
       "      <td>NaN</td>\n",
       "      <td>1.531598e+01</td>\n",
       "      <td>NaN</td>\n",
       "      <td>1.107177e+01</td>\n",
       "      <td>NaN</td>\n",
       "      <td>1.801203e+01</td>\n",
       "    </tr>\n",
       "    <tr>\n",
       "      <th>...</th>\n",
       "      <td>...</td>\n",
       "      <td>...</td>\n",
       "      <td>...</td>\n",
       "      <td>...</td>\n",
       "      <td>...</td>\n",
       "      <td>...</td>\n",
       "      <td>...</td>\n",
       "      <td>...</td>\n",
       "      <td>...</td>\n",
       "      <td>...</td>\n",
       "      <td>...</td>\n",
       "      <td>...</td>\n",
       "      <td>...</td>\n",
       "      <td>...</td>\n",
       "      <td>...</td>\n",
       "      <td>...</td>\n",
       "    </tr>\n",
       "    <tr>\n",
       "      <th>min</th>\n",
       "      <td>0.000000e+00</td>\n",
       "      <td>2.000000e+00</td>\n",
       "      <td>0.000000e+00</td>\n",
       "      <td>8.609300e-02</td>\n",
       "      <td>0.000000e+00</td>\n",
       "      <td>NaN</td>\n",
       "      <td>0.000000e+00</td>\n",
       "      <td>NaN</td>\n",
       "      <td>NaN</td>\n",
       "      <td>0.000000e+00</td>\n",
       "      <td>NaN</td>\n",
       "      <td>0.000000e+00</td>\n",
       "      <td>NaN</td>\n",
       "      <td>0.000000e+00</td>\n",
       "      <td>NaN</td>\n",
       "      <td>0.000000e+00</td>\n",
       "    </tr>\n",
       "    <tr>\n",
       "      <th>25%</th>\n",
       "      <td>7.000000e+00</td>\n",
       "      <td>1.600000e+01</td>\n",
       "      <td>5.976000e+03</td>\n",
       "      <td>5.298317e+00</td>\n",
       "      <td>0.000000e+00</td>\n",
       "      <td>NaN</td>\n",
       "      <td>3.700000e+01</td>\n",
       "      <td>NaN</td>\n",
       "      <td>NaN</td>\n",
       "      <td>2.000000e+00</td>\n",
       "      <td>NaN</td>\n",
       "      <td>1.000000e+01</td>\n",
       "      <td>NaN</td>\n",
       "      <td>1.100000e+01</td>\n",
       "      <td>NaN</td>\n",
       "      <td>2.000000e+00</td>\n",
       "    </tr>\n",
       "    <tr>\n",
       "      <th>50%</th>\n",
       "      <td>1.400000e+01</td>\n",
       "      <td>3.100000e+01</td>\n",
       "      <td>1.139100e+04</td>\n",
       "      <td>5.763586e+00</td>\n",
       "      <td>0.000000e+00</td>\n",
       "      <td>NaN</td>\n",
       "      <td>4.000000e+01</td>\n",
       "      <td>NaN</td>\n",
       "      <td>NaN</td>\n",
       "      <td>5.000000e+00</td>\n",
       "      <td>NaN</td>\n",
       "      <td>1.300000e+01</td>\n",
       "      <td>NaN</td>\n",
       "      <td>1.100000e+01</td>\n",
       "      <td>NaN</td>\n",
       "      <td>4.000000e+00</td>\n",
       "    </tr>\n",
       "    <tr>\n",
       "      <th>75%</th>\n",
       "      <td>2.300000e+01</td>\n",
       "      <td>4.700000e+01</td>\n",
       "      <td>1.660700e+04</td>\n",
       "      <td>6.457013e+00</td>\n",
       "      <td>0.000000e+00</td>\n",
       "      <td>NaN</td>\n",
       "      <td>5.500000e+01</td>\n",
       "      <td>NaN</td>\n",
       "      <td>NaN</td>\n",
       "      <td>8.000000e+00</td>\n",
       "      <td>NaN</td>\n",
       "      <td>2.200000e+01</td>\n",
       "      <td>NaN</td>\n",
       "      <td>1.300000e+01</td>\n",
       "      <td>NaN</td>\n",
       "      <td>3.200000e+01</td>\n",
       "    </tr>\n",
       "    <tr>\n",
       "      <th>max</th>\n",
       "      <td>3.300000e+01</td>\n",
       "      <td>5.900000e+01</td>\n",
       "      <td>2.216900e+04</td>\n",
       "      <td>1.083958e+01</td>\n",
       "      <td>1.644000e+03</td>\n",
       "      <td>NaN</td>\n",
       "      <td>8.300000e+01</td>\n",
       "      <td>NaN</td>\n",
       "      <td>NaN</td>\n",
       "      <td>1.100000e+01</td>\n",
       "      <td>NaN</td>\n",
       "      <td>3.000000e+01</td>\n",
       "      <td>NaN</td>\n",
       "      <td>1.900000e+01</td>\n",
       "      <td>NaN</td>\n",
       "      <td>6.400000e+01</td>\n",
       "    </tr>\n",
       "  </tbody>\n",
       "</table>\n",
       "<p>11 rows × 16 columns</p>\n",
       "</div>"
      ],
      "text/plain": [
       "        date_block_num       shop_id      ...        subtype  subtype_code\n",
       "count     1.088451e+07  1.088451e+07      ...       10884508  1.088451e+07\n",
       "unique             NaN           NaN      ...             65           NaN\n",
       "top                NaN           NaN      ...            DVD           NaN\n",
       "freq               NaN           NaN      ...        2490618           NaN\n",
       "mean      1.496180e+01  3.138661e+01      ...            NaN  1.801203e+01\n",
       "...                ...           ...      ...            ...           ...\n",
       "min       0.000000e+00  2.000000e+00      ...            NaN  0.000000e+00\n",
       "25%       7.000000e+00  1.600000e+01      ...            NaN  2.000000e+00\n",
       "50%       1.400000e+01  3.100000e+01      ...            NaN  4.000000e+00\n",
       "75%       2.300000e+01  4.700000e+01      ...            NaN  3.200000e+01\n",
       "max       3.300000e+01  5.900000e+01      ...            NaN  6.400000e+01\n",
       "\n",
       "[11 rows x 16 columns]"
      ]
     },
     "execution_count": 54,
     "metadata": {},
     "output_type": "execute_result"
    }
   ],
   "source": [
    "# describe block dataframe for month 0 - 33\n",
    "df_block[df_block['date_block_num'] != 34].describe(include='all')"
   ]
  },
  {
   "cell_type": "code",
   "execution_count": 55,
   "metadata": {},
   "outputs": [
    {
     "data": {
      "text/html": [
       "<div>\n",
       "<style scoped>\n",
       "    .dataframe tbody tr th:only-of-type {\n",
       "        vertical-align: middle;\n",
       "    }\n",
       "\n",
       "    .dataframe tbody tr th {\n",
       "        vertical-align: top;\n",
       "    }\n",
       "\n",
       "    .dataframe thead th {\n",
       "        text-align: right;\n",
       "    }\n",
       "</style>\n",
       "<table border=\"1\" class=\"dataframe\">\n",
       "  <thead>\n",
       "    <tr style=\"text-align: right;\">\n",
       "      <th></th>\n",
       "      <th>date_block_num</th>\n",
       "      <th>shop_id</th>\n",
       "      <th>item_id</th>\n",
       "      <th>item_price</th>\n",
       "      <th>item_cnt_month</th>\n",
       "      <th>item_name</th>\n",
       "      <th>item_category_id</th>\n",
       "      <th>item_category_name</th>\n",
       "      <th>shop_name</th>\n",
       "      <th>month</th>\n",
       "      <th>city</th>\n",
       "      <th>city_code</th>\n",
       "      <th>type</th>\n",
       "      <th>type_code</th>\n",
       "      <th>subtype</th>\n",
       "      <th>subtype_code</th>\n",
       "    </tr>\n",
       "  </thead>\n",
       "  <tbody>\n",
       "    <tr>\n",
       "      <th>count</th>\n",
       "      <td>214200.0</td>\n",
       "      <td>214200.000000</td>\n",
       "      <td>214200.000000</td>\n",
       "      <td>214200.000000</td>\n",
       "      <td>214200.0</td>\n",
       "      <td>214200</td>\n",
       "      <td>214200.000000</td>\n",
       "      <td>214200</td>\n",
       "      <td>214200</td>\n",
       "      <td>214200.0</td>\n",
       "      <td>214200</td>\n",
       "      <td>214200.000000</td>\n",
       "      <td>214200</td>\n",
       "      <td>214200.000000</td>\n",
       "      <td>214200</td>\n",
       "      <td>214200.00000</td>\n",
       "    </tr>\n",
       "    <tr>\n",
       "      <th>unique</th>\n",
       "      <td>NaN</td>\n",
       "      <td>NaN</td>\n",
       "      <td>NaN</td>\n",
       "      <td>NaN</td>\n",
       "      <td>NaN</td>\n",
       "      <td>5100</td>\n",
       "      <td>NaN</td>\n",
       "      <td>62</td>\n",
       "      <td>42</td>\n",
       "      <td>NaN</td>\n",
       "      <td>28</td>\n",
       "      <td>NaN</td>\n",
       "      <td>16</td>\n",
       "      <td>NaN</td>\n",
       "      <td>49</td>\n",
       "      <td>NaN</td>\n",
       "    </tr>\n",
       "    <tr>\n",
       "      <th>top</th>\n",
       "      <td>NaN</td>\n",
       "      <td>NaN</td>\n",
       "      <td>NaN</td>\n",
       "      <td>NaN</td>\n",
       "      <td>NaN</td>\n",
       "      <td>ДОРОГА НА БЕРЛИН</td>\n",
       "      <td>NaN</td>\n",
       "      <td>Кино - DVD</td>\n",
       "      <td>Тюмень ТРЦ \"Кристалл\"</td>\n",
       "      <td>NaN</td>\n",
       "      <td>Москва</td>\n",
       "      <td>NaN</td>\n",
       "      <td>Кино</td>\n",
       "      <td>NaN</td>\n",
       "      <td>DVD</td>\n",
       "      <td>NaN</td>\n",
       "    </tr>\n",
       "    <tr>\n",
       "      <th>freq</th>\n",
       "      <td>NaN</td>\n",
       "      <td>NaN</td>\n",
       "      <td>NaN</td>\n",
       "      <td>NaN</td>\n",
       "      <td>NaN</td>\n",
       "      <td>42</td>\n",
       "      <td>NaN</td>\n",
       "      <td>32340</td>\n",
       "      <td>5100</td>\n",
       "      <td>NaN</td>\n",
       "      <td>35700</td>\n",
       "      <td>NaN</td>\n",
       "      <td>53046</td>\n",
       "      <td>NaN</td>\n",
       "      <td>32340</td>\n",
       "      <td>NaN</td>\n",
       "    </tr>\n",
       "    <tr>\n",
       "      <th>mean</th>\n",
       "      <td>34.0</td>\n",
       "      <td>31.642857</td>\n",
       "      <td>11019.398627</td>\n",
       "      <td>6.331140</td>\n",
       "      <td>0.0</td>\n",
       "      <td>NaN</td>\n",
       "      <td>46.309608</td>\n",
       "      <td>NaN</td>\n",
       "      <td>NaN</td>\n",
       "      <td>10.0</td>\n",
       "      <td>NaN</td>\n",
       "      <td>15.452381</td>\n",
       "      <td>NaN</td>\n",
       "      <td>11.042549</td>\n",
       "      <td>NaN</td>\n",
       "      <td>22.78451</td>\n",
       "    </tr>\n",
       "    <tr>\n",
       "      <th>...</th>\n",
       "      <td>...</td>\n",
       "      <td>...</td>\n",
       "      <td>...</td>\n",
       "      <td>...</td>\n",
       "      <td>...</td>\n",
       "      <td>...</td>\n",
       "      <td>...</td>\n",
       "      <td>...</td>\n",
       "      <td>...</td>\n",
       "      <td>...</td>\n",
       "      <td>...</td>\n",
       "      <td>...</td>\n",
       "      <td>...</td>\n",
       "      <td>...</td>\n",
       "      <td>...</td>\n",
       "      <td>...</td>\n",
       "    </tr>\n",
       "    <tr>\n",
       "      <th>min</th>\n",
       "      <td>34.0</td>\n",
       "      <td>2.000000</td>\n",
       "      <td>30.000000</td>\n",
       "      <td>1.781915</td>\n",
       "      <td>0.0</td>\n",
       "      <td>NaN</td>\n",
       "      <td>0.000000</td>\n",
       "      <td>NaN</td>\n",
       "      <td>NaN</td>\n",
       "      <td>10.0</td>\n",
       "      <td>NaN</td>\n",
       "      <td>0.000000</td>\n",
       "      <td>NaN</td>\n",
       "      <td>0.000000</td>\n",
       "      <td>NaN</td>\n",
       "      <td>0.00000</td>\n",
       "    </tr>\n",
       "    <tr>\n",
       "      <th>25%</th>\n",
       "      <td>34.0</td>\n",
       "      <td>16.000000</td>\n",
       "      <td>5381.500000</td>\n",
       "      <td>5.739127</td>\n",
       "      <td>0.0</td>\n",
       "      <td>NaN</td>\n",
       "      <td>37.000000</td>\n",
       "      <td>NaN</td>\n",
       "      <td>NaN</td>\n",
       "      <td>10.0</td>\n",
       "      <td>NaN</td>\n",
       "      <td>10.000000</td>\n",
       "      <td>NaN</td>\n",
       "      <td>11.000000</td>\n",
       "      <td>NaN</td>\n",
       "      <td>4.00000</td>\n",
       "    </tr>\n",
       "    <tr>\n",
       "      <th>50%</th>\n",
       "      <td>34.0</td>\n",
       "      <td>34.500000</td>\n",
       "      <td>11203.000000</td>\n",
       "      <td>5.977139</td>\n",
       "      <td>0.0</td>\n",
       "      <td>NaN</td>\n",
       "      <td>43.000000</td>\n",
       "      <td>NaN</td>\n",
       "      <td>NaN</td>\n",
       "      <td>10.0</td>\n",
       "      <td>NaN</td>\n",
       "      <td>15.000000</td>\n",
       "      <td>NaN</td>\n",
       "      <td>12.000000</td>\n",
       "      <td>NaN</td>\n",
       "      <td>16.00000</td>\n",
       "    </tr>\n",
       "    <tr>\n",
       "      <th>75%</th>\n",
       "      <td>34.0</td>\n",
       "      <td>47.000000</td>\n",
       "      <td>16071.500000</td>\n",
       "      <td>7.222443</td>\n",
       "      <td>0.0</td>\n",
       "      <td>NaN</td>\n",
       "      <td>58.000000</td>\n",
       "      <td>NaN</td>\n",
       "      <td>NaN</td>\n",
       "      <td>10.0</td>\n",
       "      <td>NaN</td>\n",
       "      <td>22.000000</td>\n",
       "      <td>NaN</td>\n",
       "      <td>13.000000</td>\n",
       "      <td>NaN</td>\n",
       "      <td>41.00000</td>\n",
       "    </tr>\n",
       "    <tr>\n",
       "      <th>max</th>\n",
       "      <td>34.0</td>\n",
       "      <td>59.000000</td>\n",
       "      <td>22167.000000</td>\n",
       "      <td>10.313877</td>\n",
       "      <td>0.0</td>\n",
       "      <td>NaN</td>\n",
       "      <td>83.000000</td>\n",
       "      <td>NaN</td>\n",
       "      <td>NaN</td>\n",
       "      <td>10.0</td>\n",
       "      <td>NaN</td>\n",
       "      <td>30.000000</td>\n",
       "      <td>NaN</td>\n",
       "      <td>19.000000</td>\n",
       "      <td>NaN</td>\n",
       "      <td>64.00000</td>\n",
       "    </tr>\n",
       "  </tbody>\n",
       "</table>\n",
       "<p>11 rows × 16 columns</p>\n",
       "</div>"
      ],
      "text/plain": [
       "        date_block_num        shop_id      ...       subtype  subtype_code\n",
       "count         214200.0  214200.000000      ...        214200  214200.00000\n",
       "unique             NaN            NaN      ...            49           NaN\n",
       "top                NaN            NaN      ...           DVD           NaN\n",
       "freq               NaN            NaN      ...         32340           NaN\n",
       "mean              34.0      31.642857      ...           NaN      22.78451\n",
       "...                ...            ...      ...           ...           ...\n",
       "min               34.0       2.000000      ...           NaN       0.00000\n",
       "25%               34.0      16.000000      ...           NaN       4.00000\n",
       "50%               34.0      34.500000      ...           NaN      16.00000\n",
       "75%               34.0      47.000000      ...           NaN      41.00000\n",
       "max               34.0      59.000000      ...           NaN      64.00000\n",
       "\n",
       "[11 rows x 16 columns]"
      ]
     },
     "execution_count": 55,
     "metadata": {},
     "output_type": "execute_result"
    }
   ],
   "source": [
    "# describe block dataframe for month 34\n",
    "df_block[df_block['date_block_num'] == 34].describe(include='all')"
   ]
  },
  {
   "cell_type": "code",
   "execution_count": 56,
   "metadata": {},
   "outputs": [
    {
     "data": {
      "text/plain": [
       "<matplotlib.axes._subplots.AxesSubplot at 0x7fa96589fc50>"
      ]
     },
     "execution_count": 56,
     "metadata": {},
     "output_type": "execute_result"
    },
    {
     "data": {
      "image/png": "[encoded data removed]",
      "text/plain": [
       "<Figure size 1440x432 with 2 Axes>"
      ]
     },
     "metadata": {},
     "output_type": "display_data"
    }
   ],
   "source": [
    "# feature exploration: item price and number of products sold by item id 20949\n",
    "fig, axes = plt.subplots(figsize=(20 , 6), ncols=1, nrows=2)\n",
    "axes = axes.flatten()\n",
    "sns.scatterplot(x='date_block_num', y='item_cnt_month', data=df_block[df_block['item_id'] == 20949].groupby(['date_block_num'], as_index=False).agg({'item_cnt_month': 'mean'}), ax=axes[0])\n",
    "sns.boxplot(x='date_block_num', y='item_price', data=df_block[df_block['item_id'] == 20949], ax=axes[1])"
   ]
  },
  {
   "cell_type": "code",
   "execution_count": 57,
   "metadata": {},
   "outputs": [
    {
     "data": {
      "text/plain": [
       "<matplotlib.axes._subplots.AxesSubplot at 0x7fa89531bcc0>"
      ]
     },
     "execution_count": 57,
     "metadata": {},
     "output_type": "execute_result"
    },
    {
     "data": {
      "image/png": "[encoded data removed]",
      "text/plain": [
       "<Figure size 1440x432 with 2 Axes>"
      ]
     },
     "metadata": {},
     "output_type": "display_data"
    }
   ],
   "source": [
    "# feature exploration: item price and number of products sold by category id 71\n",
    "fig, axes = plt.subplots(figsize=(20 , 6), ncols=1, nrows=2)\n",
    "axes = axes.flatten()\n",
    "sns.scatterplot(x='date_block_num', y='item_cnt_month', data=df_block[df_block['item_category_id'] == 71].groupby(['date_block_num'], as_index=False).agg({'item_cnt_month': 'mean'}), ax=axes[0])\n",
    "sns.boxplot(x='date_block_num', y='item_price', data=df_block[df_block['item_category_id'] == 71], ax=axes[1])"
   ]
  },
  {
   "cell_type": "code",
   "execution_count": 58,
   "metadata": {},
   "outputs": [
    {
     "data": {
      "text/plain": [
       "<matplotlib.axes._subplots.AxesSubplot at 0x7fa7d624e7f0>"
      ]
     },
     "execution_count": 58,
     "metadata": {},
     "output_type": "execute_result"
    },
    {
     "data": {
      "image/png": "[encoded data removed]",
      "text/plain": [
       "<Figure size 1440x432 with 2 Axes>"
      ]
     },
     "metadata": {},
     "output_type": "display_data"
    }
   ],
   "source": [
    "# feature exploration: item price and number of products sold by category id 40\n",
    "fig, axes = plt.subplots(figsize=(20 , 6), ncols=1, nrows=2)\n",
    "axes = axes.flatten()\n",
    "sns.scatterplot(x='date_block_num', y='item_cnt_month', data=df_block[df_block['item_category_id'] == 40].groupby(['date_block_num'], as_index=False).agg({'item_cnt_month': 'mean'}), ax=axes[0])\n",
    "sns.boxplot(x='date_block_num', y='item_price', data=df_block[df_block['item_category_id'] == 40], ax=axes[1])"
   ]
  },
  {
   "cell_type": "code",
   "execution_count": 59,
   "metadata": {},
   "outputs": [
    {
     "data": {
      "text/plain": [
       "<matplotlib.axes._subplots.AxesSubplot at 0x7fa7e9ae3898>"
      ]
     },
     "execution_count": 59,
     "metadata": {},
     "output_type": "execute_result"
    },
    {
     "data": {
      "image/png": "[encoded data removed]",
      "text/plain": [
       "<Figure size 1440x432 with 2 Axes>"
      ]
     },
     "metadata": {},
     "output_type": "display_data"
    }
   ],
   "source": [
    "# feature exploration: item price and number of products sold by category id 40 and shop id 31\n",
    "fig, axes = plt.subplots(figsize=(20 , 6), ncols=1, nrows=2)\n",
    "axes = axes.flatten()\n",
    "sns.scatterplot(x='date_block_num', y='item_cnt_month', data=df_block[(df_block['item_category_id'] == 40) & (df_block['shop_id'] == 31)].groupby(['date_block_num'], as_index=False).agg({'item_cnt_month': 'mean'}), ax=axes[0])\n",
    "sns.boxplot(x='date_block_num', y='item_price', data=df_block[(df_block['item_category_id'] == 40) & (df_block['shop_id'] == 31)], ax=axes[1])"
   ]
  },
  {
   "cell_type": "code",
   "execution_count": 60,
   "metadata": {},
   "outputs": [
    {
     "data": {
      "text/plain": [
       "<matplotlib.axes._subplots.AxesSubplot at 0x7fa804220898>"
      ]
     },
     "execution_count": 60,
     "metadata": {},
     "output_type": "execute_result"
    },
    {
     "data": {
      "image/png": "[encoded data removed]",
      "text/plain": [
       "<Figure size 1440x432 with 2 Axes>"
      ]
     },
     "metadata": {},
     "output_type": "display_data"
    }
   ],
   "source": [
    "# feature exploration: item price and number of products sold by category id 40 and shop id 25\n",
    "fig, axes = plt.subplots(figsize=(20 , 6), ncols=1, nrows=2)\n",
    "axes = axes.flatten()\n",
    "sns.scatterplot(x='date_block_num', y='item_cnt_month', data=df_block[(df_block['item_category_id'] == 40) & (df_block['shop_id'] == 25)].groupby(['date_block_num'], as_index=False).agg({'item_cnt_month': 'mean'}), ax=axes[0])\n",
    "sns.boxplot(x='date_block_num', y='item_price', data=df_block[(df_block['item_category_id'] == 40) & (df_block['shop_id'] == 25)], ax=axes[1])"
   ]
  },
  {
   "cell_type": "code",
   "execution_count": 61,
   "metadata": {},
   "outputs": [
    {
     "data": {
      "text/plain": [
       "178"
      ]
     },
     "execution_count": 61,
     "metadata": {},
     "output_type": "execute_result"
    }
   ],
   "source": [
    "# memory clean-up\n",
    "df_block = df_block.drop(['item_name', 'item_category_name', 'shop_name', 'city', 'type', 'subtype'], axis=1)\n",
    "gc.collect()"
   ]
  },
  {
   "cell_type": "markdown",
   "metadata": {},
   "source": [
    "The exploratory data analysis resulting in,\n",
    "\n",
    "* **Date:** It can be seen that there are correlations between item price and number of products sold with date."
   ]
  },
  {
   "cell_type": "code",
   "execution_count": 62,
   "metadata": {},
   "outputs": [],
   "source": [
    "# feature extraction: shifted features for item price\n",
    "for i in [1]:\n",
    "    shifted = df_block[['date_block_num', 'shop_id', 'item_id', 'item_price']].copy(deep=True)\n",
    "    shifted.columns = ['date_block_num', 'shop_id','item_id', 'item_price_shift' + str(i)]\n",
    "    shifted['date_block_num'] = shifted['date_block_num'] + i\n",
    "    df_block = pd.merge(df_block, shifted, how='left', on=['date_block_num', 'shop_id', 'item_id'])"
   ]
  },
  {
   "cell_type": "code",
   "execution_count": 63,
   "metadata": {},
   "outputs": [],
   "source": [
    "# feature extraction: statistic features for item price by item, category, shop and date block\n",
    "df_block['item_price_by_category_date_mean'] = df_block.groupby(['date_block_num', 'item_category_id'])['item_price'].transform('mean').astype(np.float16)\n",
    "df_block['item_price_by_shop_date_mean'] = df_block.groupby(['date_block_num', 'shop_id'])['item_price'].transform('mean').astype(np.float16)"
   ]
  },
  {
   "cell_type": "code",
   "execution_count": 64,
   "metadata": {},
   "outputs": [],
   "source": [
    "# feature extraction: statistic shifted features for item price by item, category, shop and date block\n",
    "for i in [1]:\n",
    "    df_block['item_price_by_category_date_mean_shift' + str(i)] = df_block.groupby(['date_block_num', 'item_category_id'])['item_price_shift' + str(i)].transform('mean').astype(np.float16)\n",
    "    df_block['item_price_by_shop_date_mean_shift' + str(i)] = df_block.groupby(['date_block_num', 'shop_id'])['item_price_shift' + str(i)].transform('mean').astype(np.float16)"
   ]
  },
  {
   "cell_type": "code",
   "execution_count": 65,
   "metadata": {},
   "outputs": [],
   "source": [
    "# feature extraction: statistic shifted features for delta item price by item, category, shop and date block\n",
    "for i in [1]:\n",
    "    df_block['delta_item_price_by_category_date_mean_shift' + str(i)] = df_block['item_price_by_category_date_mean_shift' + str(i)] - df_block['item_price_by_category_date_mean']\n",
    "    df_block['delta_item_price_by_shop_date_mean_shift' + str(i)] = df_block['item_price_by_shop_date_mean_shift' + str(i)] - df_block['item_price_by_shop_date_mean']"
   ]
  },
  {
   "cell_type": "code",
   "execution_count": 66,
   "metadata": {},
   "outputs": [],
   "source": [
    "# feature extraction: set maximum and minimum limit for number of products sold\n",
    "df_block['item_cnt_month'] = df_block['item_cnt_month'].clip(0 ,20)"
   ]
  },
  {
   "cell_type": "code",
   "execution_count": 67,
   "metadata": {},
   "outputs": [],
   "source": [
    "# feature extraction: shifted features for number of products sold\n",
    "for i in [1, 2, 3, 6, 12]:\n",
    "    shifted = df_block[['date_block_num', 'shop_id', 'item_id', 'item_cnt_month']].copy(deep=True)\n",
    "    shifted.columns = ['date_block_num', 'shop_id','item_id', 'item_cnt_month_shift' + str(i)]\n",
    "    shifted['date_block_num'] = shifted['date_block_num'] + i\n",
    "    df_block = pd.merge(df_block, shifted, how='left', on=['date_block_num', 'shop_id', 'item_id'])"
   ]
  },
  {
   "cell_type": "code",
   "execution_count": 68,
   "metadata": {},
   "outputs": [],
   "source": [
    "# feature extraction: statistic features for number of products sold by item, category and shop\n",
    "df_block['item_cnt_month_by_category_mean'] = df_block.groupby(['item_category_id'])['item_cnt_month'].transform('mean').astype(np.float16)\n",
    "df_block['item_cnt_month_by_shop_mean'] = df_block.groupby(['shop_id'])['item_cnt_month'].transform('mean').astype(np.float16)\n",
    "df_block['item_cnt_month_by_category_shop_mean'] = df_block.groupby(['item_category_id', 'shop_id'])['item_cnt_month'].transform('mean').astype(np.float16)"
   ]
  },
  {
   "cell_type": "code",
   "execution_count": 69,
   "metadata": {},
   "outputs": [],
   "source": [
    "# feature extraction: statistic features for number of products sold by city, type and subtype\n",
    "df_block['item_cnt_month_by_city_mean'] = df_block.groupby(['city_code'])['item_cnt_month'].transform('mean').astype(np.float16)\n",
    "df_block['item_cnt_month_by_type_mean'] = df_block.groupby(['type_code'])['item_cnt_month'].transform('mean').astype(np.float16)\n",
    "df_block['item_cnt_month_by_subtype_mean'] = df_block.groupby(['subtype_code'])['item_cnt_month'].transform('mean').astype(np.float16)"
   ]
  },
  {
   "cell_type": "code",
   "execution_count": 70,
   "metadata": {},
   "outputs": [],
   "source": [
    "# feature extraction: statistic shifted features for number of products sold by item, category, shop and date block\n",
    "for i in [1, 2, 3, 6, 12]:\n",
    "    df_block['item_cnt_month_by_item_date_mean_shift' + str(i)] = df_block.groupby(['date_block_num', 'item_id'])['item_cnt_month_shift' + str(i)].transform('mean').astype(np.float16)\n",
    "    df_block['item_cnt_month_by_category_date_mean_shift' + str(i)] = df_block.groupby(['date_block_num', 'item_category_id'])['item_cnt_month_shift' + str(i)].transform('mean').astype(np.float16)\n",
    "    df_block['item_cnt_month_by_shop_date_mean_shift' + str(i)] = df_block.groupby(['date_block_num', 'shop_id'])['item_cnt_month_shift' + str(i)].transform('mean').astype(np.float16)\n",
    "    df_block['item_cnt_month_by_item_shop_date_mean_shift' + str(i)] = df_block.groupby(['date_block_num', 'item_id', 'shop_id'])['item_cnt_month_shift' + str(i)].transform('mean').astype(np.float16)\n",
    "    df_block['item_cnt_month_by_category_shop_date_mean_shift' + str(i)] = df_block.groupby(['date_block_num', 'item_category_id', 'shop_id'])['item_cnt_month_shift' + str(i)].transform('mean').astype(np.float16)"
   ]
  },
  {
   "cell_type": "code",
   "execution_count": 71,
   "metadata": {},
   "outputs": [],
   "source": [
    "# feature extraction: statistic shifted features for number of products sold by city, type, subtype and date block\n",
    "for i in [1, 2]:\n",
    "    df_block['item_cnt_month_by_city_date_mean_shift' + str(i)] = df_block.groupby(['date_block_num', 'city_code'])['item_cnt_month_shift' + str(i)].transform('mean').astype(np.float16)\n",
    "    df_block['item_cnt_month_by_type_date_mean_shift' + str(i)] = df_block.groupby(['date_block_num', 'type_code'])['item_cnt_month_shift' + str(i)].transform('mean').astype(np.float16)\n",
    "    df_block['item_cnt_month_by_subtype_date_mean_shift' + str(i)] = df_block.groupby(['date_block_num', 'subtype_code'])['item_cnt_month_shift' + str(i)].transform('mean').astype(np.float16)"
   ]
  },
  {
   "cell_type": "code",
   "execution_count": 72,
   "metadata": {},
   "outputs": [],
   "source": [
    "# feature extraction: drop first 12 months records\n",
    "df_block = df_block[df_block['date_block_num'] > 11]"
   ]
  },
  {
   "cell_type": "code",
   "execution_count": 73,
   "metadata": {},
   "outputs": [],
   "source": [
    "# feature extraction: fillna with 0\n",
    "col_fillnas = df_block.columns[df_block.isna().any()].tolist()\n",
    "df_block[col_fillnas] = df_block[col_fillnas].fillna(0)"
   ]
  },
  {
   "cell_type": "code",
   "execution_count": 74,
   "metadata": {},
   "outputs": [
    {
     "data": {
      "text/plain": [
       "21"
      ]
     },
     "execution_count": 74,
     "metadata": {},
     "output_type": "execute_result"
    }
   ],
   "source": [
    "# memory clean-up\n",
    "col_floats = [col for col in df_block.columns if df_block[col].dtypes == 'float64']\n",
    "col_ints = [col for col in df_block.columns if df_block[col].dtypes == 'int64']\n",
    "df_block[col_floats] = df_block[col_floats].astype(np.float16)\n",
    "df_block[col_ints] = df_block[col_ints].astype(np.int16)\n",
    "gc.collect()"
   ]
  },
  {
   "cell_type": "markdown",
   "metadata": {
    "_uuid": "4fe322218aa7f731f098e0482b1906889251a7f2"
   },
   "source": [
    "After extracting all features, it is required to convert category features to numerics features, a format suitable to feed into our Machine Learning models."
   ]
  },
  {
   "cell_type": "code",
   "execution_count": 75,
   "metadata": {
    "_uuid": "eb926e480c9c8a23c4459b24a570768412e891cd"
   },
   "outputs": [
    {
     "data": {
      "text/html": [
       "<div>\n",
       "<style scoped>\n",
       "    .dataframe tbody tr th:only-of-type {\n",
       "        vertical-align: middle;\n",
       "    }\n",
       "\n",
       "    .dataframe tbody tr th {\n",
       "        vertical-align: top;\n",
       "    }\n",
       "\n",
       "    .dataframe thead th {\n",
       "        text-align: right;\n",
       "    }\n",
       "</style>\n",
       "<table border=\"1\" class=\"dataframe\">\n",
       "  <thead>\n",
       "    <tr style=\"text-align: right;\">\n",
       "      <th></th>\n",
       "      <th>date_block_num</th>\n",
       "      <th>shop_id</th>\n",
       "      <th>item_id</th>\n",
       "      <th>item_price</th>\n",
       "      <th>item_cnt_month</th>\n",
       "      <th>item_category_id</th>\n",
       "      <th>month</th>\n",
       "      <th>city_code</th>\n",
       "      <th>type_code</th>\n",
       "      <th>subtype_code</th>\n",
       "      <th>item_price_shift1</th>\n",
       "      <th>item_price_by_category_date_mean</th>\n",
       "      <th>item_price_by_shop_date_mean</th>\n",
       "      <th>item_price_by_category_date_mean_shift1</th>\n",
       "      <th>item_price_by_shop_date_mean_shift1</th>\n",
       "      <th>delta_item_price_by_category_date_mean_shift1</th>\n",
       "      <th>delta_item_price_by_shop_date_mean_shift1</th>\n",
       "      <th>item_cnt_month_shift1</th>\n",
       "      <th>item_cnt_month_shift2</th>\n",
       "      <th>item_cnt_month_shift3</th>\n",
       "      <th>item_cnt_month_shift6</th>\n",
       "      <th>item_cnt_month_shift12</th>\n",
       "      <th>item_cnt_month_by_category_mean</th>\n",
       "      <th>item_cnt_month_by_shop_mean</th>\n",
       "      <th>item_cnt_month_by_category_shop_mean</th>\n",
       "      <th>item_cnt_month_by_city_mean</th>\n",
       "      <th>item_cnt_month_by_type_mean</th>\n",
       "      <th>item_cnt_month_by_subtype_mean</th>\n",
       "      <th>item_cnt_month_by_item_date_mean_shift1</th>\n",
       "      <th>item_cnt_month_by_category_date_mean_shift1</th>\n",
       "      <th>item_cnt_month_by_shop_date_mean_shift1</th>\n",
       "      <th>item_cnt_month_by_item_shop_date_mean_shift1</th>\n",
       "      <th>item_cnt_month_by_category_shop_date_mean_shift1</th>\n",
       "      <th>item_cnt_month_by_item_date_mean_shift2</th>\n",
       "      <th>item_cnt_month_by_category_date_mean_shift2</th>\n",
       "      <th>item_cnt_month_by_shop_date_mean_shift2</th>\n",
       "      <th>item_cnt_month_by_item_shop_date_mean_shift2</th>\n",
       "      <th>item_cnt_month_by_category_shop_date_mean_shift2</th>\n",
       "      <th>item_cnt_month_by_item_date_mean_shift3</th>\n",
       "      <th>item_cnt_month_by_category_date_mean_shift3</th>\n",
       "      <th>item_cnt_month_by_shop_date_mean_shift3</th>\n",
       "      <th>item_cnt_month_by_item_shop_date_mean_shift3</th>\n",
       "      <th>item_cnt_month_by_category_shop_date_mean_shift3</th>\n",
       "      <th>item_cnt_month_by_item_date_mean_shift6</th>\n",
       "      <th>item_cnt_month_by_category_date_mean_shift6</th>\n",
       "      <th>item_cnt_month_by_shop_date_mean_shift6</th>\n",
       "      <th>item_cnt_month_by_item_shop_date_mean_shift6</th>\n",
       "      <th>item_cnt_month_by_category_shop_date_mean_shift6</th>\n",
       "      <th>item_cnt_month_by_item_date_mean_shift12</th>\n",
       "      <th>item_cnt_month_by_category_date_mean_shift12</th>\n",
       "      <th>item_cnt_month_by_shop_date_mean_shift12</th>\n",
       "      <th>item_cnt_month_by_item_shop_date_mean_shift12</th>\n",
       "      <th>item_cnt_month_by_category_shop_date_mean_shift12</th>\n",
       "      <th>item_cnt_month_by_city_date_mean_shift1</th>\n",
       "      <th>item_cnt_month_by_type_date_mean_shift1</th>\n",
       "      <th>item_cnt_month_by_subtype_date_mean_shift1</th>\n",
       "      <th>item_cnt_month_by_city_date_mean_shift2</th>\n",
       "      <th>item_cnt_month_by_type_date_mean_shift2</th>\n",
       "      <th>item_cnt_month_by_subtype_date_mean_shift2</th>\n",
       "    </tr>\n",
       "  </thead>\n",
       "  <tbody>\n",
       "    <tr>\n",
       "      <th>count</th>\n",
       "      <td>6.619864e+06</td>\n",
       "      <td>6.619864e+06</td>\n",
       "      <td>6.619864e+06</td>\n",
       "      <td>6.619864e+06</td>\n",
       "      <td>6619864.0</td>\n",
       "      <td>6.619864e+06</td>\n",
       "      <td>6.619864e+06</td>\n",
       "      <td>6.619864e+06</td>\n",
       "      <td>6.619864e+06</td>\n",
       "      <td>6.619864e+06</td>\n",
       "      <td>6.619864e+06</td>\n",
       "      <td>6.619864e+06</td>\n",
       "      <td>6.619864e+06</td>\n",
       "      <td>6.619864e+06</td>\n",
       "      <td>6.619864e+06</td>\n",
       "      <td>6.619864e+06</td>\n",
       "      <td>6.619864e+06</td>\n",
       "      <td>6619864.0</td>\n",
       "      <td>6619864.0</td>\n",
       "      <td>6619864.0</td>\n",
       "      <td>6619864.0</td>\n",
       "      <td>6619864.0</td>\n",
       "      <td>6.619864e+06</td>\n",
       "      <td>6.619864e+06</td>\n",
       "      <td>6.619864e+06</td>\n",
       "      <td>6.619864e+06</td>\n",
       "      <td>6.619864e+06</td>\n",
       "      <td>6.619864e+06</td>\n",
       "      <td>6.619864e+06</td>\n",
       "      <td>6.619864e+06</td>\n",
       "      <td>6.619864e+06</td>\n",
       "      <td>6619864.0</td>\n",
       "      <td>6.619864e+06</td>\n",
       "      <td>6.619864e+06</td>\n",
       "      <td>6.619864e+06</td>\n",
       "      <td>6.619864e+06</td>\n",
       "      <td>6619864.0</td>\n",
       "      <td>6.619864e+06</td>\n",
       "      <td>6.619864e+06</td>\n",
       "      <td>6.619864e+06</td>\n",
       "      <td>6.619864e+06</td>\n",
       "      <td>6619864.0</td>\n",
       "      <td>6.619864e+06</td>\n",
       "      <td>6.619864e+06</td>\n",
       "      <td>6.619864e+06</td>\n",
       "      <td>6.619864e+06</td>\n",
       "      <td>6619864.0</td>\n",
       "      <td>6.619864e+06</td>\n",
       "      <td>6.619864e+06</td>\n",
       "      <td>6.619864e+06</td>\n",
       "      <td>6.619864e+06</td>\n",
       "      <td>6619864.0</td>\n",
       "      <td>6.619864e+06</td>\n",
       "      <td>6.619864e+06</td>\n",
       "      <td>6.619864e+06</td>\n",
       "      <td>6.619864e+06</td>\n",
       "      <td>6.619864e+06</td>\n",
       "      <td>6.619864e+06</td>\n",
       "      <td>6.619864e+06</td>\n",
       "    </tr>\n",
       "    <tr>\n",
       "      <th>mean</th>\n",
       "      <td>2.198128e+01</td>\n",
       "      <td>3.189521e+01</td>\n",
       "      <td>1.126466e+04</td>\n",
       "      <td>NaN</td>\n",
       "      <td>NaN</td>\n",
       "      <td>4.496229e+01</td>\n",
       "      <td>5.118828e+00</td>\n",
       "      <td>1.554849e+01</td>\n",
       "      <td>1.099756e+01</td>\n",
       "      <td>1.952673e+01</td>\n",
       "      <td>NaN</td>\n",
       "      <td>NaN</td>\n",
       "      <td>NaN</td>\n",
       "      <td>NaN</td>\n",
       "      <td>NaN</td>\n",
       "      <td>-2.449036e-03</td>\n",
       "      <td>NaN</td>\n",
       "      <td>NaN</td>\n",
       "      <td>NaN</td>\n",
       "      <td>NaN</td>\n",
       "      <td>NaN</td>\n",
       "      <td>NaN</td>\n",
       "      <td>NaN</td>\n",
       "      <td>NaN</td>\n",
       "      <td>NaN</td>\n",
       "      <td>NaN</td>\n",
       "      <td>NaN</td>\n",
       "      <td>NaN</td>\n",
       "      <td>NaN</td>\n",
       "      <td>NaN</td>\n",
       "      <td>NaN</td>\n",
       "      <td>NaN</td>\n",
       "      <td>NaN</td>\n",
       "      <td>NaN</td>\n",
       "      <td>NaN</td>\n",
       "      <td>NaN</td>\n",
       "      <td>NaN</td>\n",
       "      <td>NaN</td>\n",
       "      <td>NaN</td>\n",
       "      <td>NaN</td>\n",
       "      <td>NaN</td>\n",
       "      <td>NaN</td>\n",
       "      <td>NaN</td>\n",
       "      <td>NaN</td>\n",
       "      <td>NaN</td>\n",
       "      <td>NaN</td>\n",
       "      <td>NaN</td>\n",
       "      <td>NaN</td>\n",
       "      <td>NaN</td>\n",
       "      <td>NaN</td>\n",
       "      <td>NaN</td>\n",
       "      <td>NaN</td>\n",
       "      <td>NaN</td>\n",
       "      <td>NaN</td>\n",
       "      <td>NaN</td>\n",
       "      <td>NaN</td>\n",
       "      <td>NaN</td>\n",
       "      <td>NaN</td>\n",
       "      <td>NaN</td>\n",
       "    </tr>\n",
       "    <tr>\n",
       "      <th>std</th>\n",
       "      <td>6.460157e+00</td>\n",
       "      <td>1.727561e+01</td>\n",
       "      <td>6.272158e+03</td>\n",
       "      <td>0.000000e+00</td>\n",
       "      <td>0.0</td>\n",
       "      <td>1.573286e+01</td>\n",
       "      <td>3.390552e+00</td>\n",
       "      <td>7.998976e+00</td>\n",
       "      <td>2.976279e+00</td>\n",
       "      <td>2.085084e+01</td>\n",
       "      <td>0.000000e+00</td>\n",
       "      <td>0.000000e+00</td>\n",
       "      <td>0.000000e+00</td>\n",
       "      <td>0.000000e+00</td>\n",
       "      <td>0.000000e+00</td>\n",
       "      <td>3.219604e-02</td>\n",
       "      <td>0.000000e+00</td>\n",
       "      <td>0.0</td>\n",
       "      <td>0.0</td>\n",
       "      <td>0.0</td>\n",
       "      <td>0.0</td>\n",
       "      <td>0.0</td>\n",
       "      <td>0.000000e+00</td>\n",
       "      <td>0.000000e+00</td>\n",
       "      <td>0.000000e+00</td>\n",
       "      <td>0.000000e+00</td>\n",
       "      <td>0.000000e+00</td>\n",
       "      <td>0.000000e+00</td>\n",
       "      <td>0.000000e+00</td>\n",
       "      <td>0.000000e+00</td>\n",
       "      <td>0.000000e+00</td>\n",
       "      <td>0.0</td>\n",
       "      <td>0.000000e+00</td>\n",
       "      <td>0.000000e+00</td>\n",
       "      <td>0.000000e+00</td>\n",
       "      <td>0.000000e+00</td>\n",
       "      <td>0.0</td>\n",
       "      <td>0.000000e+00</td>\n",
       "      <td>0.000000e+00</td>\n",
       "      <td>0.000000e+00</td>\n",
       "      <td>0.000000e+00</td>\n",
       "      <td>0.0</td>\n",
       "      <td>0.000000e+00</td>\n",
       "      <td>0.000000e+00</td>\n",
       "      <td>0.000000e+00</td>\n",
       "      <td>0.000000e+00</td>\n",
       "      <td>0.0</td>\n",
       "      <td>0.000000e+00</td>\n",
       "      <td>0.000000e+00</td>\n",
       "      <td>0.000000e+00</td>\n",
       "      <td>0.000000e+00</td>\n",
       "      <td>0.0</td>\n",
       "      <td>0.000000e+00</td>\n",
       "      <td>0.000000e+00</td>\n",
       "      <td>0.000000e+00</td>\n",
       "      <td>0.000000e+00</td>\n",
       "      <td>0.000000e+00</td>\n",
       "      <td>0.000000e+00</td>\n",
       "      <td>0.000000e+00</td>\n",
       "    </tr>\n",
       "    <tr>\n",
       "      <th>min</th>\n",
       "      <td>1.200000e+01</td>\n",
       "      <td>2.000000e+00</td>\n",
       "      <td>0.000000e+00</td>\n",
       "      <td>4.055176e-01</td>\n",
       "      <td>0.0</td>\n",
       "      <td>0.000000e+00</td>\n",
       "      <td>0.000000e+00</td>\n",
       "      <td>0.000000e+00</td>\n",
       "      <td>0.000000e+00</td>\n",
       "      <td>0.000000e+00</td>\n",
       "      <td>0.000000e+00</td>\n",
       "      <td>1.763672e+00</td>\n",
       "      <td>5.882812e+00</td>\n",
       "      <td>0.000000e+00</td>\n",
       "      <td>0.000000e+00</td>\n",
       "      <td>-5.390625e-01</td>\n",
       "      <td>-1.328125e-01</td>\n",
       "      <td>0.0</td>\n",
       "      <td>0.0</td>\n",
       "      <td>0.0</td>\n",
       "      <td>0.0</td>\n",
       "      <td>0.0</td>\n",
       "      <td>1.686096e-02</td>\n",
       "      <td>3.167725e-02</td>\n",
       "      <td>0.000000e+00</td>\n",
       "      <td>9.979248e-02</td>\n",
       "      <td>1.686096e-02</td>\n",
       "      <td>1.686096e-02</td>\n",
       "      <td>0.000000e+00</td>\n",
       "      <td>0.000000e+00</td>\n",
       "      <td>0.000000e+00</td>\n",
       "      <td>0.0</td>\n",
       "      <td>0.000000e+00</td>\n",
       "      <td>0.000000e+00</td>\n",
       "      <td>0.000000e+00</td>\n",
       "      <td>0.000000e+00</td>\n",
       "      <td>0.0</td>\n",
       "      <td>0.000000e+00</td>\n",
       "      <td>0.000000e+00</td>\n",
       "      <td>0.000000e+00</td>\n",
       "      <td>0.000000e+00</td>\n",
       "      <td>0.0</td>\n",
       "      <td>0.000000e+00</td>\n",
       "      <td>0.000000e+00</td>\n",
       "      <td>0.000000e+00</td>\n",
       "      <td>0.000000e+00</td>\n",
       "      <td>0.0</td>\n",
       "      <td>0.000000e+00</td>\n",
       "      <td>0.000000e+00</td>\n",
       "      <td>0.000000e+00</td>\n",
       "      <td>0.000000e+00</td>\n",
       "      <td>0.0</td>\n",
       "      <td>0.000000e+00</td>\n",
       "      <td>0.000000e+00</td>\n",
       "      <td>0.000000e+00</td>\n",
       "      <td>0.000000e+00</td>\n",
       "      <td>0.000000e+00</td>\n",
       "      <td>0.000000e+00</td>\n",
       "      <td>0.000000e+00</td>\n",
       "    </tr>\n",
       "    <tr>\n",
       "      <th>25%</th>\n",
       "      <td>1.600000e+01</td>\n",
       "      <td>1.700000e+01</td>\n",
       "      <td>5.681000e+03</td>\n",
       "      <td>5.558594e+00</td>\n",
       "      <td>0.0</td>\n",
       "      <td>3.700000e+01</td>\n",
       "      <td>2.000000e+00</td>\n",
       "      <td>1.100000e+01</td>\n",
       "      <td>1.100000e+01</td>\n",
       "      <td>2.000000e+00</td>\n",
       "      <td>5.277344e+00</td>\n",
       "      <td>5.558594e+00</td>\n",
       "      <td>5.968750e+00</td>\n",
       "      <td>5.558594e+00</td>\n",
       "      <td>5.972656e+00</td>\n",
       "      <td>-3.906250e-03</td>\n",
       "      <td>-2.343750e-02</td>\n",
       "      <td>0.0</td>\n",
       "      <td>0.0</td>\n",
       "      <td>0.0</td>\n",
       "      <td>0.0</td>\n",
       "      <td>0.0</td>\n",
       "      <td>1.751709e-01</td>\n",
       "      <td>1.799316e-01</td>\n",
       "      <td>6.182861e-02</td>\n",
       "      <td>1.768799e-01</td>\n",
       "      <td>1.700439e-01</td>\n",
       "      <td>1.761475e-01</td>\n",
       "      <td>2.040100e-02</td>\n",
       "      <td>1.785889e-01</td>\n",
       "      <td>2.094727e-01</td>\n",
       "      <td>0.0</td>\n",
       "      <td>5.661011e-02</td>\n",
       "      <td>2.000427e-02</td>\n",
       "      <td>1.859131e-01</td>\n",
       "      <td>2.191162e-01</td>\n",
       "      <td>0.0</td>\n",
       "      <td>5.554199e-02</td>\n",
       "      <td>0.000000e+00</td>\n",
       "      <td>1.899414e-01</td>\n",
       "      <td>2.254639e-01</td>\n",
       "      <td>0.0</td>\n",
       "      <td>5.377197e-02</td>\n",
       "      <td>0.000000e+00</td>\n",
       "      <td>1.981201e-01</td>\n",
       "      <td>2.462158e-01</td>\n",
       "      <td>0.0</td>\n",
       "      <td>4.000854e-02</td>\n",
       "      <td>0.000000e+00</td>\n",
       "      <td>2.114258e-01</td>\n",
       "      <td>2.814941e-01</td>\n",
       "      <td>0.0</td>\n",
       "      <td>0.000000e+00</td>\n",
       "      <td>2.126465e-01</td>\n",
       "      <td>2.220459e-01</td>\n",
       "      <td>1.809082e-01</td>\n",
       "      <td>2.220459e-01</td>\n",
       "      <td>2.308350e-01</td>\n",
       "      <td>1.872559e-01</td>\n",
       "    </tr>\n",
       "    <tr>\n",
       "      <th>50%</th>\n",
       "      <td>2.200000e+01</td>\n",
       "      <td>3.300000e+01</td>\n",
       "      <td>1.137300e+04</td>\n",
       "      <td>5.761719e+00</td>\n",
       "      <td>0.0</td>\n",
       "      <td>4.000000e+01</td>\n",
       "      <td>5.000000e+00</td>\n",
       "      <td>1.400000e+01</td>\n",
       "      <td>1.100000e+01</td>\n",
       "      <td>9.000000e+00</td>\n",
       "      <td>5.593750e+00</td>\n",
       "      <td>5.761719e+00</td>\n",
       "      <td>6.097656e+00</td>\n",
       "      <td>5.761719e+00</td>\n",
       "      <td>6.050781e+00</td>\n",
       "      <td>0.000000e+00</td>\n",
       "      <td>-7.812500e-03</td>\n",
       "      <td>0.0</td>\n",
       "      <td>0.0</td>\n",
       "      <td>0.0</td>\n",
       "      <td>0.0</td>\n",
       "      <td>0.0</td>\n",
       "      <td>2.204590e-01</td>\n",
       "      <td>2.404785e-01</td>\n",
       "      <td>1.507568e-01</td>\n",
       "      <td>2.202148e-01</td>\n",
       "      <td>2.152100e-01</td>\n",
       "      <td>2.204590e-01</td>\n",
       "      <td>8.160400e-02</td>\n",
       "      <td>2.592773e-01</td>\n",
       "      <td>2.849121e-01</td>\n",
       "      <td>0.0</td>\n",
       "      <td>1.715088e-01</td>\n",
       "      <td>8.160400e-02</td>\n",
       "      <td>2.758789e-01</td>\n",
       "      <td>2.963867e-01</td>\n",
       "      <td>0.0</td>\n",
       "      <td>1.772461e-01</td>\n",
       "      <td>8.001709e-02</td>\n",
       "      <td>2.897949e-01</td>\n",
       "      <td>3.088379e-01</td>\n",
       "      <td>0.0</td>\n",
       "      <td>1.837158e-01</td>\n",
       "      <td>6.524658e-02</td>\n",
       "      <td>3.051758e-01</td>\n",
       "      <td>3.395996e-01</td>\n",
       "      <td>0.0</td>\n",
       "      <td>1.967773e-01</td>\n",
       "      <td>2.221680e-02</td>\n",
       "      <td>3.320312e-01</td>\n",
       "      <td>3.974609e-01</td>\n",
       "      <td>0.0</td>\n",
       "      <td>2.016602e-01</td>\n",
       "      <td>2.963867e-01</td>\n",
       "      <td>2.749023e-01</td>\n",
       "      <td>2.590332e-01</td>\n",
       "      <td>3.105469e-01</td>\n",
       "      <td>2.846680e-01</td>\n",
       "      <td>2.766113e-01</td>\n",
       "    </tr>\n",
       "    <tr>\n",
       "      <th>75%</th>\n",
       "      <td>2.700000e+01</td>\n",
       "      <td>4.700000e+01</td>\n",
       "      <td>1.653700e+04</td>\n",
       "      <td>6.628906e+00</td>\n",
       "      <td>0.0</td>\n",
       "      <td>5.600000e+01</td>\n",
       "      <td>8.000000e+00</td>\n",
       "      <td>2.200000e+01</td>\n",
       "      <td>1.300000e+01</td>\n",
       "      <td>3.500000e+01</td>\n",
       "      <td>6.367188e+00</td>\n",
       "      <td>6.562500e+00</td>\n",
       "      <td>6.136719e+00</td>\n",
       "      <td>6.566406e+00</td>\n",
       "      <td>6.128906e+00</td>\n",
       "      <td>3.906250e-03</td>\n",
       "      <td>7.812500e-03</td>\n",
       "      <td>0.0</td>\n",
       "      <td>0.0</td>\n",
       "      <td>0.0</td>\n",
       "      <td>0.0</td>\n",
       "      <td>0.0</td>\n",
       "      <td>2.414551e-01</td>\n",
       "      <td>2.927246e-01</td>\n",
       "      <td>3.256836e-01</td>\n",
       "      <td>4.672852e-01</td>\n",
       "      <td>2.812500e-01</td>\n",
       "      <td>2.414551e-01</td>\n",
       "      <td>2.443848e-01</td>\n",
       "      <td>3.515625e-01</td>\n",
       "      <td>3.876953e-01</td>\n",
       "      <td>0.0</td>\n",
       "      <td>3.784180e-01</td>\n",
       "      <td>2.448730e-01</td>\n",
       "      <td>3.581543e-01</td>\n",
       "      <td>4.038086e-01</td>\n",
       "      <td>0.0</td>\n",
       "      <td>3.947754e-01</td>\n",
       "      <td>2.448730e-01</td>\n",
       "      <td>3.757324e-01</td>\n",
       "      <td>4.196777e-01</td>\n",
       "      <td>0.0</td>\n",
       "      <td>4.086914e-01</td>\n",
       "      <td>2.391357e-01</td>\n",
       "      <td>4.055176e-01</td>\n",
       "      <td>4.697266e-01</td>\n",
       "      <td>0.0</td>\n",
       "      <td>4.453125e-01</td>\n",
       "      <td>1.904297e-01</td>\n",
       "      <td>4.729004e-01</td>\n",
       "      <td>5.483398e-01</td>\n",
       "      <td>0.0</td>\n",
       "      <td>4.875488e-01</td>\n",
       "      <td>5.415039e-01</td>\n",
       "      <td>3.708496e-01</td>\n",
       "      <td>3.515625e-01</td>\n",
       "      <td>5.473633e-01</td>\n",
       "      <td>3.979492e-01</td>\n",
       "      <td>3.583984e-01</td>\n",
       "    </tr>\n",
       "    <tr>\n",
       "      <th>max</th>\n",
       "      <td>3.400000e+01</td>\n",
       "      <td>5.900000e+01</td>\n",
       "      <td>2.216900e+04</td>\n",
       "      <td>1.083594e+01</td>\n",
       "      <td>20.0</td>\n",
       "      <td>8.300000e+01</td>\n",
       "      <td>1.100000e+01</td>\n",
       "      <td>3.000000e+01</td>\n",
       "      <td>1.900000e+01</td>\n",
       "      <td>6.400000e+01</td>\n",
       "      <td>1.067188e+01</td>\n",
       "      <td>1.031250e+01</td>\n",
       "      <td>6.332031e+00</td>\n",
       "      <td>1.019531e+01</td>\n",
       "      <td>6.281250e+00</td>\n",
       "      <td>2.890625e-01</td>\n",
       "      <td>4.296875e-02</td>\n",
       "      <td>20.0</td>\n",
       "      <td>20.0</td>\n",
       "      <td>20.0</td>\n",
       "      <td>20.0</td>\n",
       "      <td>20.0</td>\n",
       "      <td>1.253906e+01</td>\n",
       "      <td>1.097656e+00</td>\n",
       "      <td>2.000000e+01</td>\n",
       "      <td>7.978516e-01</td>\n",
       "      <td>4.164062e+00</td>\n",
       "      <td>1.253906e+01</td>\n",
       "      <td>1.954688e+01</td>\n",
       "      <td>1.923438e+01</td>\n",
       "      <td>2.234375e+00</td>\n",
       "      <td>20.0</td>\n",
       "      <td>2.000000e+01</td>\n",
       "      <td>1.953125e+01</td>\n",
       "      <td>1.918750e+01</td>\n",
       "      <td>2.312500e+00</td>\n",
       "      <td>20.0</td>\n",
       "      <td>2.000000e+01</td>\n",
       "      <td>1.953125e+01</td>\n",
       "      <td>1.917188e+01</td>\n",
       "      <td>2.396484e+00</td>\n",
       "      <td>20.0</td>\n",
       "      <td>2.000000e+01</td>\n",
       "      <td>1.956250e+01</td>\n",
       "      <td>1.917188e+01</td>\n",
       "      <td>2.728516e+00</td>\n",
       "      <td>20.0</td>\n",
       "      <td>2.000000e+01</td>\n",
       "      <td>1.956250e+01</td>\n",
       "      <td>1.910938e+01</td>\n",
       "      <td>2.656250e+00</td>\n",
       "      <td>20.0</td>\n",
       "      <td>2.000000e+01</td>\n",
       "      <td>1.225586e+00</td>\n",
       "      <td>1.729688e+01</td>\n",
       "      <td>1.923438e+01</td>\n",
       "      <td>1.295898e+00</td>\n",
       "      <td>1.746875e+01</td>\n",
       "      <td>1.918750e+01</td>\n",
       "    </tr>\n",
       "  </tbody>\n",
       "</table>\n",
       "</div>"
      ],
      "text/plain": [
       "       date_block_num                     ...                      item_cnt_month_by_subtype_date_mean_shift2\n",
       "count    6.619864e+06                     ...                                                    6.619864e+06\n",
       "mean     2.198128e+01                     ...                                                             NaN\n",
       "std      6.460157e+00                     ...                                                    0.000000e+00\n",
       "min      1.200000e+01                     ...                                                    0.000000e+00\n",
       "25%      1.600000e+01                     ...                                                    1.872559e-01\n",
       "50%      2.200000e+01                     ...                                                    2.766113e-01\n",
       "75%      2.700000e+01                     ...                                                    3.583984e-01\n",
       "max      3.400000e+01                     ...                                                    1.918750e+01\n",
       "\n",
       "[8 rows x 59 columns]"
      ]
     },
     "execution_count": 75,
     "metadata": {},
     "output_type": "execute_result"
    }
   ],
   "source": [
    "# describe block dataframe\n",
    "df_block.describe(include='all')"
   ]
  },
  {
   "cell_type": "code",
   "execution_count": 76,
   "metadata": {
    "_uuid": "4e12e08c58bc85345d595c3c7010db14c79a9b8e"
   },
   "outputs": [
    {
     "name": "stdout",
     "output_type": "stream",
     "text": [
      "<class 'pandas.core.frame.DataFrame'>\n",
      "Int64Index: 6619864 entries, 4478844 to 11098707\n",
      "Data columns (total 59 columns):\n",
      "date_block_num                                       int16\n",
      "shop_id                                              int16\n",
      "item_id                                              int16\n",
      "item_price                                           float16\n",
      "item_cnt_month                                       float16\n",
      "item_category_id                                     int16\n",
      "month                                                int16\n",
      "city_code                                            int16\n",
      "type_code                                            int16\n",
      "subtype_code                                         int16\n",
      "item_price_shift1                                    float16\n",
      "item_price_by_category_date_mean                     float16\n",
      "item_price_by_shop_date_mean                         float16\n",
      "item_price_by_category_date_mean_shift1              float16\n",
      "item_price_by_shop_date_mean_shift1                  float16\n",
      "delta_item_price_by_category_date_mean_shift1        float16\n",
      "delta_item_price_by_shop_date_mean_shift1            float16\n",
      "item_cnt_month_shift1                                float16\n",
      "item_cnt_month_shift2                                float16\n",
      "item_cnt_month_shift3                                float16\n",
      "item_cnt_month_shift6                                float16\n",
      "item_cnt_month_shift12                               float16\n",
      "item_cnt_month_by_category_mean                      float16\n",
      "item_cnt_month_by_shop_mean                          float16\n",
      "item_cnt_month_by_category_shop_mean                 float16\n",
      "item_cnt_month_by_city_mean                          float16\n",
      "item_cnt_month_by_type_mean                          float16\n",
      "item_cnt_month_by_subtype_mean                       float16\n",
      "item_cnt_month_by_item_date_mean_shift1              float16\n",
      "item_cnt_month_by_category_date_mean_shift1          float16\n",
      "item_cnt_month_by_shop_date_mean_shift1              float16\n",
      "item_cnt_month_by_item_shop_date_mean_shift1         float16\n",
      "item_cnt_month_by_category_shop_date_mean_shift1     float16\n",
      "item_cnt_month_by_item_date_mean_shift2              float16\n",
      "item_cnt_month_by_category_date_mean_shift2          float16\n",
      "item_cnt_month_by_shop_date_mean_shift2              float16\n",
      "item_cnt_month_by_item_shop_date_mean_shift2         float16\n",
      "item_cnt_month_by_category_shop_date_mean_shift2     float16\n",
      "item_cnt_month_by_item_date_mean_shift3              float16\n",
      "item_cnt_month_by_category_date_mean_shift3          float16\n",
      "item_cnt_month_by_shop_date_mean_shift3              float16\n",
      "item_cnt_month_by_item_shop_date_mean_shift3         float16\n",
      "item_cnt_month_by_category_shop_date_mean_shift3     float16\n",
      "item_cnt_month_by_item_date_mean_shift6              float16\n",
      "item_cnt_month_by_category_date_mean_shift6          float16\n",
      "item_cnt_month_by_shop_date_mean_shift6              float16\n",
      "item_cnt_month_by_item_shop_date_mean_shift6         float16\n",
      "item_cnt_month_by_category_shop_date_mean_shift6     float16\n",
      "item_cnt_month_by_item_date_mean_shift12             float16\n",
      "item_cnt_month_by_category_date_mean_shift12         float16\n",
      "item_cnt_month_by_shop_date_mean_shift12             float16\n",
      "item_cnt_month_by_item_shop_date_mean_shift12        float16\n",
      "item_cnt_month_by_category_shop_date_mean_shift12    float16\n",
      "item_cnt_month_by_city_date_mean_shift1              float16\n",
      "item_cnt_month_by_type_date_mean_shift1              float16\n",
      "item_cnt_month_by_subtype_date_mean_shift1           float16\n",
      "item_cnt_month_by_city_date_mean_shift2              float16\n",
      "item_cnt_month_by_type_date_mean_shift2              float16\n",
      "item_cnt_month_by_subtype_date_mean_shift2           float16\n",
      "dtypes: float16(51), int16(8)\n",
      "memory usage: 795.5 MB\n"
     ]
    }
   ],
   "source": [
    "# verify dtypes object\n",
    "df_block.info()"
   ]
  },
  {
   "cell_type": "markdown",
   "metadata": {
    "_uuid": "89507ef7f98ffafeef409a70c09fb83403ac44ef"
   },
   "source": [
    "> **Analyze and identify patterns by visualizations**\n",
    "\n",
    "Let us generate some correlation plots of the features to see how related one feature is to the next. To do so, we will utilize the Seaborn plotting package which allows us to plot very conveniently as follows.\n",
    "\n",
    "The Pearson Correlation plot can tell us the correlation between features with one another. If there is no strongly correlated between features, this means that there isn't much redundant or superfluous data in our training data. This plot is also useful to determine which features are correlated to the observed value.\n",
    "\n",
    "The pairplots is also useful to observe the distribution of the training data from one feature to the other.\n",
    "\n",
    "The pivot table is also another useful method to observe the impact between features."
   ]
  },
  {
   "cell_type": "markdown",
   "metadata": {
    "_uuid": "0300de3ea2f28837077f0e0f5cfa63d9fd35a9dc"
   },
   "source": [
    "> **Model, predict and solve the problem**\n",
    "\n",
    "Now, it is time to feed the features to Machine Learning models."
   ]
  },
  {
   "cell_type": "code",
   "execution_count": 77,
   "metadata": {},
   "outputs": [],
   "source": [
    "# perform train-test (validate) split\n",
    "x_train = df_block[df_block['date_block_num'] < 33].drop(['item_cnt_month'], axis=1)\n",
    "y_train = df_block.loc[df_block['date_block_num'] < 33]['item_cnt_month']\n",
    "x_validate = df_block[df_block['date_block_num'] == 33].drop(['item_cnt_month'], axis=1)\n",
    "y_validate = df_block.loc[df_block['date_block_num'] == 33]['item_cnt_month']"
   ]
  },
  {
   "cell_type": "code",
   "execution_count": 78,
   "metadata": {
    "_uuid": "da1e55ae5883cb9c149861ae690778dcce6cbc15"
   },
   "outputs": [
    {
     "name": "stderr",
     "output_type": "stream",
     "text": [
      "/opt/conda/lib/python3.6/site-packages/xgboost/core.py:587: FutureWarning: Series.base is deprecated and will be removed in a future version\n",
      "  if getattr(data, 'base', None) is not None and \\\n",
      "/opt/conda/lib/python3.6/site-packages/xgboost/core.py:588: FutureWarning: Series.base is deprecated and will be removed in a future version\n",
      "  data.base is not None and isinstance(data, np.ndarray) \\\n"
     ]
    },
    {
     "name": "stdout",
     "output_type": "stream",
     "text": [
      "[0]\tvalidation_0-rmse:1.03358\n",
      "[10]\tvalidation_0-rmse:0.796206\n",
      "[20]\tvalidation_0-rmse:0.780548\n",
      "[30]\tvalidation_0-rmse:0.787615\n",
      "xgboost regression\n",
      "  root mean squared error: 0.7779\n"
     ]
    }
   ],
   "source": [
    "# xgboost regression model setup\n",
    "model_xgbreg = xgb.XGBRegressor(booster='gbtree', learning_rate=0.3, n_estimators=200, objective='reg:linear', random_state=58,\n",
    "                                colsample_bytree=0.8, max_depth=8, reg_alpha=0, reg_lambda=1, subsample=0.8)\n",
    "\n",
    "# xgboost regression model fit\n",
    "model_xgbreg.fit(x_train, y_train, early_stopping_rounds=10, eval_set=[(x_validate, y_validate)], verbose=False,\n",
    "                 callbacks=[xgb.callback.print_evaluation(period=10)])\n",
    "\n",
    "# xgboost regression model prediction\n",
    "model_xgbreg_ypredict = model_xgbreg.predict(x_validate)\n",
    "\n",
    "# xgboost regression model metrics\n",
    "model_xgbreg_rmse = mean_squared_error(y_validate, model_xgbreg_ypredict) ** 0.5\n",
    "print('xgboost regression\\n  root mean squared error: %0.4f' %model_xgbreg_rmse)"
   ]
  },
  {
   "cell_type": "code",
   "execution_count": 79,
   "metadata": {},
   "outputs": [
    {
     "data": {
      "text/plain": [
       "<matplotlib.axes._subplots.AxesSubplot at 0x7fa779c311d0>"
      ]
     },
     "execution_count": 79,
     "metadata": {},
     "output_type": "execute_result"
    },
    {
     "data": {
      "image/png": "[encoded data removed]",
      "text/plain": [
       "<Figure size 10800x1440 with 1 Axes>"
      ]
     },
     "metadata": {},
     "output_type": "display_data"
    }
   ],
   "source": [
    "# plot the feature importances\n",
    "fig, axes = plt.subplots(figsize=(150 , 20))\n",
    "xgb.plot_importance(model_xgbreg, ax=axes)"
   ]
  },
  {
   "cell_type": "code",
   "execution_count": 80,
   "metadata": {},
   "outputs": [],
   "source": [
    "# memory clean-up\n",
    "del x_train, x_validate, y_train, y_validate"
   ]
  },
  {
   "cell_type": "markdown",
   "metadata": {
    "_uuid": "e2bc8e7bd6741eb6ea5b98d1fc28d4006595e156"
   },
   "source": [
    "> **Supply or submit the results**\n",
    "\n",
    "Our submission to the competition site Kaggle is ready. Any suggestions to improve our score are welcome."
   ]
  },
  {
   "cell_type": "code",
   "execution_count": 81,
   "metadata": {},
   "outputs": [],
   "source": [
    "# feature extraction: fix the duplicated shop id\n",
    "df_test.loc[df_test['shop_id'] == 0, 'shop_id'] = 57\n",
    "df_test.loc[df_test['shop_id'] == 1, 'shop_id'] = 58\n",
    "df_test.loc[df_test['shop_id'] == 11, 'shop_id'] = 10"
   ]
  },
  {
   "cell_type": "code",
   "execution_count": 82,
   "metadata": {
    "_uuid": "8300d72f6cf2e78f7ad5f47d92aad01ce249768d"
   },
   "outputs": [],
   "source": [
    "# model selection\n",
    "final_model = model_xgbreg\n",
    "\n",
    "# prepare testing data and compute the observed value\n",
    "x_test = df_block[df_block['date_block_num'] == 34].drop(['item_cnt_month'], axis=1)\n",
    "y_test = pd.DataFrame({'item_cnt_month': final_model.predict(x_test).clip(0 ,20), 'shop_id': x_test['shop_id'], 'item_id': x_test['item_id']}, index=x_test.index)\n",
    "y_test = pd.merge(y_test, df_test[['ID', 'shop_id', 'item_id']], how='left', on=['shop_id', 'item_id'])"
   ]
  },
  {
   "cell_type": "code",
   "execution_count": 83,
   "metadata": {
    "_uuid": "9d094747e8b8528ee5bbc5ab242fedb2f3d0c890"
   },
   "outputs": [],
   "source": [
    "# summit the results\n",
    "out = pd.DataFrame({'ID': y_test['ID'], 'item_cnt_month': y_test['item_cnt_month']})\n",
    "out.to_csv('submission.csv', index=False)"
   ]
  }
 ],
 "metadata": {
  "kernelspec": {
   "display_name": "Python 3",
   "language": "python",
   "name": "python3"
  },
  "language_info": {
   "codemirror_mode": {
    "name": "ipython",
    "version": 3
   },
   "file_extension": ".py",
   "mimetype": "text/x-python",
   "name": "python",
   "nbconvert_exporter": "python",
   "pygments_lexer": "ipython3",
   "version": "3.6.6"
  }
 },
 "nbformat": 4,
 "nbformat_minor": 1
}
