{
  "cells": [
    {
      "metadata": {
        "_uuid": "8f2839f25d086af736a60e9eeb907d3b93b6e0e5",
        "_cell_guid": "b1076dfc-b9ad-4769-8c92-a6c4dae69d19",
        "trusted": true
      },
      "cell_type": "code",
      "source": "import matplotlib.pyplot as plt, numpy as np, pandas as pd, seaborn as sns\n\n# train-test split and preprocessing\nfrom sklearn.model_selection import train_test_split\nfrom sklearn.preprocessing import Normalizer\n\n# model\nfrom sklearn.linear_model import LogisticRegression\nfrom sklearn.tree import DecisionTreeClassifier\nfrom sklearn.ensemble import RandomForestClassifier\nfrom sklearn.neural_network import MLPClassifier\n\n# metrics\nfrom sklearn.metrics import accuracy_score, f1_score, precision_score, recall_score\nfrom sklearn.metrics import confusion_matrix, precision_recall_curve, roc_auc_score, roc_curve",
      "execution_count": null,
      "outputs": []
    },
    {
      "metadata": {
        "_cell_guid": "79c7e3d0-c299-4dcb-8224-4455121ee9b0",
        "_uuid": "d629ff2d2480ee46fbb7e2d37f6b5fab8052498a",
        "trusted": true
      },
      "cell_type": "code",
      "source": "\"\"\" acquire training and testing data \"\"\"\ntrain_df = pd.read_csv('../input/train.csv')\ntest_df = pd.read_csv('../input/test.csv')",
      "execution_count": null,
      "outputs": []
    },
    {
      "metadata": {
        "trusted": true,
        "_uuid": "f8df1e7aa862ab5442b0c5c473377aef9e6c7fd7"
      },
      "cell_type": "code",
      "source": "# describe training data\ntrain_df.describe(include='all')",
      "execution_count": null,
      "outputs": []
    },
    {
      "metadata": {
        "trusted": true,
        "_uuid": "8cd49ed40577a6c6a5c76622bde61b1c544366db"
      },
      "cell_type": "code",
      "source": "# describe testing data\ntest_df.describe(include='all')",
      "execution_count": null,
      "outputs": []
    },
    {
      "metadata": {
        "trusted": true,
        "_uuid": "78fd951fdddb4f1e5d24b980b17cbf005e8e8c4c"
      },
      "cell_type": "code",
      "source": "# head training data\ntrain_df.head(n=5)",
      "execution_count": null,
      "outputs": []
    },
    {
      "metadata": {
        "trusted": true,
        "_uuid": "deae8aae6eda8991164f2188d25fa6a8232cb573"
      },
      "cell_type": "code",
      "source": "# tail testing data\ntest_df.tail(n=5)",
      "execution_count": null,
      "outputs": []
    },
    {
      "metadata": {
        "trusted": true,
        "_uuid": "7f60284c77dd61a1122073d993255f48c9367969"
      },
      "cell_type": "code",
      "source": "\"\"\" wrangle, prepare, cleanse the data \"\"\"\nfor df in (train_df, test_df):\n    df['Title'] = df['Name'].str.extract(r' ([A-Za-z]+)\\.', expand=False).map({'Mr': 0, 'Miss': 1, 'Mrs': 2, 'Master': 3, 'Dr': 4, 'Rev': 4, 'Mlle': 1, 'Col': 4, 'Major': 4, 'Countess': 4, 'Don': 4, 'Lady': 4, 'Jonkheer': 4, 'Mme': 2, 'Sir': 4, 'Ms': 1, 'Capt': 4, 'Dona': 4}).astype(int)\n    df['Sex'] = df['Sex'].map({'female': 0, 'male': 1}).astype(int)\n    df['Age'] = df['Age'].fillna(df['Age'].mean())\n    df['Family'] = df['SibSp'] + df['Parch'] + 1\n    df['Ticket'] = df['Ticket'].str.extract(r'([A-Za-z]+)', expand=False).apply(lambda x: 0 if pd.isnull(x) else 1)\n    df['Fare'] = df['Fare'].fillna(df['Fare'].mean())\n    df['Cabin'] = df['Cabin'].apply(lambda x: 0 if pd.isnull(x) else 1)\n    df['Embarked'] = df['Embarked'].fillna('S').map({'S': 0, 'C': 1, 'Q': 2}).astype(int)",
      "execution_count": null,
      "outputs": []
    },
    {
      "metadata": {
        "trusted": true,
        "_uuid": "aef434722fc2987545c0dd4364835c61a4496acd"
      },
      "cell_type": "code",
      "source": "# value counts training data\ntrain_df['Embarked'].value_counts()",
      "execution_count": null,
      "outputs": []
    },
    {
      "metadata": {
        "trusted": true,
        "scrolled": false,
        "_uuid": "a3a61c8b4bacd02bc2b73d208a2ffc876854907b"
      },
      "cell_type": "code",
      "source": "# value counts testing data\ntest_df['Embarked'].value_counts()",
      "execution_count": null,
      "outputs": []
    },
    {
      "metadata": {
        "trusted": true,
        "_uuid": "f9dd3bfc09671d0f9029fbea8bd4e0ce6129d39c"
      },
      "cell_type": "code",
      "source": "\"\"\" analyze, identify patterns, and explore the data \"\"\"\nx = train_df.drop(['PassengerId', 'Survived', 'Name', 'SibSp', 'Parch'], axis=1)\ny = train_df['Survived']\n\n# pairgrid for training data\ngrd = sns.PairGrid(pd.concat([x, y], axis=1), hue='Survived', palette=\"Oranges\")\ngrd = grd.map(plt.scatter)\ngrd = grd.add_legend()",
      "execution_count": null,
      "outputs": []
    },
    {
      "metadata": {
        "trusted": true,
        "_uuid": "16674ad095d2acf566fbf3fdefb92f7a75f39d66"
      },
      "cell_type": "code",
      "source": "\"\"\" model, predict and solve the problem \"\"\"\n\n# train-test split\nx_train, x_validate, y_train, y_validate = train_test_split(x, y, random_state=0, test_size=0.25)\n\n# model\nlogreg = LogisticRegression().fit(x_train, y_train)\nlogreg_ypredict = logreg.predict(x_validate)\nlogreg_f1score, logreg_auc = f1_score(y_validate, logreg_ypredict), roc_auc_score(y_validate, logreg_ypredict)\nprint('logistic regression\\t f1 score: %f, auc: %f' %(logreg_f1score, logreg_auc))\n\ntreeclf = DecisionTreeClassifier(max_depth=8, min_samples_leaf=5, splitter='best').fit(x_train, y_train)\ntreeclf_ypredict = treeclf.predict(x_validate)\ntreeclf_f1score, treeclf_auc = f1_score(y_validate, treeclf_ypredict), roc_auc_score(y_validate, treeclf_ypredict)\nprint('decision tree classifier\\t f1 score: %f, auc: %f' %(treeclf_f1score, treeclf_auc))\n\nforestclf = RandomForestClassifier(max_depth=20, min_samples_leaf=2, n_estimators=250, random_state=0).fit(x_train, y_train)\nforestclf_ypredict = forestclf.predict(x_validate)\nforestclf_f1score, forestclf_auc = f1_score(y_validate, forestclf_ypredict), roc_auc_score(y_validate, forestclf_ypredict)\nprint('random forest classifier\\t f1 score: %f, auc: %f' %(forestclf_f1score, forestclf_auc))\n\nnnclf = MLPClassifier(activation='logistic', hidden_layer_sizes=[20, 10], max_iter=9999, random_state=0).fit(x_train, y_train)\nnnclf_ypredict = nnclf.predict(x_validate)\nnnclf_f1score, nnclf_auc = f1_score(y_validate, nnclf_ypredict), roc_auc_score(y_validate, nnclf_ypredict)\nprint('neural network classifier\\t f1 score: %f, auc: %f' %(nnclf_f1score, nnclf_auc))",
      "execution_count": null,
      "outputs": []
    },
    {
      "metadata": {
        "trusted": true,
        "_uuid": "5e9bcb0e8494749170da57d4a8afe006d05e6f25"
      },
      "cell_type": "code",
      "source": "\"\"\" visualize, report, and present the problem solving steps and final solution \"\"\"\nmodel = forestclf",
      "execution_count": null,
      "outputs": []
    },
    {
      "metadata": {
        "trusted": true,
        "_uuid": "6800a1ce50f2a9fdb08879795f221876c9c8ad79"
      },
      "cell_type": "code",
      "source": "\"\"\" supply or submit the results \"\"\"\nx_test = test_df.drop(['PassengerId', 'Name', 'SibSp', 'Parch'], axis=1)\ny_test = model.predict(x_test)\n\nout = pd.DataFrame({'PassengerId': test_df['PassengerId'], 'Survived': y_test})\nout.to_csv('submission.csv', index=False)",
      "execution_count": null,
      "outputs": []
    },
    {
      "metadata": {
        "trusted": true,
        "_uuid": "d7caed9a5769a47e3251cf15b109f2fd51f3d466"
      },
      "cell_type": "code",
      "source": "",
      "execution_count": null,
      "outputs": []
    }
  ],
  "metadata": {
    "kernelspec": {
      "display_name": "Python 3",
      "language": "python",
      "name": "python3"
    },
    "language_info": {
      "name": "python",
      "version": "3.6.6",
      "mimetype": "text/x-python",
      "codemirror_mode": {
        "name": "ipython",
        "version": 3
      },
      "pygments_lexer": "ipython3",
      "nbconvert_exporter": "python",
      "file_extension": ".py"
    }
  },
  "nbformat": 4,
  "nbformat_minor": 1
}